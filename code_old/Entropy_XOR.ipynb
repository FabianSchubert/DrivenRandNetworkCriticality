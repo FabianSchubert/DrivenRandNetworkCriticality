{
 "cells": [
  {
   "cell_type": "code",
   "execution_count": 63,
   "metadata": {},
   "outputs": [],
   "source": [
    "%matplotlib inline\n",
    "\n",
    "import numpy as np\n",
    "import matplotlib.pyplot as plt\n",
    "import seaborn as sns\n",
    "sns.set()\n",
    "\n",
    "from tqdm import tqdm_notebook as tqdm\n",
    "\n",
    "from esn_module import esn\n",
    "\n",
    "from multiprocessing.dummy import Pool\n",
    "from multiprocessing import Lock\n",
    "\n",
    "import time\n",
    "\n",
    "path = \"/mnt/ceph/fschubert/data/max_lyap_sweep/\"\n",
    "\n",
    "filename = \"Entropy_xor_input.npy\""
   ]
  },
  {
   "cell_type": "code",
   "execution_count": 64,
   "metadata": {},
   "outputs": [],
   "source": [
    "n_sweep_sigm_e = 30\n",
    "n_sweep_sigm_t = 30\n",
    "\n",
    "sigm_e = np.linspace(0.,1.5,n_sweep_sigm_e)\n",
    "sigm_t = np.linspace(0.,.9,n_sweep_sigm_t)\n",
    "\n",
    "sigm_t_ax = np.linspace(0.,sigm_t[-1]+(sigm_t[-1]-sigm_t[-2]),n_sweep_sigm_t+1)\n",
    "sigm_e_ax = np.linspace(0.,sigm_e[-1]+(sigm_e[-1]-sigm_e[-2]),n_sweep_sigm_e+1)\n",
    "\n",
    "n_t_adapt = 150000\n",
    "\n",
    "n_t_sample = 100000\n",
    "\n",
    "nbins = 50\n",
    "bins = np.linspace(-1.,1.,nbins+1)\n",
    "\n",
    "H_list = np.ndarray((n_sweep_sigm_e,n_sweep_sigm_t,1000))"
   ]
  },
  {
   "cell_type": "code",
   "execution_count": 65,
   "metadata": {},
   "outputs": [
    {
     "name": "stdout",
     "output_type": "stream",
     "text": [
      "0/900 0.00 minutes elapsed, approx. 0.01 min to go\n",
      "38/900 0.00 minutes elapsed, approx. 0.03 min to go\n",
      "76/900 0.00 minutes elapsed, approx. 0.02 min to go\n",
      "114/900 0.00 minutes elapsed, approx. 0.01 min to go\n",
      "152/900 0.00 minutes elapsed, approx. 0.01 min to go\n",
      "190/900 0.00 minutes elapsed, approx. 0.02 min to go\n",
      "1/900 19.61 minutes elapsed, approx. 41:42 h to go\n",
      "153/900 19.77 minutes elapsed, approx. 36:44 h to go\n",
      "191/900 19.98 minutes elapsed, approx. 32:58 h to go\n",
      "77/900 19.99 minutes elapsed, approx. 29:38 h to go\n",
      "39/900 20.04 minutes elapsed, approx. 26:59 h to go\n",
      "115/900 20.15 minutes elapsed, approx. 24:51 h to go\n",
      "2/900 37.09 minutes elapsed, approx. 42:11 h to go\n",
      "154/900 37.21 minutes elapsed, approx. 39:14 h to go\n",
      "78/900 37.62 minutes elapsed, approx. 36:59 h to go\n",
      "192/900 37.66 minutes elapsed, approx. 34:40 h to go\n",
      "40/900 37.76 minutes elapsed, approx. 32:41 h to go\n",
      "116/900 37.98 minutes elapsed, approx. 31:0 h to go\n"
     ]
    },
    {
     "ename": "KeyboardInterrupt",
     "evalue": "",
     "output_type": "error",
     "traceback": [
      "\u001b[0;31m---------------------------------------------------------------------------\u001b[0m",
      "\u001b[0;31mKeyboardInterrupt\u001b[0m                         Traceback (most recent call last)",
      "\u001b[0;32m<ipython-input-65-d04ee4196181>\u001b[0m in \u001b[0;36m<module>\u001b[0;34m\u001b[0m\n\u001b[1;32m     57\u001b[0m     \u001b[0;32mreturn\u001b[0m \u001b[0mH_list_temp\u001b[0m\u001b[0;34m\u001b[0m\u001b[0m\n\u001b[1;32m     58\u001b[0m \u001b[0;34m\u001b[0m\u001b[0m\n\u001b[0;32m---> 59\u001b[0;31m \u001b[0mresults\u001b[0m \u001b[0;34m=\u001b[0m \u001b[0mpool\u001b[0m\u001b[0;34m.\u001b[0m\u001b[0mmap\u001b[0m\u001b[0;34m(\u001b[0m\u001b[0mrun_simulation\u001b[0m\u001b[0;34m,\u001b[0m\u001b[0mparallel_it\u001b[0m\u001b[0;34m)\u001b[0m\u001b[0;34m\u001b[0m\u001b[0m\n\u001b[0m\u001b[1;32m     60\u001b[0m \u001b[0;34m\u001b[0m\u001b[0m\n\u001b[1;32m     61\u001b[0m \u001b[0mpool\u001b[0m\u001b[0;34m.\u001b[0m\u001b[0mclose\u001b[0m\u001b[0;34m(\u001b[0m\u001b[0;34m)\u001b[0m\u001b[0;34m\u001b[0m\u001b[0m\n",
      "\u001b[0;32m/usr/lib/python3.5/multiprocessing/pool.py\u001b[0m in \u001b[0;36mmap\u001b[0;34m(self, func, iterable, chunksize)\u001b[0m\n\u001b[1;32m    258\u001b[0m         \u001b[0;32min\u001b[0m \u001b[0ma\u001b[0m \u001b[0mlist\u001b[0m \u001b[0mthat\u001b[0m \u001b[0;32mis\u001b[0m \u001b[0mreturned\u001b[0m\u001b[0;34m.\u001b[0m\u001b[0;34m\u001b[0m\u001b[0m\n\u001b[1;32m    259\u001b[0m         '''\n\u001b[0;32m--> 260\u001b[0;31m         \u001b[0;32mreturn\u001b[0m \u001b[0mself\u001b[0m\u001b[0;34m.\u001b[0m\u001b[0m_map_async\u001b[0m\u001b[0;34m(\u001b[0m\u001b[0mfunc\u001b[0m\u001b[0;34m,\u001b[0m \u001b[0miterable\u001b[0m\u001b[0;34m,\u001b[0m \u001b[0mmapstar\u001b[0m\u001b[0;34m,\u001b[0m \u001b[0mchunksize\u001b[0m\u001b[0;34m)\u001b[0m\u001b[0;34m.\u001b[0m\u001b[0mget\u001b[0m\u001b[0;34m(\u001b[0m\u001b[0;34m)\u001b[0m\u001b[0;34m\u001b[0m\u001b[0m\n\u001b[0m\u001b[1;32m    261\u001b[0m \u001b[0;34m\u001b[0m\u001b[0m\n\u001b[1;32m    262\u001b[0m     \u001b[0;32mdef\u001b[0m \u001b[0mstarmap\u001b[0m\u001b[0;34m(\u001b[0m\u001b[0mself\u001b[0m\u001b[0;34m,\u001b[0m \u001b[0mfunc\u001b[0m\u001b[0;34m,\u001b[0m \u001b[0miterable\u001b[0m\u001b[0;34m,\u001b[0m \u001b[0mchunksize\u001b[0m\u001b[0;34m=\u001b[0m\u001b[0;32mNone\u001b[0m\u001b[0;34m)\u001b[0m\u001b[0;34m:\u001b[0m\u001b[0;34m\u001b[0m\u001b[0m\n",
      "\u001b[0;32m/usr/lib/python3.5/multiprocessing/pool.py\u001b[0m in \u001b[0;36mget\u001b[0;34m(self, timeout)\u001b[0m\n\u001b[1;32m    600\u001b[0m \u001b[0;34m\u001b[0m\u001b[0m\n\u001b[1;32m    601\u001b[0m     \u001b[0;32mdef\u001b[0m \u001b[0mget\u001b[0m\u001b[0;34m(\u001b[0m\u001b[0mself\u001b[0m\u001b[0;34m,\u001b[0m \u001b[0mtimeout\u001b[0m\u001b[0;34m=\u001b[0m\u001b[0;32mNone\u001b[0m\u001b[0;34m)\u001b[0m\u001b[0;34m:\u001b[0m\u001b[0;34m\u001b[0m\u001b[0m\n\u001b[0;32m--> 602\u001b[0;31m         \u001b[0mself\u001b[0m\u001b[0;34m.\u001b[0m\u001b[0mwait\u001b[0m\u001b[0;34m(\u001b[0m\u001b[0mtimeout\u001b[0m\u001b[0;34m)\u001b[0m\u001b[0;34m\u001b[0m\u001b[0m\n\u001b[0m\u001b[1;32m    603\u001b[0m         \u001b[0;32mif\u001b[0m \u001b[0;32mnot\u001b[0m \u001b[0mself\u001b[0m\u001b[0;34m.\u001b[0m\u001b[0mready\u001b[0m\u001b[0;34m(\u001b[0m\u001b[0;34m)\u001b[0m\u001b[0;34m:\u001b[0m\u001b[0;34m\u001b[0m\u001b[0m\n\u001b[1;32m    604\u001b[0m             \u001b[0;32mraise\u001b[0m \u001b[0mTimeoutError\u001b[0m\u001b[0;34m\u001b[0m\u001b[0m\n",
      "\u001b[0;32m/usr/lib/python3.5/multiprocessing/pool.py\u001b[0m in \u001b[0;36mwait\u001b[0;34m(self, timeout)\u001b[0m\n\u001b[1;32m    597\u001b[0m \u001b[0;34m\u001b[0m\u001b[0m\n\u001b[1;32m    598\u001b[0m     \u001b[0;32mdef\u001b[0m \u001b[0mwait\u001b[0m\u001b[0;34m(\u001b[0m\u001b[0mself\u001b[0m\u001b[0;34m,\u001b[0m \u001b[0mtimeout\u001b[0m\u001b[0;34m=\u001b[0m\u001b[0;32mNone\u001b[0m\u001b[0;34m)\u001b[0m\u001b[0;34m:\u001b[0m\u001b[0;34m\u001b[0m\u001b[0m\n\u001b[0;32m--> 599\u001b[0;31m         \u001b[0mself\u001b[0m\u001b[0;34m.\u001b[0m\u001b[0m_event\u001b[0m\u001b[0;34m.\u001b[0m\u001b[0mwait\u001b[0m\u001b[0;34m(\u001b[0m\u001b[0mtimeout\u001b[0m\u001b[0;34m)\u001b[0m\u001b[0;34m\u001b[0m\u001b[0m\n\u001b[0m\u001b[1;32m    600\u001b[0m \u001b[0;34m\u001b[0m\u001b[0m\n\u001b[1;32m    601\u001b[0m     \u001b[0;32mdef\u001b[0m \u001b[0mget\u001b[0m\u001b[0;34m(\u001b[0m\u001b[0mself\u001b[0m\u001b[0;34m,\u001b[0m \u001b[0mtimeout\u001b[0m\u001b[0;34m=\u001b[0m\u001b[0;32mNone\u001b[0m\u001b[0;34m)\u001b[0m\u001b[0;34m:\u001b[0m\u001b[0;34m\u001b[0m\u001b[0m\n",
      "\u001b[0;32m/usr/lib/python3.5/threading.py\u001b[0m in \u001b[0;36mwait\u001b[0;34m(self, timeout)\u001b[0m\n\u001b[1;32m    547\u001b[0m             \u001b[0msignaled\u001b[0m \u001b[0;34m=\u001b[0m \u001b[0mself\u001b[0m\u001b[0;34m.\u001b[0m\u001b[0m_flag\u001b[0m\u001b[0;34m\u001b[0m\u001b[0m\n\u001b[1;32m    548\u001b[0m             \u001b[0;32mif\u001b[0m \u001b[0;32mnot\u001b[0m \u001b[0msignaled\u001b[0m\u001b[0;34m:\u001b[0m\u001b[0;34m\u001b[0m\u001b[0m\n\u001b[0;32m--> 549\u001b[0;31m                 \u001b[0msignaled\u001b[0m \u001b[0;34m=\u001b[0m \u001b[0mself\u001b[0m\u001b[0;34m.\u001b[0m\u001b[0m_cond\u001b[0m\u001b[0;34m.\u001b[0m\u001b[0mwait\u001b[0m\u001b[0;34m(\u001b[0m\u001b[0mtimeout\u001b[0m\u001b[0;34m)\u001b[0m\u001b[0;34m\u001b[0m\u001b[0m\n\u001b[0m\u001b[1;32m    550\u001b[0m             \u001b[0;32mreturn\u001b[0m \u001b[0msignaled\u001b[0m\u001b[0;34m\u001b[0m\u001b[0m\n\u001b[1;32m    551\u001b[0m \u001b[0;34m\u001b[0m\u001b[0m\n",
      "\u001b[0;32m/usr/lib/python3.5/threading.py\u001b[0m in \u001b[0;36mwait\u001b[0;34m(self, timeout)\u001b[0m\n\u001b[1;32m    291\u001b[0m         \u001b[0;32mtry\u001b[0m\u001b[0;34m:\u001b[0m    \u001b[0;31m# restore state no matter what (e.g., KeyboardInterrupt)\u001b[0m\u001b[0;34m\u001b[0m\u001b[0m\n\u001b[1;32m    292\u001b[0m             \u001b[0;32mif\u001b[0m \u001b[0mtimeout\u001b[0m \u001b[0;32mis\u001b[0m \u001b[0;32mNone\u001b[0m\u001b[0;34m:\u001b[0m\u001b[0;34m\u001b[0m\u001b[0m\n\u001b[0;32m--> 293\u001b[0;31m                 \u001b[0mwaiter\u001b[0m\u001b[0;34m.\u001b[0m\u001b[0macquire\u001b[0m\u001b[0;34m(\u001b[0m\u001b[0;34m)\u001b[0m\u001b[0;34m\u001b[0m\u001b[0m\n\u001b[0m\u001b[1;32m    294\u001b[0m                 \u001b[0mgotit\u001b[0m \u001b[0;34m=\u001b[0m \u001b[0;32mTrue\u001b[0m\u001b[0;34m\u001b[0m\u001b[0m\n\u001b[1;32m    295\u001b[0m             \u001b[0;32melse\u001b[0m\u001b[0;34m:\u001b[0m\u001b[0;34m\u001b[0m\u001b[0m\n",
      "\u001b[0;31mKeyboardInterrupt\u001b[0m: "
     ]
    }
   ],
   "source": [
    "n_threads = 6\n",
    "\n",
    "pool = Pool(n_threads)\n",
    "\n",
    "parallel_it = []\n",
    "\n",
    "lock_parall = Lock()\n",
    "\n",
    "for k in range(n_sweep_std_in):#tqdm(range(n_sweep_std_in)):\n",
    "    for l in range(n_sweep_std_act_target):#tqdm(range(n_sweep_std_act_target)):\n",
    "        parallel_it.append([lock_parall,k,l])\n",
    "\n",
    "t0 = time.time()\n",
    "n_el = 0\n",
    "             \n",
    "        \n",
    "def run_simulation(parameters):\n",
    "    \n",
    "    lock,k,l = parameters\n",
    "    \n",
    "    global n_el\n",
    "\n",
    "    lock.acquire()\n",
    "    n_el += 1\n",
    "\n",
    "    t_el = (time.time()-t0)/60.\n",
    "\n",
    "    t_rest = (n_sweep_std_act_target*n_sweep_std_in - n_el)*t_el/n_el\n",
    "\n",
    "    if t_rest >= 60.:\n",
    "        str_t_rest = str(int(t_rest/60.)) +  \":\" + str(int(t_rest%60.)) + \" h\"\n",
    "    else:\n",
    "        str_t_rest = '{:.2f}'.format(t_rest) + \" min\"\n",
    "    print(str(l+k*n_sweep_std_act_target)+\"/\"+str(n_sweep_std_act_target*n_sweep_std_in) + \" \" + '{:.2f}'.format((time.time()-t0)/60.) +  \" minutes elapsed, approx. \" + str_t_rest + \" to go\")\n",
    "    lock.release()\n",
    "    \n",
    "    \n",
    "    ESN = esn(sigm_act_target=sigm_t[l],mu_act_target=np.random.normal(0.,0.01,(1000)))\n",
    "        \n",
    "    u_in = (np.random.rand(n_t_adapt)<0.5)*2.*sigm_e[k]\n",
    "\n",
    "    ESN.run_hom_adapt(u_in,show_progress=False)\n",
    "\n",
    "    u_in = (np.random.rand(n_t_sample)<0.5)*2.*sigm_e[k]\n",
    "\n",
    "    y_rec = ESN.run_sample(u_in,show_progress=False)\n",
    "\n",
    "    y_hist = np.ndarray((ESN.N,nbins))\n",
    "    \n",
    "    H_list_temp = np.ndarray((ESN.N))\n",
    "    \n",
    "    for m in range(ESN.N):\n",
    "        y_hist[m,:] = np.histogram(y_rec[:,m],bins=bins)[0]/n_t\n",
    "        ind = np.where(y_hist[m,:]!=0)[0]\n",
    "        H_list_temp[m] = -(y_hist[m,:][ind]*np.log(y_hist[m,:][ind])).sum()\n",
    "    \n",
    "    return H_list_temp\n",
    "\n",
    "results = pool.map(run_simulation,parallel_it)\n",
    "\n",
    "pool.close()\n",
    "pool.join()\n",
    "    \n",
    "for i,p in enumerate(parallel_it):\n",
    "    \n",
    "    k = p[1]\n",
    "    l = p[2]\n",
    "    \n",
    "    H_list[k,l,:] = results[i]\n",
    "\n",
    "'''\n",
    "for k in tqdm(range(n_sweep_sigm_e)):\n",
    "    for l in tqdm(range(n_sweep_sigm_t)):\n",
    "        \n",
    "        ESN = esn(sigm_act_target=sigm_t[l],mu_act_target=np.random.normal(0.,0.01,(1000)))\n",
    "        \n",
    "        u_in = (np.random.rand(n_t_adapt)<0.5)*2.*sigm_e[k]\n",
    "        \n",
    "        ESN.run_hom_adapt(u_in,show_progress=False)\n",
    "        \n",
    "        u_in = (np.random.rand(n_t_sample)<0.5)*2.*sigm_e[k]\n",
    "        \n",
    "        y_rec = ESN.run_sample(u_in,show_progress=False)\n",
    "        \n",
    "        y_hist = np.ndarray((ESN.N,nbins))\n",
    "        \n",
    "        for m in range(ESN.N):\n",
    "            y_hist[m,:] = np.histogram(y_rec[:,m],bins=bins)[0]/n_t\n",
    "            ind = np.where(y_hist[m,:]!=0)[0]\n",
    "            H_list[k,l,m] = -(y_hist[m,:][ind]*np.log(y_hist[m,:][ind])).sum()\n",
    "'''"
   ]
  },
  {
   "cell_type": "code",
   "execution_count": 53,
   "metadata": {},
   "outputs": [
    {
     "data": {
      "image/png": "[encoded data removed]",
      "text/plain": [
       "<Figure size 432x288 with 2 Axes>"
      ]
     },
     "metadata": {
      "needs_background": "light"
     },
     "output_type": "display_data"
    }
   ],
   "source": [
    "np.save(path+filename,H_list)"
   ]
  },
  {
   "cell_type": "code",
   "execution_count": 40,
   "metadata": {},
   "outputs": [
    {
     "data": {
      "text/plain": [
       "array([[0.27242241, 0.27251584],\n",
       "       [1.9253577 , 1.92341441]])"
      ]
     },
     "execution_count": 40,
     "metadata": {},
     "output_type": "execute_result"
    }
   ],
   "source": [
    "H_list.mean(axis=2)"
   ]
  },
  {
   "cell_type": "code",
   "execution_count": 4,
   "metadata": {},
   "outputs": [
    {
     "name": "stderr",
     "output_type": "stream",
     "text": [
      "100%|██████████| 149999/149999 [00:40<00:00, 3698.43it/s]\n"
     ]
    }
   ],
   "source": [
    "ESN.run_hom_adapt(u_in)"
   ]
  },
  {
   "cell_type": "code",
   "execution_count": 5,
   "metadata": {},
   "outputs": [
    {
     "data": {
      "image/png": "[encoded data removed]",
      "text/plain": [
       "<Figure size 432x288 with 1 Axes>"
      ]
     },
     "metadata": {
      "needs_background": "light"
     },
     "output_type": "display_data"
    }
   ],
   "source": [
    "plt.hist(ESN.gain,bins=30)\n",
    "plt.show()"
   ]
  },
  {
   "cell_type": "code",
   "execution_count": 6,
   "metadata": {},
   "outputs": [
    {
     "name": "stderr",
     "output_type": "stream",
     "text": [
      "100%|██████████| 149999/149999 [00:37<00:00, 3964.04it/s]\n"
     ]
    }
   ],
   "source": [
    "y_rec = ESN.run_sample(u_in)"
   ]
  },
  {
   "cell_type": "code",
   "execution_count": 23,
   "metadata": {},
   "outputs": [
    {
     "data": {
      "application/vnd.jupyter.widget-view+json": {
       "model_id": "e0e8517c9fe64ddd9e035caf4eecbb75",
       "version_major": 2,
       "version_minor": 0
      },
      "text/plain": [
       "HBox(children=(IntProgress(value=0, max=1000), HTML(value='')))"
      ]
     },
     "metadata": {},
     "output_type": "display_data"
    },
    {
     "name": "stdout",
     "output_type": "stream",
     "text": [
      "\n"
     ]
    }
   ],
   "source": [
    "nbins = 50\n",
    "bins = np.linspace(-1.,1.,nbins+1)\n",
    "y_hist = np.ndarray((ESN.N,nbins))\n",
    "\n",
    "for k in tqdm(range(ESN.N)):\n",
    "    y_hist[k,:] = np.histogram(y_rec[:,k],bins=bins)[0]/n_t"
   ]
  },
  {
   "cell_type": "code",
   "execution_count": 28,
   "metadata": {},
   "outputs": [
    {
     "data": {
      "application/vnd.jupyter.widget-view+json": {
       "model_id": "d8d90bcb0a57424caeb398fcf1dbcaf7",
       "version_major": 2,
       "version_minor": 0
      },
      "text/plain": [
       "HBox(children=(IntProgress(value=0, max=1000), HTML(value='')))"
      ]
     },
     "metadata": {},
     "output_type": "display_data"
    },
    {
     "name": "stdout",
     "output_type": "stream",
     "text": [
      "\n"
     ]
    }
   ],
   "source": [
    "H = np.ndarray((ESN.N))\n",
    "\n",
    "for k in tqdm(range(ESN.N)):\n",
    "    ind = np.where(y_hist[k,:]!=0)[0]\n",
    "    H[k] = -(y_hist[k,:][ind]*np.log(y_hist[k,:][ind])).sum()\n"
   ]
  },
  {
   "cell_type": "code",
   "execution_count": 24,
   "metadata": {},
   "outputs": [
    {
     "data": {
      "image/png": "[encoded data removed]",
      "text/plain": [
       "<Figure size 432x288 with 1 Axes>"
      ]
     },
     "metadata": {
      "needs_background": "light"
     },
     "output_type": "display_data"
    }
   ],
   "source": [
    "for k in range(ESN.N):\n",
    "    #plt.step(bins[1:],y_hist[k,:])\n",
    "    plt.plot(0.5*(bins[:-1]+bins[1:]),y_hist[k,:],c='k',alpha=0.01)\n",
    "plt.show()"
   ]
  },
  {
   "cell_type": "code",
   "execution_count": 31,
   "metadata": {},
   "outputs": [
    {
     "data": {
      "image/png": "[encoded data removed]",
      "text/plain": [
       "<Figure size 432x288 with 1 Axes>"
      ]
     },
     "metadata": {
      "needs_background": "light"
     },
     "output_type": "display_data"
    }
   ],
   "source": [
    "plt.hist(H,bins=30)\n",
    "plt.show()"
   ]
  },
  {
   "cell_type": "code",
   "execution_count": null,
   "metadata": {},
   "outputs": [],
   "source": []
  }
 ],
 "metadata": {
  "kernelspec": {
   "display_name": "Python 3",
   "language": "python",
   "name": "python3"
  },
  "language_info": {
   "codemirror_mode": {
    "name": "ipython",
    "version": 3
   },
   "file_extension": ".py",
   "mimetype": "text/x-python",
   "name": "python",
   "nbconvert_exporter": "python",
   "pygments_lexer": "ipython3",
   "version": "3.5.2"
  }
 },
 "nbformat": 4,
 "nbformat_minor": 2
}
