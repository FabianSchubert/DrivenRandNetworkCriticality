{
 "cells": [
  {
   "cell_type": "code",
   "execution_count": 1,
   "metadata": {},
   "outputs": [
    {
     "name": "stderr",
     "output_type": "stream",
     "text": [
      "/home/fschubert/work/py36/lib/python3.6/site-packages/tqdm/autonotebook/__init__.py:18: TqdmExperimentalWarning: Using `tqdm.autonotebook.tqdm` in notebook mode. Use `tqdm.tqdm` instead to force console mode (e.g. in jupyter console)\n",
      "  \" (e.g. in jupyter console)\", TqdmExperimentalWarning)\n"
     ]
    }
   ],
   "source": [
    "%matplotlib inline\n",
    "\n",
    "import numpy as np\n",
    "import matplotlib.pyplot as plt\n",
    "import seaborn as sns\n",
    "sns.set()\n",
    "\n",
    "from tqdm import tqdm_notebook as tqdm\n",
    "\n",
    "from esn_module import esn\n",
    "\n",
    "from echo_state_tests import gen_in_out_one_in_subs, test_XOR\n",
    "\n",
    "from scipy.sparse import csr_matrix"
   ]
  },
  {
   "cell_type": "code",
   "execution_count": 33,
   "metadata": {},
   "outputs": [],
   "source": [
    "N = 1000\n",
    "cf = 0.1\n",
    "cf_in = 1.\n",
    "\n",
    "W = np.random.normal(0.,1./(cf*N)**.5,(N,N))*(np.random.rand(N,N) <= cf)\n",
    "W[range(N),range(N)] = 0.\n",
    "\n",
    "a = np.ones((N))*0.9\n",
    "\n",
    "Wa = (W.T*a).T\n",
    "\n",
    "W = csr_matrix(W)\n",
    "Wa = csr_matrix(Wa)\n",
    "\n",
    "w_out = np.random.normal(0.,1.,(N))\n",
    "w_in = np.random.normal(0.,1.,(N))*(np.random.rand(N) <= cf_in)\n",
    "\n",
    "T = 100\n",
    "\n",
    "err = np.zeros((T))\n",
    "\n",
    "dyda = np.zeros((N,N))\n",
    "\n",
    "derrda = np.zeros((T,N))\n",
    "\n",
    "x = np.zeros((T,N))\n",
    "\n",
    "u_in,u_out = gen_in_out_one_in_subs(T,5)"
   ]
  },
  {
   "cell_type": "code",
   "execution_count": 34,
   "metadata": {},
   "outputs": [
    {
     "data": {
      "application/vnd.jupyter.widget-view+json": {
       "model_id": "35a83c7fac4e40c5a693067500c17580",
       "version_major": 2,
       "version_minor": 0
      },
      "text/plain": [
       "HBox(children=(IntProgress(value=0, max=99), HTML(value='')))"
      ]
     },
     "metadata": {},
     "output_type": "display_data"
    }
   ],
   "source": [
    "for t in tqdm(range(1,T)):\n",
    "    x[t,:] = W.dot(a*x[t-1,:]) + w_in*u_in[t]\n",
    "    \n",
    "    dyda = Wa.dot(dyda)\n",
    "    dyda[range(N),range(N)] += x[t,:]\n",
    "    \n",
    "    err[t] = w_out.dot(a*x[t])\n",
    "    \n",
    "    derrda[t,:] = w_out.dot(dyda)"
   ]
  },
  {
   "cell_type": "code",
   "execution_count": 35,
   "metadata": {},
   "outputs": [
    {
     "data": {
      "text/plain": [
       "-2104508.0773475915"
      ]
     },
     "execution_count": 35,
     "metadata": {},
     "output_type": "execute_result"
    }
   ],
   "source": [
    "-(err*derrda.T).mean(axis=1) @ (w_out*(err*x.T).mean(axis=1))"
   ]
  },
  {
   "cell_type": "code",
   "execution_count": 28,
   "metadata": {},
   "outputs": [
    {
     "data": {
      "text/plain": [
       "(200,)"
      ]
     },
     "execution_count": 28,
     "metadata": {},
     "output_type": "execute_result"
    }
   ],
   "source": [
    "(w_out*(err*x.T).mean(axis=1)).shape"
   ]
  },
  {
   "cell_type": "code",
   "execution_count": null,
   "metadata": {},
   "outputs": [],
   "source": []
  }
 ],
 "metadata": {
  "kernelspec": {
   "display_name": "Python 3",
   "language": "python",
   "name": "python3"
  },
  "language_info": {
   "codemirror_mode": {
    "name": "ipython",
    "version": 3
   },
   "file_extension": ".py",
   "mimetype": "text/x-python",
   "name": "python",
   "nbconvert_exporter": "python",
   "pygments_lexer": "ipython3",
   "version": "3.6.8"
  }
 },
 "nbformat": 4,
 "nbformat_minor": 2
}
