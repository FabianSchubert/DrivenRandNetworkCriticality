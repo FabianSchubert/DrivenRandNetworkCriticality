{
 "cells": [
  {
   "cell_type": "code",
   "execution_count": 2,
   "metadata": {},
   "outputs": [
    {
     "name": "stderr",
     "output_type": "stream",
     "text": [
      "/home/fschubert/work/py36/lib/python3.6/site-packages/tqdm/autonotebook/__init__.py:18: TqdmExperimentalWarning: Using `tqdm.autonotebook.tqdm` in notebook mode. Use `tqdm.tqdm` instead to force console mode (e.g. in jupyter console)\n",
      "  \" (e.g. in jupyter console)\", TqdmExperimentalWarning)\n"
     ]
    }
   ],
   "source": [
    "%matplotlib inline\n",
    "\n",
    "import numpy as np\n",
    "import matplotlib.pyplot as plt\n",
    "import seaborn as sns\n",
    "sns.set()\n",
    "\n",
    "from tqdm import tqdm_notebook as tqdm\n",
    "\n",
    "from esn_module import esn\n",
    "\n",
    "from echo_state_tests import gen_in_out_one_in_subs, test_XOR\n",
    "\n",
    "from scipy.sparse import csr_matrix"
   ]
  },
  {
   "cell_type": "code",
   "execution_count": 42,
   "metadata": {},
   "outputs": [],
   "source": [
    "class RNN:\n",
    "    \n",
    "    def __init__(self,\n",
    "                N=1000,\n",
    "                cf=.1,\n",
    "                cf_w_in=.1,\n",
    "                sigm_w=1.,\n",
    "                sigm_w_in=1.,\n",
    "                sigm_w_out_init=.1,\n",
    "                tau=1.,\n",
    "                data_dim_in=1,\n",
    "                data_dim_out=1,\n",
    "                eps_a=0.0001):\n",
    "        \n",
    "        self.N = N\n",
    "        \n",
    "        self.W = np.random.normal(0.,sigm_w/(N*cf)**.5,(N,N))*(np.random.rand(N,N) <= cf)\n",
    "        self.W[range(N),range(N)] = 0.\n",
    "        \n",
    "        self.cf = (1.*(self.W!=0.)).sum()/N**2.\n",
    "        \n",
    "        self.Wt = self.W.T\n",
    "        \n",
    "        if self.cf < .5:\n",
    "            self.W = csr_matrix(self.W)\n",
    "            self.sparse_W = True\n",
    "        else:\n",
    "            self.sparse_W = False\n",
    "            \n",
    "        self.data_dim_in = data_dim_in\n",
    "        self.data_dim_out = data_dim_out\n",
    "        \n",
    "        self.w_in = np.random.normal(0.,sigm_w_in,(self.N,self.data_dim_in))*(np.random.rand(self.N,self.data_dim_in) <= cf_w_in)\n",
    "        \n",
    "        self.cf_w_in = (1.*(self.w_in!=0.)).sum()/(N*data_dim_in)\n",
    "        \n",
    "        self.w_out = np.random.rand(data_dim_out,self.N+1)-.5\n",
    "        self.w_out[:,0] = 0.\n",
    "        \n",
    "        self.tau = tau\n",
    "        \n",
    "        self.a = np.ones(self.N)\n",
    "        \n",
    "        self.eps_a = eps_a\n",
    "    \n",
    "    def check_data_in_comp(self,data):\n",
    "\n",
    "        if len(data.shape)==1:\n",
    "            if self.data_dim_in != 1:\n",
    "                print(\"input dimensions do not fit!\")\n",
    "                sys.exit()\n",
    "            return np.array([data]).T\n",
    "\n",
    "        elif (len(data.shape)>2) or (data.shape[1] != self.data_dim_in):\n",
    "            print(\"input dimensions do not fit!\")\n",
    "            sys.exit()\n",
    "\n",
    "        return data\n",
    "    \n",
    "    def check_data_out_comp(self,data):\n",
    "\n",
    "        if len(data.shape)==1:\n",
    "            if self.data_dim_out != 1:\n",
    "                print(\"output dimensions do not fit!\")\n",
    "                #sys.exit()\n",
    "            return np.array([data]).T\n",
    "\n",
    "        elif (len(data.shape)>2) or (data.shape[1] != self.data_dim_out):\n",
    "            print(\"output dimensions do not fit!\")\n",
    "            #sys.exit()\n",
    "\n",
    "        return data\n",
    "    \n",
    "    def learn_gain(self,\n",
    "                    u_in,\n",
    "                    u_out,\n",
    "                   mode,\n",
    "                  T_batch_w_out=None,\n",
    "                    tau_batch_w_out = 1.,\n",
    "                    reg_fact = 0.01,\n",
    "                  T_skip_rec=10,\n",
    "                              show_progress=True,\n",
    "                  return_y = True,\n",
    "                  return_X = True,\n",
    "                  return_X_r = True,\n",
    "                  return_X_e = True,\n",
    "                  return_a = True,\n",
    "                  return_dyda = True,\n",
    "                  return_delta_a = True,\n",
    "                  return_w_out = True,\n",
    "                  return_Err = True,\n",
    "                return_W = True):\n",
    "    \n",
    "    \n",
    "\n",
    "    \n",
    "    \n",
    "        modelist = [\"local_grad_local_gain\",\n",
    "                        \"local_grad_global_gain\",\n",
    "                        \"global_grad_local_gain\",\n",
    "                        \"global_grad_global_gain\"]\n",
    "        \n",
    "        if not(mode in modelist):\n",
    "            print(\"wrong mode argument!\")\n",
    "            return None\n",
    "        else:\n",
    "            mode = modelist.index(mode)\n",
    "        \n",
    "        if T_batch_w_out == None:\n",
    "            T_batch_w_out = self.N*4\n",
    "        \n",
    "        u_in = self.check_data_in_comp(u_in)\n",
    "        u_out = self.check_data_out_comp(u_out)\n",
    "        \n",
    "        if u_in.shape[0] == u_out.shape[0]:\n",
    "            T = u_in.shape[0]\n",
    "        else:\n",
    "            print(\"length of time series do not match!\")\n",
    "        \n",
    "        ### recording\n",
    "        \n",
    "        T_rec = int(T/T_skip_rec)\n",
    "        \n",
    "        \n",
    "        if return_y:\n",
    "            y_rec = np.ndarray((T_rec,self.N))\n",
    "        if return_X_r:\n",
    "            X_r_rec = np.ndarray((T_rec,self.N))\n",
    "        if return_X_e:\n",
    "            X_e_rec = np.ndarray((T_rec,self.N))\n",
    "        if return_X:\n",
    "            X_rec = np.ndarray((T_rec,self.N))\n",
    "        if return_a:\n",
    "            a_rec = np.ndarray((T_rec,self.N))\n",
    "        if return_dyda:\n",
    "            if mode == 0:\n",
    "                dyda_rec = np.ndarray((T_rec,self.N,self.N))\n",
    "            if mode == 1:\n",
    "                dyda_rec = np.ndarray((T_rec,self.N))\n",
    "            if mode == 2:\n",
    "                dyda_rec = np.ndarray((T_rec,self.N,self.N))\n",
    "            if mode == 3:\n",
    "                dyda_rec = np.ndarray((T_rec,self.N))\n",
    "        if return_delta_a:\n",
    "            if mode == 0:\n",
    "                delta_a_rec = np.ndarray((T_rec,self.N))\n",
    "            if mode == 1:\n",
    "                delta_a_rec = np.ndarray((T_rec))\n",
    "            if mode == 2:\n",
    "                delta_a_rec = np.ndarray((T_rec,self.N))\n",
    "            if mode == 3:\n",
    "                delta_a_rec = np.ndarray((T_rec))\n",
    "        if return_w_out:\n",
    "            w_out_rec = np.ndarray((T_rec,self.data_dim_out,self.N+1))\n",
    "        if return_Err:\n",
    "            Err_rec = np.ndarray((T_rec))\n",
    "               \n",
    "        \n",
    "        if mode == 0:\n",
    "            dyda = np.zeros((self.N,self.N))\n",
    "            delta_a = np.zeros((self.N))\n",
    "               \n",
    "        if mode == 1:\n",
    "            dyda = np.zeros((self.N))\n",
    "            delta_a = 0.\n",
    "               \n",
    "        if mode == 2:\n",
    "            dyda = np.zeros((self.N,self.N))\n",
    "            delta_a = np.zeros((self.N))\n",
    "\n",
    "        if mode == 3:\n",
    "            dyda = np.zeros((self.N))\n",
    "            delta_a = 0.            \n",
    "        \n",
    "        \n",
    "        err = np.ndarray((1,self.data_dim_out))\n",
    "        \n",
    "        y_rec_w_out_learn = np.zeros((T_batch_w_out,self.N+1))\n",
    "\n",
    "        u_out_w_out_learn = np.zeros((T_batch_w_out,self.data_dim_out))\n",
    "        ###\n",
    "        \n",
    "        y = np.random.rand(self.N+1)-.5\n",
    "        y[0] = 0.\n",
    "        \n",
    "        \n",
    "        \n",
    "        for t in tqdm(range(T),disable=not(show_progress)):\n",
    "            \n",
    "            X_r = self.W.dot(y[1:])\n",
    "            \n",
    "            X_e = self.w_in.dot(u_in[t,:])\n",
    "            \n",
    "            X = X_r + X_e\n",
    "            \n",
    "            #y[1:] = np.tanh(self.a*X_r + X_e)\n",
    "            \n",
    "            y[1:] = np.tanh(self.a*X)\n",
    "            \n",
    "            y_rec_w_out_learn[t%T_batch_w_out,:] = y[:]\n",
    "\n",
    "            u_out_w_out_learn[t%T_batch_w_out,:] = u_out[t,:]\n",
    "            \n",
    "            O = self.w_out.dot(y)\n",
    "            \n",
    "            \n",
    "            if t%T_batch_w_out == 0 and t>0.:\n",
    "                \n",
    "                self.w_out = self.w_out + (1./tau_batch_w_out)*( -self.w_out + (np.linalg.inv(y_rec_w_out_learn.T @ y_rec_w_out_learn + reg_fact*np.eye(self.N+1)) @ y_rec_w_out_learn.T @ u_out_w_out_learn).T)\n",
    "                   \n",
    "            err[0,:] = O - u_out[t,:]\n",
    "            \n",
    "            \n",
    "            \n",
    "            if mode == 0:\n",
    "                dyda[range(self.N),range(self.N)] = (1.-y[1:]**2.)*X\n",
    "            \n",
    "            if mode == 1:\n",
    "                dyda = (1.-y[1:]**2.)*X\n",
    "                \n",
    "            if mode == 2:\n",
    "                \n",
    "                dyda = (self.Wt*(1.-y[1:]**2.)*self.a).T @ dyda\n",
    "                \n",
    "                dyda[range(self.N),range(self.N)] += (1.-y[1:]**2.)*X\n",
    "            if mode == 3:\n",
    "                dyda = (1.-y[1:]**2.)*(X + self.a[0]*self.W.dot(dyda))\n",
    "             \n",
    "            \n",
    "            if t >= T_batch_w_out:\n",
    "                                                \n",
    "                if mode == 0 or mode == 2:\n",
    "                    delta_a = -err.dot(self.w_out[:,1:].dot(dyda))[0,:]\n",
    "                else:\n",
    "                    delta_a = -err.dot(self.w_out[:,1:].dot(dyda))\n",
    "                               \n",
    "                self.a += self.eps_a*delta_a\n",
    "\n",
    "                self.a = np.maximum(0.01,self.a)\n",
    "            \n",
    "            \n",
    "            ### recording\n",
    "            \n",
    "            if t%T_skip_rec == 0:\n",
    "                \n",
    "                t_rec = int(t/T_skip_rec)\n",
    "                \n",
    "                y_rec[t_rec,:] = y[1:]\n",
    "                \n",
    "                if return_X:\n",
    "                    X_rec[t_rec,:] = X                \n",
    "                if return_X_r:                \n",
    "                    X_r_rec[t_rec,:] = X_r\n",
    "                if return_X_e:\n",
    "                    X_e_rec[t_rec,:] = X_e\n",
    "                \n",
    "                if mode == 0 or mode == 2:\n",
    "                    if return_dyda:\n",
    "                        dyda_rec[t_rec,:,:] = dyda\n",
    "                    if return_delta_a:\n",
    "                        delta_a_rec[t_rec,:] = delta_a\n",
    "                    \n",
    "                else:\n",
    "                    if return_dyda:\n",
    "                        dyda_rec[t_rec,:] = dyda\n",
    "                    if return_delta_a:\n",
    "                        delta_a_rec[t_rec] = delta_a                \n",
    "                \n",
    "                if return_a:\n",
    "                    a_rec[t_rec,:] = self.a[:]\n",
    "                \n",
    "                if return_Err:\n",
    "                    Err_rec[t_rec] = .5*(err**2.).sum()\n",
    "                if return_w_out:\n",
    "                    w_out_rec[t_rec,:,:] = self.w_out\n",
    "                \n",
    "        t_ax = np.array(range(T_rec))*T_skip_rec\n",
    "        \n",
    "        result = [t_ax]\n",
    "        \n",
    "        if return_y:\n",
    "            result.append(y_rec)\n",
    "        if return_X:\n",
    "            result.append(X_r_rec+X_e_rec)\n",
    "        if return_X_r:\n",
    "            result.append(X_r_rec)\n",
    "        if return_X_e:\n",
    "            result.append(X_e_rec)\n",
    "        if return_a:\n",
    "            result.append(a_rec)\n",
    "        if return_dyda:\n",
    "            result.append(dyda_rec)\n",
    "        if return_delta_a:\n",
    "            result.append(delta_a_rec)\n",
    "        if return_w_out:\n",
    "            result.append(w_out_rec)\n",
    "        if return_Err:\n",
    "            result.append(Err_rec)\n",
    "        if return_W:\n",
    "            result.append(np.array(self.W.todense()))\n",
    "              \n",
    "        return result\n",
    "        \n",
    "        \n",
    "    \n",
    "    def learn_w_out(self,u_in,u_target,reg_fact=0.01,t_prerun=0):\n",
    "\n",
    "        u_in = self.check_data_in_comp(u_in)\n",
    "        u_target = self.check_data_out_comp(u_target)\n",
    "\n",
    "        n_t = u_in.shape[0]\n",
    "\n",
    "        y = np.ndarray((n_t,self.N+1))\n",
    "        y[:,0] = 1.\n",
    "\n",
    "\n",
    "        y[0,1:] = np.tanh(self.w_in @ u_in[0,:])\n",
    "\n",
    "\n",
    "        for t in tqdm(range(1,n_t)):\n",
    "\n",
    "            y[t,1:] = np.tanh(self.a*self.W.dot(y[t-1,1:]) + self.w_in @ u_in[t,:])\n",
    "        \n",
    "        self.w_out[:,:] = (np.linalg.inv(y[t_prerun:,:].T @ y[t_prerun:,:] + reg_fact*np.eye(self.N+1)) @ y[t_prerun:,:].T @ u_target[t_prerun:,:]).T\n",
    "    \n",
    "    def predict_data(self,data,return_reservoir_rec=False):\n",
    "\n",
    "        data = self.check_data_in_comp(data)\n",
    "\n",
    "        n_t = data.shape[0]\n",
    "\n",
    "        u_in = data\n",
    "\n",
    "        y = np.ndarray((n_t,self.N+1))\n",
    "        y[:,0] = 1.\n",
    "\n",
    "        y[0,1:] = np.tanh(self.w_in @ u_in[0,:])\n",
    "\n",
    "        for t in tqdm(range(1,n_t)):\n",
    "\n",
    "            y[t,1:] = np.tanh(self.a*self.W.dot(y[t-1,1:]) + self.w_in @ u_in[t,:])\n",
    "\n",
    "        out = (self.w_out @ y.T).T\n",
    "        if self.data_dim_out == 1:\n",
    "            out = out[:,0]\n",
    "\n",
    "        if return_reservoir_rec:\n",
    "            return (out,y)\n",
    "        else:\n",
    "            return out\n"
   ]
  },
  {
   "cell_type": "code",
   "execution_count": 187,
   "metadata": {},
   "outputs": [
    {
     "data": {
      "application/vnd.jupyter.widget-view+json": {
       "model_id": "a173892cc85c4fd8886b32ecf8a6d01a",
       "version_major": 2,
       "version_minor": 0
      },
      "text/plain": [
       "HBox(children=(IntProgress(value=1, bar_style='info', max=1), HTML(value='')))"
      ]
     },
     "metadata": {},
     "output_type": "display_data"
    },
    {
     "data": {
      "application/vnd.jupyter.widget-view+json": {
       "model_id": "861419937c6342ef9b4dd0ee5d311812",
       "version_major": 2,
       "version_minor": 0
      },
      "text/plain": [
       "HBox(children=(IntProgress(value=0, max=1500000), HTML(value='')))"
      ]
     },
     "metadata": {},
     "output_type": "display_data"
    },
    {
     "data": {
      "application/vnd.jupyter.widget-view+json": {
       "model_id": "9608a5e683fd448386ceb33bff2d0c1d",
       "version_major": 2,
       "version_minor": 0
      },
      "text/plain": [
       "HBox(children=(IntProgress(value=0, max=9999), HTML(value='')))"
      ]
     },
     "metadata": {},
     "output_type": "display_data"
    },
    {
     "data": {
      "application/vnd.jupyter.widget-view+json": {
       "model_id": "ba1f96908fa54c9790f47f496fc9f837",
       "version_major": 2,
       "version_minor": 0
      },
      "text/plain": [
       "HBox(children=(IntProgress(value=0, max=9999), HTML(value='')))"
      ]
     },
     "metadata": {},
     "output_type": "display_data"
    },
    {
     "data": {
      "application/vnd.jupyter.widget-view+json": {
       "model_id": "d4bf22558f1341f79f8573d70e0f4898",
       "version_major": 2,
       "version_minor": 0
      },
      "text/plain": [
       "HBox(children=(IntProgress(value=0, max=1500000), HTML(value='')))"
      ]
     },
     "metadata": {},
     "output_type": "display_data"
    },
    {
     "data": {
      "application/vnd.jupyter.widget-view+json": {
       "model_id": "a410a09c02fe45a4b43957cae6625952",
       "version_major": 2,
       "version_minor": 0
      },
      "text/plain": [
       "HBox(children=(IntProgress(value=0, max=9999), HTML(value='')))"
      ]
     },
     "metadata": {},
     "output_type": "display_data"
    },
    {
     "data": {
      "application/vnd.jupyter.widget-view+json": {
       "model_id": "a489760c1df349109bafcdffac8b2bce",
       "version_major": 2,
       "version_minor": 0
      },
      "text/plain": [
       "HBox(children=(IntProgress(value=0, max=9999), HTML(value='')))"
      ]
     },
     "metadata": {},
     "output_type": "display_data"
    },
    {
     "data": {
      "application/vnd.jupyter.widget-view+json": {
       "model_id": "2f867ab060c94e86849b0e2f21bcd9ef",
       "version_major": 2,
       "version_minor": 0
      },
      "text/plain": [
       "HBox(children=(IntProgress(value=0, max=1500000), HTML(value='')))"
      ]
     },
     "metadata": {},
     "output_type": "display_data"
    },
    {
     "data": {
      "application/vnd.jupyter.widget-view+json": {
       "model_id": "467dfe3393d64ab2bae8ff029a88fce2",
       "version_major": 2,
       "version_minor": 0
      },
      "text/plain": [
       "HBox(children=(IntProgress(value=0, max=9999), HTML(value='')))"
      ]
     },
     "metadata": {},
     "output_type": "display_data"
    },
    {
     "data": {
      "application/vnd.jupyter.widget-view+json": {
       "model_id": "5f93649f187e4c56b3e59043e3399838",
       "version_major": 2,
       "version_minor": 0
      },
      "text/plain": [
       "HBox(children=(IntProgress(value=0, max=9999), HTML(value='')))"
      ]
     },
     "metadata": {},
     "output_type": "display_data"
    },
    {
     "data": {
      "application/vnd.jupyter.widget-view+json": {
       "model_id": "59ad72bb9ac9472297a1b6ad1a8673ac",
       "version_major": 2,
       "version_minor": 0
      },
      "text/plain": [
       "HBox(children=(IntProgress(value=0, max=1500000), HTML(value='')))"
      ]
     },
     "metadata": {},
     "output_type": "display_data"
    },
    {
     "data": {
      "application/vnd.jupyter.widget-view+json": {
       "model_id": "e42178c39b45474e8febe362adec2aea",
       "version_major": 2,
       "version_minor": 0
      },
      "text/plain": [
       "HBox(children=(IntProgress(value=0, max=9999), HTML(value='')))"
      ]
     },
     "metadata": {},
     "output_type": "display_data"
    },
    {
     "data": {
      "application/vnd.jupyter.widget-view+json": {
       "model_id": "72e1e972944741d498248df0d88f2e68",
       "version_major": 2,
       "version_minor": 0
      },
      "text/plain": [
       "HBox(children=(IntProgress(value=0, max=9999), HTML(value='')))"
      ]
     },
     "metadata": {},
     "output_type": "display_data"
    },
    {
     "data": {
      "application/vnd.jupyter.widget-view+json": {
       "model_id": "7a796e3f5afa41dd975d936742d4b13b",
       "version_major": 2,
       "version_minor": 0
      },
      "text/plain": [
       "HBox(children=(IntProgress(value=0, max=1500000), HTML(value='')))"
      ]
     },
     "metadata": {},
     "output_type": "display_data"
    },
    {
     "data": {
      "application/vnd.jupyter.widget-view+json": {
       "model_id": "198714e0487b41b0b6adc9f822e67ee9",
       "version_major": 2,
       "version_minor": 0
      },
      "text/plain": [
       "HBox(children=(IntProgress(value=0, max=9999), HTML(value='')))"
      ]
     },
     "metadata": {},
     "output_type": "display_data"
    },
    {
     "data": {
      "application/vnd.jupyter.widget-view+json": {
       "model_id": "5bb27bb27c194162839515b0fda29ef7",
       "version_major": 2,
       "version_minor": 0
      },
      "text/plain": [
       "HBox(children=(IntProgress(value=0, max=9999), HTML(value='')))"
      ]
     },
     "metadata": {},
     "output_type": "display_data"
    },
    {
     "data": {
      "application/vnd.jupyter.widget-view+json": {
       "model_id": "9c27503dd23e46249d91a6617ffd3133",
       "version_major": 2,
       "version_minor": 0
      },
      "text/plain": [
       "HBox(children=(IntProgress(value=0, max=1500000), HTML(value='')))"
      ]
     },
     "metadata": {},
     "output_type": "display_data"
    },
    {
     "data": {
      "application/vnd.jupyter.widget-view+json": {
       "model_id": "3145c57a42ee47329948fcb8325e9451",
       "version_major": 2,
       "version_minor": 0
      },
      "text/plain": [
       "HBox(children=(IntProgress(value=0, max=9999), HTML(value='')))"
      ]
     },
     "metadata": {},
     "output_type": "display_data"
    },
    {
     "data": {
      "application/vnd.jupyter.widget-view+json": {
       "model_id": "ba9ea183e24d4f3a90535e8ebff8e5a0",
       "version_major": 2,
       "version_minor": 0
      },
      "text/plain": [
       "HBox(children=(IntProgress(value=0, max=9999), HTML(value='')))"
      ]
     },
     "metadata": {},
     "output_type": "display_data"
    },
    {
     "data": {
      "application/vnd.jupyter.widget-view+json": {
       "model_id": "38beef18e86049c4b89353dada425d6e",
       "version_major": 2,
       "version_minor": 0
      },
      "text/plain": [
       "HBox(children=(IntProgress(value=0, max=1500000), HTML(value='')))"
      ]
     },
     "metadata": {},
     "output_type": "display_data"
    },
    {
     "data": {
      "application/vnd.jupyter.widget-view+json": {
       "model_id": "f0408c3dc50e43d180b95eba210449a8",
       "version_major": 2,
       "version_minor": 0
      },
      "text/plain": [
       "HBox(children=(IntProgress(value=0, max=9999), HTML(value='')))"
      ]
     },
     "metadata": {},
     "output_type": "display_data"
    },
    {
     "data": {
      "application/vnd.jupyter.widget-view+json": {
       "model_id": "673c04afb7404263a6092999f372216c",
       "version_major": 2,
       "version_minor": 0
      },
      "text/plain": [
       "HBox(children=(IntProgress(value=0, max=9999), HTML(value='')))"
      ]
     },
     "metadata": {},
     "output_type": "display_data"
    },
    {
     "data": {
      "application/vnd.jupyter.widget-view+json": {
       "model_id": "02f299ed2ac94e48b14721348a64938d",
       "version_major": 2,
       "version_minor": 0
      },
      "text/plain": [
       "HBox(children=(IntProgress(value=0, max=1500000), HTML(value='')))"
      ]
     },
     "metadata": {},
     "output_type": "display_data"
    },
    {
     "data": {
      "application/vnd.jupyter.widget-view+json": {
       "model_id": "3cb42797e50d42feb41bf1df6cb82336",
       "version_major": 2,
       "version_minor": 0
      },
      "text/plain": [
       "HBox(children=(IntProgress(value=0, max=9999), HTML(value='')))"
      ]
     },
     "metadata": {},
     "output_type": "display_data"
    },
    {
     "data": {
      "application/vnd.jupyter.widget-view+json": {
       "model_id": "836509286cfa497cb74344e380483280",
       "version_major": 2,
       "version_minor": 0
      },
      "text/plain": [
       "HBox(children=(IntProgress(value=0, max=9999), HTML(value='')))"
      ]
     },
     "metadata": {},
     "output_type": "display_data"
    },
    {
     "data": {
      "application/vnd.jupyter.widget-view+json": {
       "model_id": "1e5f0bd28fa246199ab6b412c9188fd6",
       "version_major": 2,
       "version_minor": 0
      },
      "text/plain": [
       "HBox(children=(IntProgress(value=0, max=1500000), HTML(value='')))"
      ]
     },
     "metadata": {},
     "output_type": "display_data"
    },
    {
     "data": {
      "application/vnd.jupyter.widget-view+json": {
       "model_id": "b1adfda424134979bf6dc99a9cbc1dca",
       "version_major": 2,
       "version_minor": 0
      },
      "text/plain": [
       "HBox(children=(IntProgress(value=0, max=9999), HTML(value='')))"
      ]
     },
     "metadata": {},
     "output_type": "display_data"
    },
    {
     "data": {
      "application/vnd.jupyter.widget-view+json": {
       "model_id": "478a428718d84fb6ab9fb679326f5fc1",
       "version_major": 2,
       "version_minor": 0
      },
      "text/plain": [
       "HBox(children=(IntProgress(value=0, max=9999), HTML(value='')))"
      ]
     },
     "metadata": {},
     "output_type": "display_data"
    },
    {
     "data": {
      "application/vnd.jupyter.widget-view+json": {
       "model_id": "dc541d699bf84f3dbb9b484a855b3b26",
       "version_major": 2,
       "version_minor": 0
      },
      "text/plain": [
       "HBox(children=(IntProgress(value=0, max=1500000), HTML(value='')))"
      ]
     },
     "metadata": {},
     "output_type": "display_data"
    },
    {
     "data": {
      "application/vnd.jupyter.widget-view+json": {
       "model_id": "6e329c5b82944d16b080d3df64833144",
       "version_major": 2,
       "version_minor": 0
      },
      "text/plain": [
       "HBox(children=(IntProgress(value=0, max=9999), HTML(value='')))"
      ]
     },
     "metadata": {},
     "output_type": "display_data"
    },
    {
     "data": {
      "application/vnd.jupyter.widget-view+json": {
       "model_id": "70176853a65645f19c967e3a06f7525c",
       "version_major": 2,
       "version_minor": 0
      },
      "text/plain": [
       "HBox(children=(IntProgress(value=0, max=9999), HTML(value='')))"
      ]
     },
     "metadata": {},
     "output_type": "display_data"
    },
    {
     "data": {
      "application/vnd.jupyter.widget-view+json": {
       "model_id": "38a42983dbdb4b318a98979bbfd165be",
       "version_major": 2,
       "version_minor": 0
      },
      "text/plain": [
       "HBox(children=(IntProgress(value=0, max=1500000), HTML(value='')))"
      ]
     },
     "metadata": {},
     "output_type": "display_data"
    },
    {
     "data": {
      "application/vnd.jupyter.widget-view+json": {
       "model_id": "e3f724249cbf4c838b3086aa955fbe51",
       "version_major": 2,
       "version_minor": 0
      },
      "text/plain": [
       "HBox(children=(IntProgress(value=0, max=9999), HTML(value='')))"
      ]
     },
     "metadata": {},
     "output_type": "display_data"
    },
    {
     "data": {
      "application/vnd.jupyter.widget-view+json": {
       "model_id": "8e1cb44d7dab47d699407f9d0d433c37",
       "version_major": 2,
       "version_minor": 0
      },
      "text/plain": [
       "HBox(children=(IntProgress(value=0, max=9999), HTML(value='')))"
      ]
     },
     "metadata": {},
     "output_type": "display_data"
    },
    {
     "data": {
      "application/vnd.jupyter.widget-view+json": {
       "model_id": "8744b46c46fe46259049a6b0a9a1b3c3",
       "version_major": 2,
       "version_minor": 0
      },
      "text/plain": [
       "HBox(children=(IntProgress(value=0, max=1500000), HTML(value='')))"
      ]
     },
     "metadata": {},
     "output_type": "display_data"
    },
    {
     "data": {
      "application/vnd.jupyter.widget-view+json": {
       "model_id": "c5c4ac445e6e410c9ada706b09ddf2df",
       "version_major": 2,
       "version_minor": 0
      },
      "text/plain": [
       "HBox(children=(IntProgress(value=0, max=9999), HTML(value='')))"
      ]
     },
     "metadata": {},
     "output_type": "display_data"
    },
    {
     "data": {
      "application/vnd.jupyter.widget-view+json": {
       "model_id": "a4f8319d182a4f548b66b480b7402357",
       "version_major": 2,
       "version_minor": 0
      },
      "text/plain": [
       "HBox(children=(IntProgress(value=0, max=9999), HTML(value='')))"
      ]
     },
     "metadata": {},
     "output_type": "display_data"
    },
    {
     "data": {
      "application/vnd.jupyter.widget-view+json": {
       "model_id": "3d0dc306b62f42609ab931ea9d43e446",
       "version_major": 2,
       "version_minor": 0
      },
      "text/plain": [
       "HBox(children=(IntProgress(value=0, max=1500000), HTML(value='')))"
      ]
     },
     "metadata": {},
     "output_type": "display_data"
    },
    {
     "data": {
      "application/vnd.jupyter.widget-view+json": {
       "model_id": "172b1f2d1220485b9d199af0841d5515",
       "version_major": 2,
       "version_minor": 0
      },
      "text/plain": [
       "HBox(children=(IntProgress(value=0, max=9999), HTML(value='')))"
      ]
     },
     "metadata": {},
     "output_type": "display_data"
    },
    {
     "data": {
      "application/vnd.jupyter.widget-view+json": {
       "model_id": "5fd2abaa6c364ee682cb75a69f3e822c",
       "version_major": 2,
       "version_minor": 0
      },
      "text/plain": [
       "HBox(children=(IntProgress(value=0, max=9999), HTML(value='')))"
      ]
     },
     "metadata": {},
     "output_type": "display_data"
    },
    {
     "data": {
      "application/vnd.jupyter.widget-view+json": {
       "model_id": "4dde423e254d4e229e88f24a285ccf8a",
       "version_major": 2,
       "version_minor": 0
      },
      "text/plain": [
       "HBox(children=(IntProgress(value=0, max=1500000), HTML(value='')))"
      ]
     },
     "metadata": {},
     "output_type": "display_data"
    },
    {
     "data": {
      "application/vnd.jupyter.widget-view+json": {
       "model_id": "d71b528f3c2047aeac11d3307fe91c47",
       "version_major": 2,
       "version_minor": 0
      },
      "text/plain": [
       "HBox(children=(IntProgress(value=0, max=9999), HTML(value='')))"
      ]
     },
     "metadata": {},
     "output_type": "display_data"
    },
    {
     "data": {
      "application/vnd.jupyter.widget-view+json": {
       "model_id": "5bb7b114d75545ce8151705730a8d20d",
       "version_major": 2,
       "version_minor": 0
      },
      "text/plain": [
       "HBox(children=(IntProgress(value=0, max=9999), HTML(value='')))"
      ]
     },
     "metadata": {},
     "output_type": "display_data"
    },
    {
     "data": {
      "application/vnd.jupyter.widget-view+json": {
       "model_id": "a4f55537fbbc41d5aa60a8c93ffe59f3",
       "version_major": 2,
       "version_minor": 0
      },
      "text/plain": [
       "HBox(children=(IntProgress(value=0, max=1500000), HTML(value='')))"
      ]
     },
     "metadata": {},
     "output_type": "display_data"
    },
    {
     "data": {
      "application/vnd.jupyter.widget-view+json": {
       "model_id": "ebb77876226548e78df59fe0d8cb7de2",
       "version_major": 2,
       "version_minor": 0
      },
      "text/plain": [
       "HBox(children=(IntProgress(value=0, max=9999), HTML(value='')))"
      ]
     },
     "metadata": {},
     "output_type": "display_data"
    },
    {
     "data": {
      "application/vnd.jupyter.widget-view+json": {
       "model_id": "8a309fba85ab4014827af191719919b5",
       "version_major": 2,
       "version_minor": 0
      },
      "text/plain": [
       "HBox(children=(IntProgress(value=0, max=9999), HTML(value='')))"
      ]
     },
     "metadata": {},
     "output_type": "display_data"
    },
    {
     "data": {
      "application/vnd.jupyter.widget-view+json": {
       "model_id": "c87922b8b3fe4358aa6e2599a7d57053",
       "version_major": 2,
       "version_minor": 0
      },
      "text/plain": [
       "HBox(children=(IntProgress(value=0, max=1500000), HTML(value='')))"
      ]
     },
     "metadata": {},
     "output_type": "display_data"
    },
    {
     "data": {
      "application/vnd.jupyter.widget-view+json": {
       "model_id": "fe2765aa440142798786b8591a77bafb",
       "version_major": 2,
       "version_minor": 0
      },
      "text/plain": [
       "HBox(children=(IntProgress(value=0, max=9999), HTML(value='')))"
      ]
     },
     "metadata": {},
     "output_type": "display_data"
    },
    {
     "data": {
      "application/vnd.jupyter.widget-view+json": {
       "model_id": "d77c0964edd24cbc92a864ef0a4aebe1",
       "version_major": 2,
       "version_minor": 0
      },
      "text/plain": [
       "HBox(children=(IntProgress(value=0, max=9999), HTML(value='')))"
      ]
     },
     "metadata": {},
     "output_type": "display_data"
    },
    {
     "data": {
      "application/vnd.jupyter.widget-view+json": {
       "model_id": "b72f6f3199494607bda82481f756dd9f",
       "version_major": 2,
       "version_minor": 0
      },
      "text/plain": [
       "HBox(children=(IntProgress(value=0, max=1500000), HTML(value='')))"
      ]
     },
     "metadata": {},
     "output_type": "display_data"
    },
    {
     "data": {
      "application/vnd.jupyter.widget-view+json": {
       "model_id": "502e5d11feae4dedad3c28260f5fc1a4",
       "version_major": 2,
       "version_minor": 0
      },
      "text/plain": [
       "HBox(children=(IntProgress(value=0, max=9999), HTML(value='')))"
      ]
     },
     "metadata": {},
     "output_type": "display_data"
    },
    {
     "data": {
      "application/vnd.jupyter.widget-view+json": {
       "model_id": "164d89711ad54b6294d815e78fba9bfe",
       "version_major": 2,
       "version_minor": 0
      },
      "text/plain": [
       "HBox(children=(IntProgress(value=0, max=9999), HTML(value='')))"
      ]
     },
     "metadata": {},
     "output_type": "display_data"
    },
    {
     "data": {
      "application/vnd.jupyter.widget-view+json": {
       "model_id": "67f6abfb05ca4c31b016c2fc23bc49dc",
       "version_major": 2,
       "version_minor": 0
      },
      "text/plain": [
       "HBox(children=(IntProgress(value=0, max=1500000), HTML(value='')))"
      ]
     },
     "metadata": {},
     "output_type": "display_data"
    },
    {
     "data": {
      "application/vnd.jupyter.widget-view+json": {
       "model_id": "cafdd23341b84729993a9f3ee6dbe731",
       "version_major": 2,
       "version_minor": 0
      },
      "text/plain": [
       "HBox(children=(IntProgress(value=0, max=9999), HTML(value='')))"
      ]
     },
     "metadata": {},
     "output_type": "display_data"
    },
    {
     "data": {
      "application/vnd.jupyter.widget-view+json": {
       "model_id": "573327f080f74ff08d87d38a43cbf1e6",
       "version_major": 2,
       "version_minor": 0
      },
      "text/plain": [
       "HBox(children=(IntProgress(value=0, max=9999), HTML(value='')))"
      ]
     },
     "metadata": {},
     "output_type": "display_data"
    },
    {
     "data": {
      "application/vnd.jupyter.widget-view+json": {
       "model_id": "84c756160d9b461fad4331b63ff0a338",
       "version_major": 2,
       "version_minor": 0
      },
      "text/plain": [
       "HBox(children=(IntProgress(value=0, max=1500000), HTML(value='')))"
      ]
     },
     "metadata": {},
     "output_type": "display_data"
    },
    {
     "data": {
      "application/vnd.jupyter.widget-view+json": {
       "model_id": "757c8652adc4455898d13c4c26f64aaf",
       "version_major": 2,
       "version_minor": 0
      },
      "text/plain": [
       "HBox(children=(IntProgress(value=0, max=9999), HTML(value='')))"
      ]
     },
     "metadata": {},
     "output_type": "display_data"
    },
    {
     "data": {
      "application/vnd.jupyter.widget-view+json": {
       "model_id": "0e9c4720314a49ba93c02463c28e4be1",
       "version_major": 2,
       "version_minor": 0
      },
      "text/plain": [
       "HBox(children=(IntProgress(value=0, max=9999), HTML(value='')))"
      ]
     },
     "metadata": {},
     "output_type": "display_data"
    },
    {
     "data": {
      "application/vnd.jupyter.widget-view+json": {
       "model_id": "8dec0709cf914a9a87d5bc6281e20d17",
       "version_major": 2,
       "version_minor": 0
      },
      "text/plain": [
       "HBox(children=(IntProgress(value=0, max=1500000), HTML(value='')))"
      ]
     },
     "metadata": {},
     "output_type": "display_data"
    },
    {
     "data": {
      "application/vnd.jupyter.widget-view+json": {
       "model_id": "db1493950dac4713bed091477ea1fe05",
       "version_major": 2,
       "version_minor": 0
      },
      "text/plain": [
       "HBox(children=(IntProgress(value=0, max=9999), HTML(value='')))"
      ]
     },
     "metadata": {},
     "output_type": "display_data"
    },
    {
     "data": {
      "application/vnd.jupyter.widget-view+json": {
       "model_id": "5fa6d9f3992547b6a62c376630c04175",
       "version_major": 2,
       "version_minor": 0
      },
      "text/plain": [
       "HBox(children=(IntProgress(value=0, max=9999), HTML(value='')))"
      ]
     },
     "metadata": {},
     "output_type": "display_data"
    },
    {
     "data": {
      "application/vnd.jupyter.widget-view+json": {
       "model_id": "e15b66f3df3c409590323757a5eb1533",
       "version_major": 2,
       "version_minor": 0
      },
      "text/plain": [
       "HBox(children=(IntProgress(value=0, max=1500000), HTML(value='')))"
      ]
     },
     "metadata": {},
     "output_type": "display_data"
    },
    {
     "data": {
      "application/vnd.jupyter.widget-view+json": {
       "model_id": "0283d24c9253493bbf30176f7fec26e2",
       "version_major": 2,
       "version_minor": 0
      },
      "text/plain": [
       "HBox(children=(IntProgress(value=0, max=9999), HTML(value='')))"
      ]
     },
     "metadata": {},
     "output_type": "display_data"
    },
    {
     "data": {
      "application/vnd.jupyter.widget-view+json": {
       "model_id": "79a103e0bc4c40a2b5affd7e86eeea2c",
       "version_major": 2,
       "version_minor": 0
      },
      "text/plain": [
       "HBox(children=(IntProgress(value=0, max=9999), HTML(value='')))"
      ]
     },
     "metadata": {},
     "output_type": "display_data"
    },
    {
     "data": {
      "application/vnd.jupyter.widget-view+json": {
       "model_id": "a16b664fe7fe43d0b2c0661af9227bda",
       "version_major": 2,
       "version_minor": 0
      },
      "text/plain": [
       "HBox(children=(IntProgress(value=0, max=1500000), HTML(value='')))"
      ]
     },
     "metadata": {},
     "output_type": "display_data"
    },
    {
     "data": {
      "application/vnd.jupyter.widget-view+json": {
       "model_id": "738c2ccab6344f128f78ccc98c9e8b04",
       "version_major": 2,
       "version_minor": 0
      },
      "text/plain": [
       "HBox(children=(IntProgress(value=0, max=9999), HTML(value='')))"
      ]
     },
     "metadata": {},
     "output_type": "display_data"
    },
    {
     "data": {
      "application/vnd.jupyter.widget-view+json": {
       "model_id": "a06de73dc6e043ee8903ce17088bd8ff",
       "version_major": 2,
       "version_minor": 0
      },
      "text/plain": [
       "HBox(children=(IntProgress(value=0, max=9999), HTML(value='')))"
      ]
     },
     "metadata": {},
     "output_type": "display_data"
    },
    {
     "data": {
      "application/vnd.jupyter.widget-view+json": {
       "model_id": "5ddf00671e2c4201b291b9a69863fb27",
       "version_major": 2,
       "version_minor": 0
      },
      "text/plain": [
       "HBox(children=(IntProgress(value=0, max=1500000), HTML(value='')))"
      ]
     },
     "metadata": {},
     "output_type": "display_data"
    },
    {
     "data": {
      "application/vnd.jupyter.widget-view+json": {
       "model_id": "80c48a43bf6849df801725c20d356450",
       "version_major": 2,
       "version_minor": 0
      },
      "text/plain": [
       "HBox(children=(IntProgress(value=0, max=9999), HTML(value='')))"
      ]
     },
     "metadata": {},
     "output_type": "display_data"
    },
    {
     "data": {
      "application/vnd.jupyter.widget-view+json": {
       "model_id": "c913a7b27cf24a29a9713d7366f5bc90",
       "version_major": 2,
       "version_minor": 0
      },
      "text/plain": [
       "HBox(children=(IntProgress(value=0, max=9999), HTML(value='')))"
      ]
     },
     "metadata": {},
     "output_type": "display_data"
    },
    {
     "data": {
      "application/vnd.jupyter.widget-view+json": {
       "model_id": "297867a238a5407ea9050ea41159e3b8",
       "version_major": 2,
       "version_minor": 0
      },
      "text/plain": [
       "HBox(children=(IntProgress(value=0, max=1500000), HTML(value='')))"
      ]
     },
     "metadata": {},
     "output_type": "display_data"
    },
    {
     "data": {
      "application/vnd.jupyter.widget-view+json": {
       "model_id": "9f400d2258144b5ebecefb3dc2349d60",
       "version_major": 2,
       "version_minor": 0
      },
      "text/plain": [
       "HBox(children=(IntProgress(value=0, max=9999), HTML(value='')))"
      ]
     },
     "metadata": {},
     "output_type": "display_data"
    },
    {
     "data": {
      "application/vnd.jupyter.widget-view+json": {
       "model_id": "934e5c347e4242329bdaf879ebc9f1d8",
       "version_major": 2,
       "version_minor": 0
      },
      "text/plain": [
       "HBox(children=(IntProgress(value=0, max=9999), HTML(value='')))"
      ]
     },
     "metadata": {},
     "output_type": "display_data"
    },
    {
     "data": {
      "application/vnd.jupyter.widget-view+json": {
       "model_id": "de071333a5fe4a5bb7d044320979024f",
       "version_major": 2,
       "version_minor": 0
      },
      "text/plain": [
       "HBox(children=(IntProgress(value=0, max=1500000), HTML(value='')))"
      ]
     },
     "metadata": {},
     "output_type": "display_data"
    },
    {
     "data": {
      "application/vnd.jupyter.widget-view+json": {
       "model_id": "b56ccd7544af47b0acbdd95205f5a8c7",
       "version_major": 2,
       "version_minor": 0
      },
      "text/plain": [
       "HBox(children=(IntProgress(value=0, max=9999), HTML(value='')))"
      ]
     },
     "metadata": {},
     "output_type": "display_data"
    },
    {
     "data": {
      "application/vnd.jupyter.widget-view+json": {
       "model_id": "5a6e87b0f87e419eb025e19891eda1a2",
       "version_major": 2,
       "version_minor": 0
      },
      "text/plain": [
       "HBox(children=(IntProgress(value=0, max=9999), HTML(value='')))"
      ]
     },
     "metadata": {},
     "output_type": "display_data"
    }
   ],
   "source": [
    "tau_max = 25\n",
    "\n",
    "tau_delay = np.arange(tau_max)\n",
    "gain = np.ndarray((tau_max))\n",
    "\n",
    "MC = np.ndarray((tau_max))\n",
    "\n",
    "for k,tau in tqdm(enumerate(tau_delay)):\n",
    "\n",
    "    rnn = RNN(N=500)\n",
    "\n",
    "    u_in,u_out = gen_in_out_one_in_subs(1500000,tau)\n",
    "\n",
    "    t,y,a,w_out,E = rnn.learn_global_gain_RTRL(u_in,u_out,tau_batch_w_out=1.)\n",
    "    \n",
    "    gain[k] = a[-1]\n",
    "    \n",
    "    u_in_learn,u_out_learn = gen_in_out_one_in_subs(10000,tau)\n",
    "    u_in_test,u_out_test = gen_in_out_one_in_subs(10000,tau)\n",
    "\n",
    "    rnn.learn_w_out(u_in_learn,u_out_learn)\n",
    "\n",
    "    u_out_pred = rnn.predict_data(u_in_test)\n",
    "    \n",
    "    MC[k] = np.corrcoef(u_out_test,u_out_pred)[0,1]**2.\n",
    "    \n",
    "    "
   ]
  },
  {
   "cell_type": "code",
   "execution_count": 188,
   "metadata": {},
   "outputs": [
    {
     "data": {
      "application/vnd.jupyter.widget-view+json": {
       "model_id": "21c1150cdc4048009c3c4da1bd7991a6",
       "version_major": 2,
       "version_minor": 0
      },
      "text/plain": [
       "HBox(children=(IntProgress(value=1, bar_style='info', max=1), HTML(value='')))"
      ]
     },
     "metadata": {},
     "output_type": "display_data"
    },
    {
     "data": {
      "application/vnd.jupyter.widget-view+json": {
       "model_id": "8dbd867e0d56468c935866da43ceffc6",
       "version_major": 2,
       "version_minor": 0
      },
      "text/plain": [
       "HBox(children=(IntProgress(value=0, max=1500000), HTML(value='')))"
      ]
     },
     "metadata": {},
     "output_type": "display_data"
    },
    {
     "data": {
      "application/vnd.jupyter.widget-view+json": {
       "model_id": "2008773275744560b4a9da73bf27cb69",
       "version_major": 2,
       "version_minor": 0
      },
      "text/plain": [
       "HBox(children=(IntProgress(value=0, max=9999), HTML(value='')))"
      ]
     },
     "metadata": {},
     "output_type": "display_data"
    },
    {
     "data": {
      "application/vnd.jupyter.widget-view+json": {
       "model_id": "76c217e524fd4ce99bc2a7ec0e108110",
       "version_major": 2,
       "version_minor": 0
      },
      "text/plain": [
       "HBox(children=(IntProgress(value=0, max=9999), HTML(value='')))"
      ]
     },
     "metadata": {},
     "output_type": "display_data"
    },
    {
     "data": {
      "application/vnd.jupyter.widget-view+json": {
       "model_id": "2476ab82eecb4d34b01ba154121115dd",
       "version_major": 2,
       "version_minor": 0
      },
      "text/plain": [
       "HBox(children=(IntProgress(value=0, max=1500000), HTML(value='')))"
      ]
     },
     "metadata": {},
     "output_type": "display_data"
    },
    {
     "data": {
      "application/vnd.jupyter.widget-view+json": {
       "model_id": "4544259597414b19b2a3cd18c9384266",
       "version_major": 2,
       "version_minor": 0
      },
      "text/plain": [
       "HBox(children=(IntProgress(value=0, max=9999), HTML(value='')))"
      ]
     },
     "metadata": {},
     "output_type": "display_data"
    },
    {
     "data": {
      "application/vnd.jupyter.widget-view+json": {
       "model_id": "bd713261a23a4d6ea91aa868308b3ea3",
       "version_major": 2,
       "version_minor": 0
      },
      "text/plain": [
       "HBox(children=(IntProgress(value=0, max=9999), HTML(value='')))"
      ]
     },
     "metadata": {},
     "output_type": "display_data"
    },
    {
     "data": {
      "application/vnd.jupyter.widget-view+json": {
       "model_id": "9bf4c2cb07d0458eb2e0cd296dd3d541",
       "version_major": 2,
       "version_minor": 0
      },
      "text/plain": [
       "HBox(children=(IntProgress(value=0, max=1500000), HTML(value='')))"
      ]
     },
     "metadata": {},
     "output_type": "display_data"
    },
    {
     "data": {
      "application/vnd.jupyter.widget-view+json": {
       "model_id": "d3c1c1f2a15641009df6ba86cb5f69ee",
       "version_major": 2,
       "version_minor": 0
      },
      "text/plain": [
       "HBox(children=(IntProgress(value=0, max=9999), HTML(value='')))"
      ]
     },
     "metadata": {},
     "output_type": "display_data"
    },
    {
     "data": {
      "application/vnd.jupyter.widget-view+json": {
       "model_id": "7fa5e96ae1b84671afb4353d7eba3daa",
       "version_major": 2,
       "version_minor": 0
      },
      "text/plain": [
       "HBox(children=(IntProgress(value=0, max=9999), HTML(value='')))"
      ]
     },
     "metadata": {},
     "output_type": "display_data"
    },
    {
     "data": {
      "application/vnd.jupyter.widget-view+json": {
       "model_id": "a422903f912a48c994900519f5c71c08",
       "version_major": 2,
       "version_minor": 0
      },
      "text/plain": [
       "HBox(children=(IntProgress(value=0, max=1500000), HTML(value='')))"
      ]
     },
     "metadata": {},
     "output_type": "display_data"
    },
    {
     "data": {
      "application/vnd.jupyter.widget-view+json": {
       "model_id": "74c8a692e0d343d58667763ccda3b003",
       "version_major": 2,
       "version_minor": 0
      },
      "text/plain": [
       "HBox(children=(IntProgress(value=0, max=9999), HTML(value='')))"
      ]
     },
     "metadata": {},
     "output_type": "display_data"
    },
    {
     "data": {
      "application/vnd.jupyter.widget-view+json": {
       "model_id": "f6c739eca85d4b2985d3de9d167ab34c",
       "version_major": 2,
       "version_minor": 0
      },
      "text/plain": [
       "HBox(children=(IntProgress(value=0, max=9999), HTML(value='')))"
      ]
     },
     "metadata": {},
     "output_type": "display_data"
    },
    {
     "data": {
      "application/vnd.jupyter.widget-view+json": {
       "model_id": "54ba1335c4af487b9705db3ef7cd1161",
       "version_major": 2,
       "version_minor": 0
      },
      "text/plain": [
       "HBox(children=(IntProgress(value=0, max=1500000), HTML(value='')))"
      ]
     },
     "metadata": {},
     "output_type": "display_data"
    },
    {
     "data": {
      "application/vnd.jupyter.widget-view+json": {
       "model_id": "a425a2e7c7ef4239851170387a384a42",
       "version_major": 2,
       "version_minor": 0
      },
      "text/plain": [
       "HBox(children=(IntProgress(value=0, max=9999), HTML(value='')))"
      ]
     },
     "metadata": {},
     "output_type": "display_data"
    },
    {
     "data": {
      "application/vnd.jupyter.widget-view+json": {
       "model_id": "37de210a0b9940a1b3ac131ff7e498dc",
       "version_major": 2,
       "version_minor": 0
      },
      "text/plain": [
       "HBox(children=(IntProgress(value=0, max=9999), HTML(value='')))"
      ]
     },
     "metadata": {},
     "output_type": "display_data"
    },
    {
     "data": {
      "application/vnd.jupyter.widget-view+json": {
       "model_id": "88abf8b46f1f4e0194c8fcb593cd16e8",
       "version_major": 2,
       "version_minor": 0
      },
      "text/plain": [
       "HBox(children=(IntProgress(value=0, max=1500000), HTML(value='')))"
      ]
     },
     "metadata": {},
     "output_type": "display_data"
    },
    {
     "data": {
      "application/vnd.jupyter.widget-view+json": {
       "model_id": "b605cfb1014e4537818dec434dd9cc41",
       "version_major": 2,
       "version_minor": 0
      },
      "text/plain": [
       "HBox(children=(IntProgress(value=0, max=9999), HTML(value='')))"
      ]
     },
     "metadata": {},
     "output_type": "display_data"
    },
    {
     "data": {
      "application/vnd.jupyter.widget-view+json": {
       "model_id": "bc3753d4273141f69668e12a9c47548c",
       "version_major": 2,
       "version_minor": 0
      },
      "text/plain": [
       "HBox(children=(IntProgress(value=0, max=9999), HTML(value='')))"
      ]
     },
     "metadata": {},
     "output_type": "display_data"
    },
    {
     "data": {
      "application/vnd.jupyter.widget-view+json": {
       "model_id": "b957825e90264cf9a419053ebb8365fe",
       "version_major": 2,
       "version_minor": 0
      },
      "text/plain": [
       "HBox(children=(IntProgress(value=0, max=1500000), HTML(value='')))"
      ]
     },
     "metadata": {},
     "output_type": "display_data"
    },
    {
     "data": {
      "application/vnd.jupyter.widget-view+json": {
       "model_id": "a34fce85a01e4718a7a1410fae179bd7",
       "version_major": 2,
       "version_minor": 0
      },
      "text/plain": [
       "HBox(children=(IntProgress(value=0, max=9999), HTML(value='')))"
      ]
     },
     "metadata": {},
     "output_type": "display_data"
    },
    {
     "data": {
      "application/vnd.jupyter.widget-view+json": {
       "model_id": "f5e5115c72c84aa28faf284e5a8487f1",
       "version_major": 2,
       "version_minor": 0
      },
      "text/plain": [
       "HBox(children=(IntProgress(value=0, max=9999), HTML(value='')))"
      ]
     },
     "metadata": {},
     "output_type": "display_data"
    },
    {
     "data": {
      "application/vnd.jupyter.widget-view+json": {
       "model_id": "163161982de74084a8f48fb1fcf36810",
       "version_major": 2,
       "version_minor": 0
      },
      "text/plain": [
       "HBox(children=(IntProgress(value=0, max=1500000), HTML(value='')))"
      ]
     },
     "metadata": {},
     "output_type": "display_data"
    },
    {
     "data": {
      "application/vnd.jupyter.widget-view+json": {
       "model_id": "b5eb9e42475242eb8a71ad48ac474e5a",
       "version_major": 2,
       "version_minor": 0
      },
      "text/plain": [
       "HBox(children=(IntProgress(value=0, max=9999), HTML(value='')))"
      ]
     },
     "metadata": {},
     "output_type": "display_data"
    },
    {
     "data": {
      "application/vnd.jupyter.widget-view+json": {
       "model_id": "ec0b7ca1172848f1831c6035c968c389",
       "version_major": 2,
       "version_minor": 0
      },
      "text/plain": [
       "HBox(children=(IntProgress(value=0, max=9999), HTML(value='')))"
      ]
     },
     "metadata": {},
     "output_type": "display_data"
    },
    {
     "data": {
      "application/vnd.jupyter.widget-view+json": {
       "model_id": "35c35b10e0f441f5bf55d04f061c3c98",
       "version_major": 2,
       "version_minor": 0
      },
      "text/plain": [
       "HBox(children=(IntProgress(value=0, max=1500000), HTML(value='')))"
      ]
     },
     "metadata": {},
     "output_type": "display_data"
    },
    {
     "data": {
      "application/vnd.jupyter.widget-view+json": {
       "model_id": "e2591b150e4e4c43bd957c6edf867964",
       "version_major": 2,
       "version_minor": 0
      },
      "text/plain": [
       "HBox(children=(IntProgress(value=0, max=9999), HTML(value='')))"
      ]
     },
     "metadata": {},
     "output_type": "display_data"
    },
    {
     "data": {
      "application/vnd.jupyter.widget-view+json": {
       "model_id": "13e0a6c8db0548c0ac04fa67d55f88c1",
       "version_major": 2,
       "version_minor": 0
      },
      "text/plain": [
       "HBox(children=(IntProgress(value=0, max=9999), HTML(value='')))"
      ]
     },
     "metadata": {},
     "output_type": "display_data"
    },
    {
     "data": {
      "application/vnd.jupyter.widget-view+json": {
       "model_id": "d8803d348617494db6b7cc62dbcfa525",
       "version_major": 2,
       "version_minor": 0
      },
      "text/plain": [
       "HBox(children=(IntProgress(value=0, max=1500000), HTML(value='')))"
      ]
     },
     "metadata": {},
     "output_type": "display_data"
    },
    {
     "data": {
      "application/vnd.jupyter.widget-view+json": {
       "model_id": "634c44eafa7f4e288e6604ac71f2c4ee",
       "version_major": 2,
       "version_minor": 0
      },
      "text/plain": [
       "HBox(children=(IntProgress(value=0, max=9999), HTML(value='')))"
      ]
     },
     "metadata": {},
     "output_type": "display_data"
    },
    {
     "data": {
      "application/vnd.jupyter.widget-view+json": {
       "model_id": "cf1960ef06594df6bb7b398b5cb63a96",
       "version_major": 2,
       "version_minor": 0
      },
      "text/plain": [
       "HBox(children=(IntProgress(value=0, max=9999), HTML(value='')))"
      ]
     },
     "metadata": {},
     "output_type": "display_data"
    },
    {
     "data": {
      "application/vnd.jupyter.widget-view+json": {
       "model_id": "173f36199889475d8d7e337c7e20e764",
       "version_major": 2,
       "version_minor": 0
      },
      "text/plain": [
       "HBox(children=(IntProgress(value=0, max=1500000), HTML(value='')))"
      ]
     },
     "metadata": {},
     "output_type": "display_data"
    },
    {
     "data": {
      "application/vnd.jupyter.widget-view+json": {
       "model_id": "d1a65b52fba64c6aad8e1969cfc1f4e3",
       "version_major": 2,
       "version_minor": 0
      },
      "text/plain": [
       "HBox(children=(IntProgress(value=0, max=9999), HTML(value='')))"
      ]
     },
     "metadata": {},
     "output_type": "display_data"
    },
    {
     "data": {
      "application/vnd.jupyter.widget-view+json": {
       "model_id": "56d5b2abf94547a1a4645bd35308c145",
       "version_major": 2,
       "version_minor": 0
      },
      "text/plain": [
       "HBox(children=(IntProgress(value=0, max=9999), HTML(value='')))"
      ]
     },
     "metadata": {},
     "output_type": "display_data"
    },
    {
     "data": {
      "application/vnd.jupyter.widget-view+json": {
       "model_id": "ec6cc2bf81834d11b12ea674daf2608c",
       "version_major": 2,
       "version_minor": 0
      },
      "text/plain": [
       "HBox(children=(IntProgress(value=0, max=1500000), HTML(value='')))"
      ]
     },
     "metadata": {},
     "output_type": "display_data"
    },
    {
     "data": {
      "application/vnd.jupyter.widget-view+json": {
       "model_id": "bf970d0995d8436d884e4ec41bbde4bb",
       "version_major": 2,
       "version_minor": 0
      },
      "text/plain": [
       "HBox(children=(IntProgress(value=0, max=9999), HTML(value='')))"
      ]
     },
     "metadata": {},
     "output_type": "display_data"
    },
    {
     "data": {
      "application/vnd.jupyter.widget-view+json": {
       "model_id": "0143de2ea00949a8be25f8c965eb0a92",
       "version_major": 2,
       "version_minor": 0
      },
      "text/plain": [
       "HBox(children=(IntProgress(value=0, max=9999), HTML(value='')))"
      ]
     },
     "metadata": {},
     "output_type": "display_data"
    },
    {
     "data": {
      "application/vnd.jupyter.widget-view+json": {
       "model_id": "b9f476ae841c4af8a7624b2b47c4c3b2",
       "version_major": 2,
       "version_minor": 0
      },
      "text/plain": [
       "HBox(children=(IntProgress(value=0, max=1500000), HTML(value='')))"
      ]
     },
     "metadata": {},
     "output_type": "display_data"
    },
    {
     "data": {
      "application/vnd.jupyter.widget-view+json": {
       "model_id": "1866b18ed3304d24a9b8e8390b4e24b8",
       "version_major": 2,
       "version_minor": 0
      },
      "text/plain": [
       "HBox(children=(IntProgress(value=0, max=9999), HTML(value='')))"
      ]
     },
     "metadata": {},
     "output_type": "display_data"
    },
    {
     "data": {
      "application/vnd.jupyter.widget-view+json": {
       "model_id": "4db31514b9ad4425bf12716f9b4fea97",
       "version_major": 2,
       "version_minor": 0
      },
      "text/plain": [
       "HBox(children=(IntProgress(value=0, max=9999), HTML(value='')))"
      ]
     },
     "metadata": {},
     "output_type": "display_data"
    },
    {
     "data": {
      "application/vnd.jupyter.widget-view+json": {
       "model_id": "223279694aa04523af4665a23468dfd3",
       "version_major": 2,
       "version_minor": 0
      },
      "text/plain": [
       "HBox(children=(IntProgress(value=0, max=1500000), HTML(value='')))"
      ]
     },
     "metadata": {},
     "output_type": "display_data"
    },
    {
     "data": {
      "application/vnd.jupyter.widget-view+json": {
       "model_id": "bb27e33187e943939fe5e1d9933814bd",
       "version_major": 2,
       "version_minor": 0
      },
      "text/plain": [
       "HBox(children=(IntProgress(value=0, max=9999), HTML(value='')))"
      ]
     },
     "metadata": {},
     "output_type": "display_data"
    },
    {
     "data": {
      "application/vnd.jupyter.widget-view+json": {
       "model_id": "4f6e7d39ad5f4aed9eccbae0d9501fab",
       "version_major": 2,
       "version_minor": 0
      },
      "text/plain": [
       "HBox(children=(IntProgress(value=0, max=9999), HTML(value='')))"
      ]
     },
     "metadata": {},
     "output_type": "display_data"
    },
    {
     "data": {
      "application/vnd.jupyter.widget-view+json": {
       "model_id": "65892f65eca7412fae46621859b760fc",
       "version_major": 2,
       "version_minor": 0
      },
      "text/plain": [
       "HBox(children=(IntProgress(value=0, max=1500000), HTML(value='')))"
      ]
     },
     "metadata": {},
     "output_type": "display_data"
    },
    {
     "data": {
      "application/vnd.jupyter.widget-view+json": {
       "model_id": "532cc60cd1e94a69b50f0695b4b11212",
       "version_major": 2,
       "version_minor": 0
      },
      "text/plain": [
       "HBox(children=(IntProgress(value=0, max=9999), HTML(value='')))"
      ]
     },
     "metadata": {},
     "output_type": "display_data"
    },
    {
     "data": {
      "application/vnd.jupyter.widget-view+json": {
       "model_id": "35f3a2ed9bf14f31a56f499a57cf1e66",
       "version_major": 2,
       "version_minor": 0
      },
      "text/plain": [
       "HBox(children=(IntProgress(value=0, max=9999), HTML(value='')))"
      ]
     },
     "metadata": {},
     "output_type": "display_data"
    },
    {
     "data": {
      "application/vnd.jupyter.widget-view+json": {
       "model_id": "d3ef77a948504de59f377960d321a5de",
       "version_major": 2,
       "version_minor": 0
      },
      "text/plain": [
       "HBox(children=(IntProgress(value=0, max=1500000), HTML(value='')))"
      ]
     },
     "metadata": {},
     "output_type": "display_data"
    },
    {
     "data": {
      "application/vnd.jupyter.widget-view+json": {
       "model_id": "3ff9e3ba2f274b7c89c3f0f5b69c41e3",
       "version_major": 2,
       "version_minor": 0
      },
      "text/plain": [
       "HBox(children=(IntProgress(value=0, max=9999), HTML(value='')))"
      ]
     },
     "metadata": {},
     "output_type": "display_data"
    },
    {
     "data": {
      "application/vnd.jupyter.widget-view+json": {
       "model_id": "6f8e535e12d343d6adfe5fbc5d516827",
       "version_major": 2,
       "version_minor": 0
      },
      "text/plain": [
       "HBox(children=(IntProgress(value=0, max=9999), HTML(value='')))"
      ]
     },
     "metadata": {},
     "output_type": "display_data"
    },
    {
     "data": {
      "application/vnd.jupyter.widget-view+json": {
       "model_id": "ba967294bd32423ca39b05c07489189c",
       "version_major": 2,
       "version_minor": 0
      },
      "text/plain": [
       "HBox(children=(IntProgress(value=0, max=1500000), HTML(value='')))"
      ]
     },
     "metadata": {},
     "output_type": "display_data"
    },
    {
     "data": {
      "application/vnd.jupyter.widget-view+json": {
       "model_id": "908a9a85b8104c2eaa4b18984a1aa38b",
       "version_major": 2,
       "version_minor": 0
      },
      "text/plain": [
       "HBox(children=(IntProgress(value=0, max=9999), HTML(value='')))"
      ]
     },
     "metadata": {},
     "output_type": "display_data"
    },
    {
     "data": {
      "application/vnd.jupyter.widget-view+json": {
       "model_id": "bb21a034b4d34e4793bedf1564f2774d",
       "version_major": 2,
       "version_minor": 0
      },
      "text/plain": [
       "HBox(children=(IntProgress(value=0, max=9999), HTML(value='')))"
      ]
     },
     "metadata": {},
     "output_type": "display_data"
    },
    {
     "data": {
      "application/vnd.jupyter.widget-view+json": {
       "model_id": "ac0d6f0f987f4cd99c4d78f3f76208f8",
       "version_major": 2,
       "version_minor": 0
      },
      "text/plain": [
       "HBox(children=(IntProgress(value=0, max=1500000), HTML(value='')))"
      ]
     },
     "metadata": {},
     "output_type": "display_data"
    },
    {
     "data": {
      "application/vnd.jupyter.widget-view+json": {
       "model_id": "4f61167464214e418ac290d52f210a8c",
       "version_major": 2,
       "version_minor": 0
      },
      "text/plain": [
       "HBox(children=(IntProgress(value=0, max=9999), HTML(value='')))"
      ]
     },
     "metadata": {},
     "output_type": "display_data"
    },
    {
     "data": {
      "application/vnd.jupyter.widget-view+json": {
       "model_id": "8b3d275394a04bd883b5eb1a6fe6a5e2",
       "version_major": 2,
       "version_minor": 0
      },
      "text/plain": [
       "HBox(children=(IntProgress(value=0, max=9999), HTML(value='')))"
      ]
     },
     "metadata": {},
     "output_type": "display_data"
    },
    {
     "data": {
      "application/vnd.jupyter.widget-view+json": {
       "model_id": "55bfe41c8c114d18b07444013724b5ce",
       "version_major": 2,
       "version_minor": 0
      },
      "text/plain": [
       "HBox(children=(IntProgress(value=0, max=1500000), HTML(value='')))"
      ]
     },
     "metadata": {},
     "output_type": "display_data"
    },
    {
     "data": {
      "application/vnd.jupyter.widget-view+json": {
       "model_id": "f5c0f8823a0f4d69a89f72a318d5717f",
       "version_major": 2,
       "version_minor": 0
      },
      "text/plain": [
       "HBox(children=(IntProgress(value=0, max=9999), HTML(value='')))"
      ]
     },
     "metadata": {},
     "output_type": "display_data"
    },
    {
     "data": {
      "application/vnd.jupyter.widget-view+json": {
       "model_id": "82137a8791484e4b931ffdb31181c41b",
       "version_major": 2,
       "version_minor": 0
      },
      "text/plain": [
       "HBox(children=(IntProgress(value=0, max=9999), HTML(value='')))"
      ]
     },
     "metadata": {},
     "output_type": "display_data"
    },
    {
     "data": {
      "application/vnd.jupyter.widget-view+json": {
       "model_id": "0c68c6d354314fcc960b6014a0843abd",
       "version_major": 2,
       "version_minor": 0
      },
      "text/plain": [
       "HBox(children=(IntProgress(value=0, max=1500000), HTML(value='')))"
      ]
     },
     "metadata": {},
     "output_type": "display_data"
    },
    {
     "data": {
      "application/vnd.jupyter.widget-view+json": {
       "model_id": "0ebcd537284a4797b12d61597c217622",
       "version_major": 2,
       "version_minor": 0
      },
      "text/plain": [
       "HBox(children=(IntProgress(value=0, max=9999), HTML(value='')))"
      ]
     },
     "metadata": {},
     "output_type": "display_data"
    },
    {
     "data": {
      "application/vnd.jupyter.widget-view+json": {
       "model_id": "c561fae8b9c540c19a00bf894e701f5e",
       "version_major": 2,
       "version_minor": 0
      },
      "text/plain": [
       "HBox(children=(IntProgress(value=0, max=9999), HTML(value='')))"
      ]
     },
     "metadata": {},
     "output_type": "display_data"
    },
    {
     "data": {
      "application/vnd.jupyter.widget-view+json": {
       "model_id": "96a6297d1b2541029a68deb04b19c5f2",
       "version_major": 2,
       "version_minor": 0
      },
      "text/plain": [
       "HBox(children=(IntProgress(value=0, max=1500000), HTML(value='')))"
      ]
     },
     "metadata": {},
     "output_type": "display_data"
    },
    {
     "data": {
      "application/vnd.jupyter.widget-view+json": {
       "model_id": "ee545a3b4e7c4de9ac99d5f706c0ff24",
       "version_major": 2,
       "version_minor": 0
      },
      "text/plain": [
       "HBox(children=(IntProgress(value=0, max=9999), HTML(value='')))"
      ]
     },
     "metadata": {},
     "output_type": "display_data"
    },
    {
     "data": {
      "application/vnd.jupyter.widget-view+json": {
       "model_id": "be4777d9cd8340c589cc72fb37da8c77",
       "version_major": 2,
       "version_minor": 0
      },
      "text/plain": [
       "HBox(children=(IntProgress(value=0, max=9999), HTML(value='')))"
      ]
     },
     "metadata": {},
     "output_type": "display_data"
    },
    {
     "data": {
      "application/vnd.jupyter.widget-view+json": {
       "model_id": "a40917d8238d436aba8d3e2896ff1ffe",
       "version_major": 2,
       "version_minor": 0
      },
      "text/plain": [
       "HBox(children=(IntProgress(value=0, max=1500000), HTML(value='')))"
      ]
     },
     "metadata": {},
     "output_type": "display_data"
    },
    {
     "data": {
      "application/vnd.jupyter.widget-view+json": {
       "model_id": "007ccb0496284e1d8f040b35fa1bf7f9",
       "version_major": 2,
       "version_minor": 0
      },
      "text/plain": [
       "HBox(children=(IntProgress(value=0, max=9999), HTML(value='')))"
      ]
     },
     "metadata": {},
     "output_type": "display_data"
    },
    {
     "data": {
      "application/vnd.jupyter.widget-view+json": {
       "model_id": "42f3d615e40243df9198039c288e2bf0",
       "version_major": 2,
       "version_minor": 0
      },
      "text/plain": [
       "HBox(children=(IntProgress(value=0, max=9999), HTML(value='')))"
      ]
     },
     "metadata": {},
     "output_type": "display_data"
    },
    {
     "data": {
      "application/vnd.jupyter.widget-view+json": {
       "model_id": "7d43e11756f1428b8a1b1072086f2729",
       "version_major": 2,
       "version_minor": 0
      },
      "text/plain": [
       "HBox(children=(IntProgress(value=0, max=1500000), HTML(value='')))"
      ]
     },
     "metadata": {},
     "output_type": "display_data"
    },
    {
     "data": {
      "application/vnd.jupyter.widget-view+json": {
       "model_id": "5d06706b712c4966a04bc75163733fba",
       "version_major": 2,
       "version_minor": 0
      },
      "text/plain": [
       "HBox(children=(IntProgress(value=0, max=9999), HTML(value='')))"
      ]
     },
     "metadata": {},
     "output_type": "display_data"
    },
    {
     "data": {
      "application/vnd.jupyter.widget-view+json": {
       "model_id": "314a16acf4b24aaea57a11445d5d23e1",
       "version_major": 2,
       "version_minor": 0
      },
      "text/plain": [
       "HBox(children=(IntProgress(value=0, max=9999), HTML(value='')))"
      ]
     },
     "metadata": {},
     "output_type": "display_data"
    },
    {
     "data": {
      "application/vnd.jupyter.widget-view+json": {
       "model_id": "c263ce88709140dbb130155e43b7d84a",
       "version_major": 2,
       "version_minor": 0
      },
      "text/plain": [
       "HBox(children=(IntProgress(value=0, max=1500000), HTML(value='')))"
      ]
     },
     "metadata": {},
     "output_type": "display_data"
    },
    {
     "data": {
      "application/vnd.jupyter.widget-view+json": {
       "model_id": "4b81d232ca5e4a5f939fc33901177add",
       "version_major": 2,
       "version_minor": 0
      },
      "text/plain": [
       "HBox(children=(IntProgress(value=0, max=9999), HTML(value='')))"
      ]
     },
     "metadata": {},
     "output_type": "display_data"
    },
    {
     "data": {
      "application/vnd.jupyter.widget-view+json": {
       "model_id": "32bf60378cd0414ab99a49cc10a8071e",
       "version_major": 2,
       "version_minor": 0
      },
      "text/plain": [
       "HBox(children=(IntProgress(value=0, max=9999), HTML(value='')))"
      ]
     },
     "metadata": {},
     "output_type": "display_data"
    },
    {
     "data": {
      "application/vnd.jupyter.widget-view+json": {
       "model_id": "5c0f53f495214fdebc477e7a549815fc",
       "version_major": 2,
       "version_minor": 0
      },
      "text/plain": [
       "HBox(children=(IntProgress(value=0, max=1500000), HTML(value='')))"
      ]
     },
     "metadata": {},
     "output_type": "display_data"
    },
    {
     "data": {
      "application/vnd.jupyter.widget-view+json": {
       "model_id": "a50f05d9fdb6492d8536f4bc4b2cae01",
       "version_major": 2,
       "version_minor": 0
      },
      "text/plain": [
       "HBox(children=(IntProgress(value=0, max=9999), HTML(value='')))"
      ]
     },
     "metadata": {},
     "output_type": "display_data"
    },
    {
     "data": {
      "application/vnd.jupyter.widget-view+json": {
       "model_id": "b970a94154e344d8906f296cc82b70a6",
       "version_major": 2,
       "version_minor": 0
      },
      "text/plain": [
       "HBox(children=(IntProgress(value=0, max=9999), HTML(value='')))"
      ]
     },
     "metadata": {},
     "output_type": "display_data"
    }
   ],
   "source": [
    "gain_local = np.ndarray((tau_max))\n",
    "MC_local = np.ndarray((tau_max))\n",
    "\n",
    "\n",
    "for k,tau in tqdm(enumerate(tau_delay)):\n",
    "\n",
    "    rnn = RNN(N=500)\n",
    "\n",
    "    u_in,u_out = gen_in_out_one_in_subs(1500000,tau)\n",
    "\n",
    "    t,y,a,w_out,E = rnn.learn_global_gain_Local(u_in,u_out,tau_batch_w_out=1.)\n",
    "    \n",
    "    gain_local[k] = a[-1]\n",
    "    \n",
    "    u_in_learn,u_out_learn = gen_in_out_one_in_subs(10000,tau)\n",
    "    u_in_test,u_out_test = gen_in_out_one_in_subs(10000,tau)\n",
    "\n",
    "    rnn.learn_w_out(u_in_learn,u_out_learn)\n",
    "\n",
    "    u_out_pred = rnn.predict_data(u_in_test)\n",
    "    \n",
    "    MC_local[k] = np.corrcoef(u_out_test,u_out_pred)[0,1]**2."
   ]
  },
  {
   "cell_type": "code",
   "execution_count": 9,
   "metadata": {},
   "outputs": [],
   "source": [
    "textwidth = 5.5532\n",
    "path = \"../plots/RTRL/\""
   ]
  },
  {
   "cell_type": "code",
   "execution_count": 11,
   "metadata": {},
   "outputs": [],
   "source": [
    "colors = plt.rcParams['axes.prop_cycle'].by_key()['color']"
   ]
  },
  {
   "cell_type": "code",
   "execution_count": 3,
   "metadata": {},
   "outputs": [
    {
     "data": {
      "image/png": "[encoded data removed]",
      "text/plain": [
       "<Figure size 432x288 with 1 Axes>"
      ]
     },
     "metadata": {
      "needs_background": "light"
     },
     "output_type": "display_data"
    }
   ],
   "source": [
    "'''\n",
    "np.save(\"tau_delay.np\",tau_delay)\n",
    "np.save(\"gain.np\",gain)\n",
    "np.save(\"gain_local.np\",gain_local)\n",
    "'''\n",
    "tau_delay = np.load(\"tau_delay.np.npy\")\n",
    "gain = np.load(\"gain.np.npy\")\n",
    "gain_local=np.load(\"gain_local.np.npy\")\n",
    "\n",
    "plt.plot(tau_delay,gain,label='RTRL')\n",
    "plt.plot(tau_delay,gain_local,label='Local Gradient')\n",
    "plt.xlabel(\"Time delay\")\n",
    "plt.ylabel(\"Gain\")\n",
    "plt.legend()\n",
    "plt.show()"
   ]
  },
  {
   "cell_type": "code",
   "execution_count": 4,
   "metadata": {},
   "outputs": [
    {
     "data": {
      "image/png": "[encoded data removed]",
      "text/plain": [
       "<Figure size 432x288 with 1 Axes>"
      ]
     },
     "metadata": {
      "needs_background": "light"
     },
     "output_type": "display_data"
    }
   ],
   "source": [
    "'''\n",
    "np.save(\"MC.np\",MC)\n",
    "np.save(\"MC_local.np\",MC_local)\n",
    "'''\n",
    "\n",
    "MC = np.load(\"MC.np.npy\")\n",
    "MC_local = np.load(\"MC_local.np.npy\")\n",
    "\n",
    "plt.plot(tau_delay,MC)\n",
    "plt.plot(tau_delay,MC_local)\n",
    "plt.ylim([0.,1.])\n",
    "plt.show()"
   ]
  },
  {
   "cell_type": "code",
   "execution_count": 161,
   "metadata": {},
   "outputs": [
    {
     "data": {
      "application/vnd.jupyter.widget-view+json": {
       "model_id": "628c01a87a6b461eb06e19c53b80c7a0",
       "version_major": 2,
       "version_minor": 0
      },
      "text/plain": [
       "HBox(children=(IntProgress(value=0, max=1500000), HTML(value='')))"
      ]
     },
     "metadata": {},
     "output_type": "display_data"
    },
    {
     "data": {
      "application/vnd.jupyter.widget-view+json": {
       "model_id": "f64c4703976d4d0f915c125ad2d54ff6",
       "version_major": 2,
       "version_minor": 0
      },
      "text/plain": [
       "HBox(children=(IntProgress(value=0, max=1500000), HTML(value='')))"
      ]
     },
     "metadata": {},
     "output_type": "display_data"
    }
   ],
   "source": [
    "rnn = RNN(N=500)\n",
    "rnn.a *= 0.5\n",
    "rnn_RTRL = RNN(N=500)\n",
    "rnn_RTRL.eps_a *= 0.5\n",
    "\n",
    "u_in,u_out = gen_in_out_one_in_subs(1500000,5)\n",
    "\n",
    "t,y,X_r,X_e,a,dyda,dyda_approx,delta_a,delta_a_approx,w_out,E,W = rnn.learn_global_gain_Local(u_in,u_out,tau_batch_w_out=1.,T_skip_rec=100)\n",
    "t,y_RTRL,X_r_RTRL,X_e_RTRL,a_RTRL,dyda_RTRL,dyda_approx_RTRL,delta_a_RTRL,delta_a_approx_RTRL,w_out_RTRL,E_RTRL,W_RTRL = rnn_RTRL.learn_global_gain_RTRL(u_in,u_out,tau_batch_w_out=1.,T_skip_rec=100)"
   ]
  },
  {
   "cell_type": "code",
   "execution_count": 162,
   "metadata": {},
   "outputs": [
    {
     "data": {
      "image/png": "[encoded data removed]",
      "text/plain": [
       "<Figure size 432x288 with 1 Axes>"
      ]
     },
     "metadata": {
      "needs_background": "light"
     },
     "output_type": "display_data"
    }
   ],
   "source": [
    "plt.plot(a)\n",
    "plt.plot(a_RTRL)\n",
    "plt.show()"
   ]
  },
  {
   "cell_type": "code",
   "execution_count": 167,
   "metadata": {},
   "outputs": [
    {
     "data": {
      "image/png": "[encoded data removed]",
      "text/plain": [
       "<Figure size 432x288 with 1 Axes>"
      ]
     },
     "metadata": {
      "needs_background": "light"
     },
     "output_type": "display_data"
    }
   ],
   "source": [
    "plt.plot(E[50:])\n",
    "plt.plot(E_RTRL[50:])\n",
    "plt.show()"
   ]
  },
  {
   "cell_type": "code",
   "execution_count": 103,
   "metadata": {},
   "outputs": [
    {
     "data": {
      "application/vnd.jupyter.widget-view+json": {
       "model_id": "b085d562f668414fb482a585554461cc",
       "version_major": 2,
       "version_minor": 0
      },
      "text/plain": [
       "HBox(children=(IntProgress(value=0, max=5), HTML(value='')))"
      ]
     },
     "metadata": {},
     "output_type": "display_data"
    },
    {
     "data": {
      "application/vnd.jupyter.widget-view+json": {
       "model_id": "208bca7fe68a4ea1ba284dbdb24c6a29",
       "version_major": 2,
       "version_minor": 0
      },
      "text/plain": [
       "HBox(children=(IntProgress(value=0, max=4), HTML(value='')))"
      ]
     },
     "metadata": {},
     "output_type": "display_data"
    },
    {
     "data": {
      "application/vnd.jupyter.widget-view+json": {
       "model_id": "52b830ea149540d4a92ca281a9769a1e",
       "version_major": 2,
       "version_minor": 0
      },
      "text/plain": [
       "HBox(children=(IntProgress(value=0, max=50), HTML(value='')))"
      ]
     },
     "metadata": {},
     "output_type": "display_data"
    },
    {
     "data": {
      "application/vnd.jupyter.widget-view+json": {
       "model_id": "06d0c46e9fb746beb9f9b4fe57012503",
       "version_major": 2,
       "version_minor": 0
      },
      "text/plain": [
       "HBox(children=(IntProgress(value=0, max=50), HTML(value='')))"
      ]
     },
     "metadata": {},
     "output_type": "display_data"
    },
    {
     "data": {
      "application/vnd.jupyter.widget-view+json": {
       "model_id": "58a2488c7e2648f4a9af4844c35945ff",
       "version_major": 2,
       "version_minor": 0
      },
      "text/plain": [
       "HBox(children=(IntProgress(value=0, max=50), HTML(value='')))"
      ]
     },
     "metadata": {},
     "output_type": "display_data"
    },
    {
     "data": {
      "application/vnd.jupyter.widget-view+json": {
       "model_id": "38e665170c7d43dc9a3de86ed339dab8",
       "version_major": 2,
       "version_minor": 0
      },
      "text/plain": [
       "HBox(children=(IntProgress(value=0, max=50), HTML(value='')))"
      ]
     },
     "metadata": {},
     "output_type": "display_data"
    },
    {
     "data": {
      "application/vnd.jupyter.widget-view+json": {
       "model_id": "8d8d6ad2f57947158f08c184a76ae645",
       "version_major": 2,
       "version_minor": 0
      },
      "text/plain": [
       "HBox(children=(IntProgress(value=0, max=4), HTML(value='')))"
      ]
     },
     "metadata": {},
     "output_type": "display_data"
    },
    {
     "data": {
      "application/vnd.jupyter.widget-view+json": {
       "model_id": "150334ad4b444e9c8db641a81a2b6814",
       "version_major": 2,
       "version_minor": 0
      },
      "text/plain": [
       "HBox(children=(IntProgress(value=0, max=50), HTML(value='')))"
      ]
     },
     "metadata": {},
     "output_type": "display_data"
    },
    {
     "ename": "KeyboardInterrupt",
     "evalue": "",
     "output_type": "error",
     "traceback": [
      "\u001b[0;31m---------------------------------------------------------------------------\u001b[0m",
      "\u001b[0;31mKeyboardInterrupt\u001b[0m                         Traceback (most recent call last)",
      "\u001b[0;32m<ipython-input-103-025bd96ab5fa>\u001b[0m in \u001b[0;36m<module>\u001b[0;34m\u001b[0m\n\u001b[1;32m     37\u001b[0m             \u001b[0mrnn\u001b[0m\u001b[0;34m.\u001b[0m\u001b[0meps_a\u001b[0m \u001b[0;34m=\u001b[0m \u001b[0;36m0.\u001b[0m\u001b[0;34m\u001b[0m\u001b[0;34m\u001b[0m\u001b[0m\n\u001b[1;32m     38\u001b[0m \u001b[0;34m\u001b[0m\u001b[0m\n\u001b[0;32m---> 39\u001b[0;31m             \u001b[0mu_in\u001b[0m\u001b[0;34m,\u001b[0m\u001b[0mu_out\u001b[0m \u001b[0;34m=\u001b[0m \u001b[0mgen_in_out_one_in_subs\u001b[0m\u001b[0;34m(\u001b[0m\u001b[0;36m10000\u001b[0m\u001b[0;34m,\u001b[0m\u001b[0mtau_arr\u001b[0m\u001b[0;34m[\u001b[0m\u001b[0mn\u001b[0m\u001b[0;34m]\u001b[0m\u001b[0;34m)\u001b[0m\u001b[0;34m\u001b[0m\u001b[0;34m\u001b[0m\u001b[0m\n\u001b[0m\u001b[1;32m     40\u001b[0m \u001b[0;34m\u001b[0m\u001b[0m\n\u001b[1;32m     41\u001b[0m             \u001b[0;31m#'''\u001b[0m\u001b[0;34m\u001b[0m\u001b[0;34m\u001b[0m\u001b[0;34m\u001b[0m\u001b[0m\n",
      "\u001b[0;32m~/work/repos/DrivenRandNetworkCriticality/code/echo_state_tests.py\u001b[0m in \u001b[0;36mgen_in_out_one_in_subs\u001b[0;34m(T, tau)\u001b[0m\n\u001b[1;32m    184\u001b[0m     \u001b[0;32mfor\u001b[0m \u001b[0mk\u001b[0m \u001b[0;32min\u001b[0m \u001b[0mrange\u001b[0m\u001b[0;34m(\u001b[0m\u001b[0mT\u001b[0m\u001b[0;34m)\u001b[0m\u001b[0;34m:\u001b[0m\u001b[0;34m\u001b[0m\u001b[0;34m\u001b[0m\u001b[0m\n\u001b[1;32m    185\u001b[0m \u001b[0;34m\u001b[0m\u001b[0m\n\u001b[0;32m--> 186\u001b[0;31m         \u001b[0;32mif\u001b[0m \u001b[0mk\u001b[0m \u001b[0;34m-\u001b[0m \u001b[0mtau\u001b[0m \u001b[0;34m-\u001b[0m \u001b[0;36m1\u001b[0m \u001b[0;34m<\u001b[0m \u001b[0;36m0\u001b[0m\u001b[0;34m:\u001b[0m\u001b[0;34m\u001b[0m\u001b[0;34m\u001b[0m\u001b[0m\n\u001b[0m\u001b[1;32m    187\u001b[0m             \u001b[0moutp\u001b[0m\u001b[0;34m[\u001b[0m\u001b[0mk\u001b[0m\u001b[0;34m]\u001b[0m \u001b[0;34m=\u001b[0m \u001b[0;34m(\u001b[0m\u001b[0mnp\u001b[0m\u001b[0;34m.\u001b[0m\u001b[0mrandom\u001b[0m\u001b[0;34m.\u001b[0m\u001b[0mrand\u001b[0m\u001b[0;34m(\u001b[0m\u001b[0;34m)\u001b[0m \u001b[0;34m<\u001b[0m \u001b[0;36m.5\u001b[0m\u001b[0;34m)\u001b[0m\u001b[0;34m*\u001b[0m\u001b[0;36m1.\u001b[0m\u001b[0;34m\u001b[0m\u001b[0;34m\u001b[0m\u001b[0m\n\u001b[1;32m    188\u001b[0m         \u001b[0;32melse\u001b[0m\u001b[0;34m:\u001b[0m\u001b[0;34m\u001b[0m\u001b[0;34m\u001b[0m\u001b[0m\n",
      "\u001b[0;31mKeyboardInterrupt\u001b[0m: "
     ]
    }
   ],
   "source": [
    "n_samples = 5\n",
    "\n",
    "n_sweep = 50\n",
    "\n",
    "gain_arr = np.linspace(0.2,1.5,n_sweep)\n",
    "tau_arr = np.array([1,5,10,15])\n",
    "\n",
    "delta_a_global_mean_RTRL_global = np.ndarray((n_samples,tau_arr.shape[0],n_sweep))\n",
    "delta_a_global_mean_RTRL_local = np.ndarray((n_samples,tau_arr.shape[0],n_sweep))\n",
    "\n",
    "\n",
    "for s in tqdm(range(n_samples)):\n",
    "\n",
    "    for n in tqdm(range(tau_arr.shape[0])):\n",
    "\n",
    "        for k in tqdm(range(n_sweep)):\n",
    "            \n",
    "            ### Global Gradient\n",
    "            rnn = RNN(N=500)\n",
    "            rnn.a = np.ones((500))*gain_arr[k]\n",
    "            rnn.eps_a = 0.\n",
    "\n",
    "            u_in,u_out = gen_in_out_one_in_subs(10000,tau_arr[n])\n",
    "            \n",
    "            #'''\n",
    "            t,y,X,X_r,X_e,a,delta_a,w_out,E,W = rnn.learn_gain(u_in,u_out,mode='global_grad_global_gain',\n",
    "                                                               tau_batch_w_out=1.,T_skip_rec=1,\n",
    "                                                               show_progress=False,return_dyda=False)\n",
    "                        \n",
    "            delta_a_global_mean_RTRL_global[s,n,k] = delta_a[rnn.N*4:].mean(axis=0)\n",
    "            ###\n",
    "            \n",
    "            \n",
    "            ### Local Gradient\n",
    "            rnn = RNN(N=500)\n",
    "            rnn.a = np.ones((500))*gain_arr[k]\n",
    "            rnn.eps_a = 0.\n",
    "\n",
    "            u_in,u_out = gen_in_out_one_in_subs(10000,tau_arr[n])\n",
    "            \n",
    "            #'''\n",
    "            t,y,X,X_r,X_e,a,delta_a,w_out,E,W = rnn.learn_gain(u_in,u_out,mode='local_grad_global_gain',\n",
    "                                                               tau_batch_w_out=1.,T_skip_rec=1,\n",
    "                                                               show_progress=False,return_dyda=False)\n",
    "            delta_a_global_mean_RTRL_local[s,n,k] = delta_a[rnn.N*4:].mean(axis=0)\n",
    "            ###\n",
    "\n",
    "np.save(\"delta_a_global_mean_RTRL_global\",delta_a_global_mean_RTRL_global)\n",
    "np.save(\"delta_a_global_mean_RTRL_local\",delta_a_global_mean_RTRL_local)"
   ]
  },
  {
   "cell_type": "code",
   "execution_count": 61,
   "metadata": {},
   "outputs": [
    {
     "ename": "NameError",
     "evalue": "name 'delta_a_mean' is not defined",
     "output_type": "error",
     "traceback": [
      "\u001b[0;31m---------------------------------------------------------------------------\u001b[0m",
      "\u001b[0;31mNameError\u001b[0m                                 Traceback (most recent call last)",
      "\u001b[0;32m<ipython-input-61-48288ce1bbc8>\u001b[0m in \u001b[0;36m<module>\u001b[0;34m\u001b[0m\n\u001b[1;32m      1\u001b[0m \u001b[0mfig\u001b[0m\u001b[0;34m,\u001b[0m \u001b[0max\u001b[0m \u001b[0;34m=\u001b[0m \u001b[0mplt\u001b[0m\u001b[0;34m.\u001b[0m\u001b[0msubplots\u001b[0m\u001b[0;34m(\u001b[0m\u001b[0;36m2\u001b[0m\u001b[0;34m,\u001b[0m\u001b[0;36m2\u001b[0m\u001b[0;34m,\u001b[0m\u001b[0mfigsize\u001b[0m\u001b[0;34m=\u001b[0m\u001b[0;34m(\u001b[0m\u001b[0;36m2.\u001b[0m\u001b[0;34m*\u001b[0m\u001b[0mtextwidth\u001b[0m\u001b[0;34m,\u001b[0m\u001b[0;36m2.\u001b[0m\u001b[0;34m*\u001b[0m\u001b[0mtextwidth\u001b[0m\u001b[0;34m*\u001b[0m\u001b[0;36m0.7\u001b[0m\u001b[0;34m)\u001b[0m\u001b[0;34m)\u001b[0m\u001b[0;34m\u001b[0m\u001b[0;34m\u001b[0m\u001b[0m\n\u001b[1;32m      2\u001b[0m \u001b[0;32mfor\u001b[0m \u001b[0mk\u001b[0m \u001b[0;32min\u001b[0m \u001b[0mrange\u001b[0m\u001b[0;34m(\u001b[0m\u001b[0;36m4\u001b[0m\u001b[0;34m)\u001b[0m\u001b[0;34m:\u001b[0m\u001b[0;34m\u001b[0m\u001b[0;34m\u001b[0m\u001b[0m\n\u001b[0;32m----> 3\u001b[0;31m     \u001b[0max\u001b[0m\u001b[0;34m[\u001b[0m\u001b[0mint\u001b[0m\u001b[0;34m(\u001b[0m\u001b[0mk\u001b[0m\u001b[0;34m/\u001b[0m\u001b[0;36m2\u001b[0m\u001b[0;34m)\u001b[0m\u001b[0;34m,\u001b[0m\u001b[0mk\u001b[0m\u001b[0;34m%\u001b[0m\u001b[0;36m2\u001b[0m\u001b[0;34m]\u001b[0m\u001b[0;34m.\u001b[0m\u001b[0mplot\u001b[0m\u001b[0;34m(\u001b[0m\u001b[0mgain_arr\u001b[0m\u001b[0;34m,\u001b[0m\u001b[0mdelta_a_mean\u001b[0m\u001b[0;34m[\u001b[0m\u001b[0;34m:\u001b[0m\u001b[0;34m,\u001b[0m\u001b[0mk\u001b[0m\u001b[0;34m,\u001b[0m\u001b[0;34m:\u001b[0m\u001b[0;34m]\u001b[0m\u001b[0;34m.\u001b[0m\u001b[0mmean\u001b[0m\u001b[0;34m(\u001b[0m\u001b[0maxis\u001b[0m\u001b[0;34m=\u001b[0m\u001b[0;36m0\u001b[0m\u001b[0;34m)\u001b[0m\u001b[0;34m*\u001b[0m\u001b[0;36m7.\u001b[0m\u001b[0;34m,\u001b[0m\u001b[0mc\u001b[0m\u001b[0;34m=\u001b[0m\u001b[0mcolors\u001b[0m\u001b[0;34m[\u001b[0m\u001b[0;36m0\u001b[0m\u001b[0;34m]\u001b[0m\u001b[0;34m,\u001b[0m\u001b[0mlabel\u001b[0m\u001b[0;34m=\u001b[0m\u001b[0;34m\"approximate local Gradient (scale adjusted)\"\u001b[0m\u001b[0;34m)\u001b[0m\u001b[0;34m\u001b[0m\u001b[0;34m\u001b[0m\u001b[0m\n\u001b[0m\u001b[1;32m      4\u001b[0m     \u001b[0max\u001b[0m\u001b[0;34m[\u001b[0m\u001b[0mint\u001b[0m\u001b[0;34m(\u001b[0m\u001b[0mk\u001b[0m\u001b[0;34m/\u001b[0m\u001b[0;36m2\u001b[0m\u001b[0;34m)\u001b[0m\u001b[0;34m,\u001b[0m\u001b[0mk\u001b[0m\u001b[0;34m%\u001b[0m\u001b[0;36m2\u001b[0m\u001b[0;34m]\u001b[0m\u001b[0;34m.\u001b[0m\u001b[0mplot\u001b[0m\u001b[0;34m(\u001b[0m\u001b[0mgain_arr\u001b[0m\u001b[0;34m,\u001b[0m\u001b[0mdelta_a_RTRL_mean\u001b[0m\u001b[0;34m[\u001b[0m\u001b[0;34m:\u001b[0m\u001b[0;34m,\u001b[0m\u001b[0mk\u001b[0m\u001b[0;34m,\u001b[0m\u001b[0;34m:\u001b[0m\u001b[0;34m]\u001b[0m\u001b[0;34m.\u001b[0m\u001b[0mmean\u001b[0m\u001b[0;34m(\u001b[0m\u001b[0maxis\u001b[0m\u001b[0;34m=\u001b[0m\u001b[0;36m0\u001b[0m\u001b[0;34m)\u001b[0m\u001b[0;34m,\u001b[0m\u001b[0;34m'--'\u001b[0m\u001b[0;34m,\u001b[0m\u001b[0mc\u001b[0m\u001b[0;34m=\u001b[0m\u001b[0mcolors\u001b[0m\u001b[0;34m[\u001b[0m\u001b[0;36m0\u001b[0m\u001b[0;34m]\u001b[0m\u001b[0;34m,\u001b[0m\u001b[0mlabel\u001b[0m\u001b[0;34m=\u001b[0m\u001b[0;34m\"full (RTRL) Gradient\"\u001b[0m\u001b[0;34m)\u001b[0m\u001b[0;34m\u001b[0m\u001b[0;34m\u001b[0m\u001b[0m\n\u001b[1;32m      5\u001b[0m     \u001b[0max\u001b[0m\u001b[0;34m[\u001b[0m\u001b[0mint\u001b[0m\u001b[0;34m(\u001b[0m\u001b[0mk\u001b[0m\u001b[0;34m/\u001b[0m\u001b[0;36m2\u001b[0m\u001b[0;34m)\u001b[0m\u001b[0;34m,\u001b[0m\u001b[0mk\u001b[0m\u001b[0;34m%\u001b[0m\u001b[0;36m2\u001b[0m\u001b[0;34m]\u001b[0m\u001b[0;34m.\u001b[0m\u001b[0mset_ylabel\u001b[0m\u001b[0;34m(\u001b[0m\u001b[0;34m\"$\\\\Delta a$\"\u001b[0m\u001b[0;34m)\u001b[0m\u001b[0;34m\u001b[0m\u001b[0;34m\u001b[0m\u001b[0m\n",
      "\u001b[0;31mNameError\u001b[0m: name 'delta_a_mean' is not defined"
     ]
    },
    {
     "data": {
      "image/png": "[encoded data removed]",
      "text/plain": [
       "<Figure size 799.661x559.763 with 4 Axes>"
      ]
     },
     "metadata": {
      "needs_background": "light"
     },
     "output_type": "display_data"
    }
   ],
   "source": [
    "fig, ax = plt.subplots(2,2,figsize=(2.*textwidth,2.*textwidth*0.7))\n",
    "for k in range(4):\n",
    "    ax[int(k/2),k%2].plot(gain_arr,delta_a_mean[:,k,:].mean(axis=0)*7.,c=colors[0],label=\"approximate local Gradient (scale adjusted)\")\n",
    "    ax[int(k/2),k%2].plot(gain_arr,delta_a_RTRL_mean[:,k,:].mean(axis=0),'--',c=colors[0],label=\"full (RTRL) Gradient\")\n",
    "    ax[int(k/2),k%2].set_ylabel(\"$\\\\Delta a$\")\n",
    "    ax[int(k/2),k%2].set_xlabel(\"$a$\")\n",
    "    \n",
    "    \n",
    "    ax[int(k/2),k%2].set_title(\"$\\\\tau = \" + str(tau_arr[k]) + \"$\")\n",
    "\n",
    "ax[0,0].legend()\n",
    "    \n",
    "ax[0,0].set_ylim([-.5,.5])\n",
    "ax[0,1].set_ylim([-1.,1.])\n",
    "ax[1,0].set_ylim([-1.,.75])\n",
    "ax[1,1].set_ylim([-1.,.5])\n",
    "\n",
    "plt.tight_layout()\n",
    "\n",
    "fig.savefig(path+\"gain_dyn.pdf\")\n",
    "\n",
    "plt.show()"
   ]
  },
  {
   "cell_type": "code",
   "execution_count": 46,
   "metadata": {},
   "outputs": [
    {
     "data": {
      "application/vnd.jupyter.widget-view+json": {
       "model_id": "39e01964865043fa9593306a74422878",
       "version_major": 2,
       "version_minor": 0
      },
      "text/plain": [
       "HBox(children=(IntProgress(value=0, max=5000), HTML(value='')))"
      ]
     },
     "metadata": {},
     "output_type": "display_data"
    }
   ],
   "source": [
    "rnn = RNN(N=500)\n",
    "rnn.a *= .6\n",
    "rnn.eps_a *= 50.\n",
    "u_in,u_out = gen_in_out_one_in_subs(5000,5)\n",
    "\n",
    "'''\n",
    "modelist = [\"local_grad_local_gain\",\n",
    "                        \"local_grad_global_gain\",\n",
    "                        \"global_grad_local_gain\",\n",
    "                        \"global_grad_global_gain\"]\n",
    "'''\n",
    "\n",
    "t,y,X,X_r,X_e,a,dyda,delta_a,w_out,E,W = rnn.learn_gain(u_in,u_out,mode='global_grad_local_gain',tau_batch_w_out=1.,T_skip_rec=50,show_progress=True)"
   ]
  },
  {
   "cell_type": "code",
   "execution_count": 47,
   "metadata": {},
   "outputs": [
    {
     "data": {
      "image/png": "[encoded data removed]",
      "text/plain": [
       "<Figure size 432x288 with 1 Axes>"
      ]
     },
     "metadata": {
      "needs_background": "light"
     },
     "output_type": "display_data"
    }
   ],
   "source": [
    "plt.plot(t,a[:,:50])\n",
    "plt.show()"
   ]
  },
  {
   "cell_type": "code",
   "execution_count": 48,
   "metadata": {},
   "outputs": [
    {
     "data": {
      "image/png": "[encoded data removed]",
      "text/plain": [
       "<Figure size 432x288 with 1 Axes>"
      ]
     },
     "metadata": {
      "needs_background": "light"
     },
     "output_type": "display_data"
    }
   ],
   "source": [
    "plt.plot(t,dyda[:,0,:50])\n",
    "plt.show()"
   ]
  },
  {
   "cell_type": "code",
   "execution_count": 53,
   "metadata": {},
   "outputs": [
    {
     "data": {
      "application/vnd.jupyter.widget-view+json": {
       "model_id": "7acc373ae7b84a11be847db567cc167b",
       "version_major": 2,
       "version_minor": 0
      },
      "text/plain": [
       "HBox(children=(IntProgress(value=0, max=5), HTML(value='')))"
      ]
     },
     "metadata": {},
     "output_type": "display_data"
    },
    {
     "data": {
      "application/vnd.jupyter.widget-view+json": {
       "model_id": "0dcedc0cd46a4c48a51b57a39e5713e2",
       "version_major": 2,
       "version_minor": 0
      },
      "text/plain": [
       "HBox(children=(IntProgress(value=0, max=4), HTML(value='')))"
      ]
     },
     "metadata": {},
     "output_type": "display_data"
    },
    {
     "data": {
      "application/vnd.jupyter.widget-view+json": {
       "model_id": "16072ccbef674f7b8076739b518939e9",
       "version_major": 2,
       "version_minor": 0
      },
      "text/plain": [
       "HBox(children=(IntProgress(value=0, max=50), HTML(value='')))"
      ]
     },
     "metadata": {},
     "output_type": "display_data"
    },
    {
     "data": {
      "application/vnd.jupyter.widget-view+json": {
       "model_id": "9e3dbf6327c84794802fa3b34d9ddeb3",
       "version_major": 2,
       "version_minor": 0
      },
      "text/plain": [
       "HBox(children=(IntProgress(value=0, max=50), HTML(value='')))"
      ]
     },
     "metadata": {},
     "output_type": "display_data"
    },
    {
     "data": {
      "application/vnd.jupyter.widget-view+json": {
       "model_id": "f0461d1415fe43d78275c8249c69d59d",
       "version_major": 2,
       "version_minor": 0
      },
      "text/plain": [
       "HBox(children=(IntProgress(value=0, max=50), HTML(value='')))"
      ]
     },
     "metadata": {},
     "output_type": "display_data"
    },
    {
     "data": {
      "application/vnd.jupyter.widget-view+json": {
       "model_id": "8a8cad2eb4e040d780de789cf1183631",
       "version_major": 2,
       "version_minor": 0
      },
      "text/plain": [
       "HBox(children=(IntProgress(value=0, max=50), HTML(value='')))"
      ]
     },
     "metadata": {},
     "output_type": "display_data"
    },
    {
     "data": {
      "application/vnd.jupyter.widget-view+json": {
       "model_id": "a371aae241a6443b866b3e284199b17f",
       "version_major": 2,
       "version_minor": 0
      },
      "text/plain": [
       "HBox(children=(IntProgress(value=0, max=4), HTML(value='')))"
      ]
     },
     "metadata": {},
     "output_type": "display_data"
    },
    {
     "data": {
      "application/vnd.jupyter.widget-view+json": {
       "model_id": "2cae3e80ca2648b6bf9a7d622e5956be",
       "version_major": 2,
       "version_minor": 0
      },
      "text/plain": [
       "HBox(children=(IntProgress(value=0, max=50), HTML(value='')))"
      ]
     },
     "metadata": {},
     "output_type": "display_data"
    },
    {
     "data": {
      "application/vnd.jupyter.widget-view+json": {
       "model_id": "31e29e2caf5f4774b5512d42b41fe949",
       "version_major": 2,
       "version_minor": 0
      },
      "text/plain": [
       "HBox(children=(IntProgress(value=0, max=50), HTML(value='')))"
      ]
     },
     "metadata": {},
     "output_type": "display_data"
    },
    {
     "data": {
      "application/vnd.jupyter.widget-view+json": {
       "model_id": "e14ea654d0c2445c89a5aca0a6bfd65c",
       "version_major": 2,
       "version_minor": 0
      },
      "text/plain": [
       "HBox(children=(IntProgress(value=0, max=50), HTML(value='')))"
      ]
     },
     "metadata": {},
     "output_type": "display_data"
    },
    {
     "data": {
      "application/vnd.jupyter.widget-view+json": {
       "model_id": "164cfca11df34cba9dc34a30631a3f58",
       "version_major": 2,
       "version_minor": 0
      },
      "text/plain": [
       "HBox(children=(IntProgress(value=0, max=50), HTML(value='')))"
      ]
     },
     "metadata": {},
     "output_type": "display_data"
    },
    {
     "data": {
      "application/vnd.jupyter.widget-view+json": {
       "model_id": "2b1e08d46ad84a68a3798fa9c6d21f1b",
       "version_major": 2,
       "version_minor": 0
      },
      "text/plain": [
       "HBox(children=(IntProgress(value=0, max=4), HTML(value='')))"
      ]
     },
     "metadata": {},
     "output_type": "display_data"
    },
    {
     "data": {
      "application/vnd.jupyter.widget-view+json": {
       "model_id": "c990ebba916b419a99b44d002c4a053d",
       "version_major": 2,
       "version_minor": 0
      },
      "text/plain": [
       "HBox(children=(IntProgress(value=0, max=50), HTML(value='')))"
      ]
     },
     "metadata": {},
     "output_type": "display_data"
    },
    {
     "data": {
      "application/vnd.jupyter.widget-view+json": {
       "model_id": "5ce43f7f542046a2972de29b6f53c276",
       "version_major": 2,
       "version_minor": 0
      },
      "text/plain": [
       "HBox(children=(IntProgress(value=0, max=50), HTML(value='')))"
      ]
     },
     "metadata": {},
     "output_type": "display_data"
    },
    {
     "data": {
      "application/vnd.jupyter.widget-view+json": {
       "model_id": "90b73b810d5c4dd7bfe50a189dd36fc7",
       "version_major": 2,
       "version_minor": 0
      },
      "text/plain": [
       "HBox(children=(IntProgress(value=0, max=50), HTML(value='')))"
      ]
     },
     "metadata": {},
     "output_type": "display_data"
    },
    {
     "data": {
      "application/vnd.jupyter.widget-view+json": {
       "model_id": "18fe803911cf4547bc798f59616cc8b3",
       "version_major": 2,
       "version_minor": 0
      },
      "text/plain": [
       "HBox(children=(IntProgress(value=0, max=50), HTML(value='')))"
      ]
     },
     "metadata": {},
     "output_type": "display_data"
    },
    {
     "data": {
      "application/vnd.jupyter.widget-view+json": {
       "model_id": "bb9532065dae4c8d80af9fc569793d58",
       "version_major": 2,
       "version_minor": 0
      },
      "text/plain": [
       "HBox(children=(IntProgress(value=0, max=4), HTML(value='')))"
      ]
     },
     "metadata": {},
     "output_type": "display_data"
    },
    {
     "data": {
      "application/vnd.jupyter.widget-view+json": {
       "model_id": "3772983a003b458a942ab4e8d5a673f1",
       "version_major": 2,
       "version_minor": 0
      },
      "text/plain": [
       "HBox(children=(IntProgress(value=0, max=50), HTML(value='')))"
      ]
     },
     "metadata": {},
     "output_type": "display_data"
    },
    {
     "data": {
      "application/vnd.jupyter.widget-view+json": {
       "model_id": "0f7f6930123a43478dfc2463c1d08db8",
       "version_major": 2,
       "version_minor": 0
      },
      "text/plain": [
       "HBox(children=(IntProgress(value=0, max=50), HTML(value='')))"
      ]
     },
     "metadata": {},
     "output_type": "display_data"
    },
    {
     "data": {
      "application/vnd.jupyter.widget-view+json": {
       "model_id": "333f50b43b5246ab927fc714c282d21d",
       "version_major": 2,
       "version_minor": 0
      },
      "text/plain": [
       "HBox(children=(IntProgress(value=0, max=50), HTML(value='')))"
      ]
     },
     "metadata": {},
     "output_type": "display_data"
    },
    {
     "data": {
      "application/vnd.jupyter.widget-view+json": {
       "model_id": "4d32e550f1164c6988240a1834ae5e61",
       "version_major": 2,
       "version_minor": 0
      },
      "text/plain": [
       "HBox(children=(IntProgress(value=0, max=50), HTML(value='')))"
      ]
     },
     "metadata": {},
     "output_type": "display_data"
    },
    {
     "data": {
      "application/vnd.jupyter.widget-view+json": {
       "model_id": "0153293e64fc4f878217d5c11396ff0a",
       "version_major": 2,
       "version_minor": 0
      },
      "text/plain": [
       "HBox(children=(IntProgress(value=0, max=4), HTML(value='')))"
      ]
     },
     "metadata": {},
     "output_type": "display_data"
    },
    {
     "data": {
      "application/vnd.jupyter.widget-view+json": {
       "model_id": "37d61fd95a5c4850b304b2e803c926f8",
       "version_major": 2,
       "version_minor": 0
      },
      "text/plain": [
       "HBox(children=(IntProgress(value=0, max=50), HTML(value='')))"
      ]
     },
     "metadata": {},
     "output_type": "display_data"
    },
    {
     "data": {
      "application/vnd.jupyter.widget-view+json": {
       "model_id": "618a75be286b4f3d89600e2d8c431e1f",
       "version_major": 2,
       "version_minor": 0
      },
      "text/plain": [
       "HBox(children=(IntProgress(value=0, max=50), HTML(value='')))"
      ]
     },
     "metadata": {},
     "output_type": "display_data"
    },
    {
     "data": {
      "application/vnd.jupyter.widget-view+json": {
       "model_id": "19f5a807a90c4ac49bf9b0ad3877e9bc",
       "version_major": 2,
       "version_minor": 0
      },
      "text/plain": [
       "HBox(children=(IntProgress(value=0, max=50), HTML(value='')))"
      ]
     },
     "metadata": {},
     "output_type": "display_data"
    },
    {
     "data": {
      "application/vnd.jupyter.widget-view+json": {
       "model_id": "088e4f7eabe74319a64dc2992296d17b",
       "version_major": 2,
       "version_minor": 0
      },
      "text/plain": [
       "HBox(children=(IntProgress(value=0, max=50), HTML(value='')))"
      ]
     },
     "metadata": {},
     "output_type": "display_data"
    }
   ],
   "source": [
    "n_samples = 5\n",
    "\n",
    "n_sweep = 50\n",
    "\n",
    "gain_arr = np.linspace(0.2,1.5,n_sweep)\n",
    "tau_arr = np.array([1,5,10,15])\n",
    "\n",
    "delta_a_local_mean_RTRL_global = np.ndarray((n_samples,tau_arr.shape[0],n_sweep))\n",
    "delta_a_local_mean_RTRL_local = np.ndarray((n_samples,tau_arr.shape[0],n_sweep))\n",
    "\n",
    "\n",
    "for s in tqdm(range(n_samples)):\n",
    "\n",
    "    for n in tqdm(range(tau_arr.shape[0])):\n",
    "\n",
    "        for k in tqdm(range(n_sweep)):\n",
    "            \n",
    "            ### Global Gradient\n",
    "            rnn = RNN(N=500)\n",
    "            rnn.a = np.ones((500))*gain_arr[k]\n",
    "            rnn.eps_a = 0.\n",
    "\n",
    "            u_in,u_out = gen_in_out_one_in_subs(10000,tau_arr[n])\n",
    "            \n",
    "            #'''\n",
    "            t,y,X,X_r,X_e,a,delta_a,w_out,E,W = rnn.learn_gain(u_in,u_out,mode='global_grad_local_gain',\n",
    "                                                               tau_batch_w_out=1.,T_skip_rec=1,\n",
    "                                                               show_progress=False,return_dyda=False)\n",
    "            delta_a_local_mean_RTRL_global[s,n,k] = (delta_a[rnn.N*4:,:].mean(axis=0)*rnn.a).sum()/(rnn.a**2.).sum()**.5\n",
    "            ###\n",
    "            \n",
    "            \n",
    "            ### Local Gradient\n",
    "            rnn = RNN(N=500)\n",
    "            rnn.a = np.ones((500))*gain_arr[k]\n",
    "            rnn.eps_a = 0.\n",
    "\n",
    "            u_in,u_out = gen_in_out_one_in_subs(10000,tau_arr[n])\n",
    "            \n",
    "            #'''\n",
    "            t,y,X,X_r,X_e,a,delta_a,w_out,E,W = rnn.learn_gain(u_in,u_out,mode='local_grad_local_gain',\n",
    "                                                               tau_batch_w_out=1.,T_skip_rec=1,\n",
    "                                                               show_progress=False,return_dyda=False)\n",
    "            delta_a_local_mean_RTRL_local[s,n,k] = (delta_a[rnn.N*4:,:].mean(axis=0)*rnn.a).sum()/(rnn.a**2.).sum()**.5\n",
    "            ###\n",
    "\n",
    "np.save(\"delta_a_local_mean_RTRL_global\",delta_a_local_mean_RTRL_global)\n",
    "np.save(\"delta_a_local_mean_RTRL_local\",delta_a_local_mean_RTRL_local)"
   ]
  },
  {
   "cell_type": "code",
   "execution_count": 62,
   "metadata": {},
   "outputs": [],
   "source": [
    "np.save(\"delta_a_local_mean_RTRL_global\",delta_a_local_mean_RTRL_global)\n",
    "np.save(\"delta_a_local_mean_RTRL_local\",delta_a_local_mean_RTRL_local)"
   ]
  },
  {
   "cell_type": "code",
   "execution_count": 98,
   "metadata": {},
   "outputs": [
    {
     "name": "stderr",
     "output_type": "stream",
     "text": [
      "/home/fschubert/work/py36/lib/python3.6/site-packages/numpy/core/_methods.py:121: RuntimeWarning: overflow encountered in multiply\n",
      "  x = um.multiply(x, x, out=x)\n"
     ]
    },
    {
     "data": {
      "image/png": "[encoded data removed]",
      "text/plain": [
       "<Figure size 799.661x559.763 with 4 Axes>"
      ]
     },
     "metadata": {
      "needs_background": "light"
     },
     "output_type": "display_data"
    }
   ],
   "source": [
    "fig, ax = plt.subplots(2,2,figsize=(2.*textwidth,2.*textwidth*0.7))\n",
    "\n",
    "fig.suptitle(\"Local Gain Adaptation\",fontsize=12)\n",
    "\n",
    "for k in range(4):\n",
    "    mean_RTRL_local = delta_a_local_mean_RTRL_local[:,k,:].mean(axis=0)\n",
    "    mean_RTRL_global = delta_a_local_mean_RTRL_global[:,k,:].mean(axis=0)\n",
    "    \n",
    "    err_RTRL_local = delta_a_local_mean_RTRL_local[:,k,:].std(axis=0)/delta_a_local_mean_RTRL_local.shape[0]**.5\n",
    "    err_RTRL_global = delta_a_local_mean_RTRL_global[:,k,:].std(axis=0)/delta_a_local_mean_RTRL_global.shape[0]**.5\n",
    "    \n",
    "    idx_local = np.where(np.abs(mean_RTRL_local) < 1.)\n",
    "    idx_global = np.where(np.abs(mean_RTRL_global) < 1.)\n",
    "    \n",
    "    mean_RTRL_local = mean_RTRL_local[idx_local]\n",
    "    mean_RTRL_global = mean_RTRL_global[idx_global]\n",
    "    \n",
    "    err_RTRL_local = err_RTRL_local[idx_local]\n",
    "    err_RTRL_global = err_RTRL_global[idx_global]\n",
    "        \n",
    "    err_RTRL_local /= mean_RTRL_local.max()\n",
    "    err_RTRL_global /= mean_RTRL_global.max()\n",
    "    \n",
    "    mean_RTRL_local /= mean_RTRL_local.max()\n",
    "    mean_RTRL_global /= mean_RTRL_global.max()\n",
    "   \n",
    "    \n",
    "    ax[int(k/2),k%2].fill_between(gain_arr[idx_local],(mean_RTRL_local - err_RTRL_local),(mean_RTRL_local + err_RTRL_local),\n",
    "                                  color=colors[0],alpha=0.4)\n",
    "    ax[int(k/2),k%2].plot(gain_arr[idx_local],mean_RTRL_local,c=colors[0],label=\"approximate local Gradient (scale adjusted)\")\n",
    "    \n",
    "    \n",
    "    \n",
    "    \n",
    "    ax[int(k/2),k%2].fill_between(gain_arr[idx_global],(mean_RTRL_global - err_RTRL_global),(mean_RTRL_global + err_RTRL_global),\n",
    "                                  color=colors[1],alpha=0.4)\n",
    "    \n",
    "    ax[int(k/2),k%2].plot(gain_arr[idx_global],mean_RTRL_global,'--',c=colors[1],label=\"full (RTRL) Gradient\")\n",
    "    ax[int(k/2),k%2].set_ylabel(\"$\\\\Delta a$\")\n",
    "    ax[int(k/2),k%2].set_xlabel(\"$a$\")\n",
    "    \n",
    "    \n",
    "    ax[int(k/2),k%2].set_title(\"$\\\\tau = \" + str(tau_arr[k]) + \"$\")\n",
    "\n",
    "ax[0,0].legend()\n",
    "\n",
    "'''\n",
    "ax[0,0].set_ylim([-.04,.07])\n",
    "ax[0,1].set_ylim([-.04,.07])\n",
    "ax[1,0].set_ylim([-.04,.07])\n",
    "ax[1,1].set_ylim([-.04,.07])\n",
    "'''\n",
    "\n",
    "ax[0,0].set_ylim([-.7,1.5])\n",
    "ax[0,1].set_ylim([-1.,1.5])\n",
    "ax[1,0].set_ylim([-1.7,1.5])\n",
    "ax[1,1].set_ylim([-3.2,1.5])\n",
    "\n",
    "\n",
    "plt.tight_layout(rect=[0., 0., 1., .95])\n",
    "\n",
    "fig.savefig(path+\"local_gain_dyn.pdf\")\n",
    "\n",
    "plt.show()"
   ]
  },
  {
   "cell_type": "code",
   "execution_count": 20,
   "metadata": {},
   "outputs": [
    {
     "data": {
      "image/png": "[encoded data removed]",
      "text/plain": [
       "<Figure size 432x288 with 1 Axes>"
      ]
     },
     "metadata": {
      "needs_background": "light"
     },
     "output_type": "display_data"
    }
   ],
   "source": [
    "plt.plot(E)\n",
    "plt.ylim([0.,.2])\n",
    "plt.show()"
   ]
  },
  {
   "cell_type": "code",
   "execution_count": 148,
   "metadata": {},
   "outputs": [
    {
     "data": {
      "image/png": "[encoded data removed]",
      "text/plain": [
       "<Figure size 432x288 with 1 Axes>"
      ]
     },
     "metadata": {
      "needs_background": "light"
     },
     "output_type": "display_data"
    }
   ],
   "source": [
    "tstart = 4000\n",
    "tend = tstart + 500\n",
    "\n",
    "plt.plot(scalprod_dyda_w_out[tstart:tend],scalprod_dyda_approx_w_out[tstart:tend],'.')\n",
    "plt.xlabel(\"exact\")\n",
    "plt.ylabel(\"approximation\")\n",
    "plt.show()"
   ]
  },
  {
   "cell_type": "code",
   "execution_count": 129,
   "metadata": {},
   "outputs": [
    {
     "data": {
      "text/plain": [
       "(15000, 500)"
      ]
     },
     "execution_count": 129,
     "metadata": {},
     "output_type": "execute_result"
    }
   ],
   "source": [
    "dyda_RTRL.shape"
   ]
  },
  {
   "cell_type": "code",
   "execution_count": 22,
   "metadata": {},
   "outputs": [
    {
     "data": {
      "text/plain": [
       "(15000, 500)"
      ]
     },
     "execution_count": 22,
     "metadata": {},
     "output_type": "execute_result"
    }
   ],
   "source": [
    "y.shape"
   ]
  },
  {
   "cell_type": "code",
   "execution_count": 75,
   "metadata": {},
   "outputs": [
    {
     "data": {
      "image/png": "[encoded data removed]",
      "text/plain": [
       "<Figure size 432x288 with 1 Axes>"
      ]
     },
     "metadata": {
      "needs_background": "light"
     },
     "output_type": "display_data"
    }
   ],
   "source": [
    "plt.plot(dyda_RTRL[-10000:,:].mean(axis=0),((1.-y_RTRL**2.)*X_r_RTRL)[-10000:,:].mean(axis=0),'.')\n",
    "plt.plot(dyda[-10000:,:].mean(axis=0),((1.-y**2.)*X_r)[-10000:,:].mean(axis=0),'.')\n",
    "plt.plot([-1.,1.],[-1.,1.])\n",
    "plt.show()"
   ]
  },
  {
   "cell_type": "code",
   "execution_count": 30,
   "metadata": {},
   "outputs": [
    {
     "data": {
      "image/png": "[encoded data removed]",
      "text/plain": [
       "<Figure size 432x288 with 1 Axes>"
      ]
     },
     "metadata": {
      "needs_background": "light"
     },
     "output_type": "display_data"
    },
    {
     "name": "stdout",
     "output_type": "stream",
     "text": [
      "0.044686571081459674\n"
     ]
    }
   ],
   "source": [
    "plt.hist(W_RTRL.mean(axis=1),density=True)\n",
    "plt.show()\n",
    "print(W_RTRL.std())"
   ]
  },
  {
   "cell_type": "code",
   "execution_count": 123,
   "metadata": {},
   "outputs": [
    {
     "data": {
      "image/png": "[encoded data removed]",
      "text/plain": [
       "<Figure size 432x288 with 1 Axes>"
      ]
     },
     "metadata": {
      "needs_background": "light"
     },
     "output_type": "display_data"
    }
   ],
   "source": [
    "tstart = 1500\n",
    "tend = tstart + 500\n",
    "k = 499\n",
    "plt.plot(dyda_RTRL[tstart:tend,k],dyda_approx_RTRL[tstart:tend,k],'.')\n",
    "#plt.plot([delta_a_RTRL[tstart:tend].mean()],[delta_a_approx_RTRL[tstart:tend].mean()],'.')\n",
    "#plt.plot(t[tstart:tend],delta_a_RTRL[tstart:tend],'.')\n",
    "#plt.plot(t[tstart:tend],delta_a_approx_RTRL[tstart:tend]*4.,'.')\n",
    "#plt.plot([delta_a_RTRL[tstart:tend].min(),delta_a_RTRL[tstart:tend].max()],[delta_a_RTRL[tstart:tend].min(),delta_a_RTRL[tstart:tend].max()])\n",
    "plt.show()\n",
    "\n",
    "#print(\"true delta a mean: \" + str(delta_a_RTRL[tstart:tend].mean()))\n",
    "#print(\"approx. delta a mean: \" + str(delta_a_approx_RTRL[tstart:tend].mean()))"
   ]
  },
  {
   "cell_type": "code",
   "execution_count": 71,
   "metadata": {},
   "outputs": [
    {
     "data": {
      "image/png": "[encoded data removed]",
      "text/plain": [
       "<Figure size 432x288 with 1 Axes>"
      ]
     },
     "metadata": {
      "needs_background": "light"
     },
     "output_type": "display_data"
    }
   ],
   "source": [
    "for k in range(20):\n",
    "    plt.plot(dyda_RTRL[:500,k],((1.-y_RTRL**2.)*(X_r_RTRL))[:500,k],'.')\n",
    "#plt.plot(dyda[-500:,k],((1.-y**2.)*X_r)[-500:,k],'.')\n",
    "plt.plot([-1.,1.],[-1.,1.])\n",
    "plt.axis(\"equal\")\n",
    "plt.show()"
   ]
  },
  {
   "cell_type": "code",
   "execution_count": 54,
   "metadata": {},
   "outputs": [
    {
     "data": {
      "image/png": "[encoded data removed]",
      "text/plain": [
       "<Figure size 432x288 with 1 Axes>"
      ]
     },
     "metadata": {
      "needs_background": "light"
     },
     "output_type": "display_data"
    }
   ],
   "source": [
    "k=1\n",
    "plt.plot(t[-500:],dyda_RTRL[-500:,k])\n",
    "plt.plot(t[-500:],(1.-y_RTRL[-500:,k]**2.)*a_RTRL[-1]*W_RTRL.dot(dyda_RTRL[-500:,k].T).T)\n",
    "plt.plot(t[-500:],(1.-y_RTRL[-500:,k]**2.)*X_r_RTRL[-500:,k])\n",
    "plt.show()"
   ]
  },
  {
   "cell_type": "code",
   "execution_count": 176,
   "metadata": {},
   "outputs": [
    {
     "data": {
      "application/vnd.jupyter.widget-view+json": {
       "model_id": "8b84216ba89c40b1bc08bbba1e6ef157",
       "version_major": 2,
       "version_minor": 0
      },
      "text/plain": [
       "HBox(children=(IntProgress(value=0, max=9999), HTML(value='')))"
      ]
     },
     "metadata": {},
     "output_type": "display_data"
    },
    {
     "data": {
      "application/vnd.jupyter.widget-view+json": {
       "model_id": "d8ef7b1da5944971b8c4c8c9f5b771fc",
       "version_major": 2,
       "version_minor": 0
      },
      "text/plain": [
       "HBox(children=(IntProgress(value=0, max=9999), HTML(value='')))"
      ]
     },
     "metadata": {},
     "output_type": "display_data"
    },
    {
     "data": {
      "application/vnd.jupyter.widget-view+json": {
       "model_id": "fe4f52e1adc14602b0af8e812a37cb16",
       "version_major": 2,
       "version_minor": 0
      },
      "text/plain": [
       "HBox(children=(IntProgress(value=0, max=9999), HTML(value='')))"
      ]
     },
     "metadata": {},
     "output_type": "display_data"
    },
    {
     "data": {
      "application/vnd.jupyter.widget-view+json": {
       "model_id": "ad79b6eb2b3c4369a30754c1bfdc74cc",
       "version_major": 2,
       "version_minor": 0
      },
      "text/plain": [
       "HBox(children=(IntProgress(value=0, max=9999), HTML(value='')))"
      ]
     },
     "metadata": {},
     "output_type": "display_data"
    }
   ],
   "source": [
    "u_in_learn,u_out_learn = gen_in_out_one_in_subs(10000,5)\n",
    "u_in_test,u_out_test = gen_in_out_one_in_subs(10000,5)\n",
    "\n",
    "rnn.learn_w_out(u_in_learn,u_out_learn)\n",
    "rnn_RTRL.learn_w_out(u_in_learn,u_out_learn)\n",
    "\n",
    "u_out_pred = rnn.predict_data(u_in_test)\n",
    "u_out_pred_RTRL = rnn_RTRL.predict_data(u_in_test)"
   ]
  },
  {
   "cell_type": "code",
   "execution_count": 177,
   "metadata": {},
   "outputs": [
    {
     "data": {
      "image/png": "[encoded data removed]",
      "text/plain": [
       "<Figure size 432x288 with 1 Axes>"
      ]
     },
     "metadata": {
      "needs_background": "light"
     },
     "output_type": "display_data"
    }
   ],
   "source": [
    "plt.plot(u_out_test,u_out_pred,'.')\n",
    "plt.plot(u_out_test,u_out_pred_RTRL,'.')\n",
    "plt.show()"
   ]
  },
  {
   "cell_type": "code",
   "execution_count": 139,
   "metadata": {},
   "outputs": [
    {
     "data": {
      "image/png": "[encoded data removed]",
      "text/plain": [
       "<Figure size 432x288 with 1 Axes>"
      ]
     },
     "metadata": {
      "needs_background": "light"
     },
     "output_type": "display_data"
    }
   ],
   "source": [
    "plt.plot(t,w_out[:,0,:20])\n",
    "plt.show()"
   ]
  },
  {
   "cell_type": "code",
   "execution_count": null,
   "metadata": {},
   "outputs": [],
   "source": []
  }
 ],
 "metadata": {
  "kernelspec": {
   "display_name": "Python 3",
   "language": "python",
   "name": "python3"
  },
  "language_info": {
   "codemirror_mode": {
    "name": "ipython",
    "version": 3
   },
   "file_extension": ".py",
   "mimetype": "text/x-python",
   "name": "python",
   "nbconvert_exporter": "python",
   "pygments_lexer": "ipython3",
   "version": "3.6.8"
  }
 },
 "nbformat": 4,
 "nbformat_minor": 2
}
