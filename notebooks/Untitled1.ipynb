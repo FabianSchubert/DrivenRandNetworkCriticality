{
 "cells": [
  {
   "cell_type": "code",
   "execution_count": 17,
   "metadata": {},
   "outputs": [],
   "source": [
    "%matplotlib notebook\n",
    "import numpy as np\n",
    "import matplotlib.pyplot as plt\n",
    "import seaborn as sns\n",
    "sns.set()\n",
    "from tqdm import tqdm_notebook as tqdm\n",
    "\n",
    "from scipy.sparse import csr_matrix\n",
    "\n",
    "import pdb"
   ]
  },
  {
   "cell_type": "code",
   "execution_count": 11,
   "metadata": {},
   "outputs": [],
   "source": [
    "J = 100\n",
    "dx = 0.01\n",
    "\n",
    "Nt = 1000\n",
    "dt = 0.01\n",
    "\n",
    "m = 1.\n",
    "\n",
    "V = np.zeros((J,J))"
   ]
  },
  {
   "cell_type": "code",
   "execution_count": 12,
   "metadata": {},
   "outputs": [],
   "source": [
    "b = 1.+1.j*dt/(m*dx**2.) + 1.j*dt*V/2.\n",
    "c = -1.j*dt/(4.*m*dx**2.)\n",
    "a = c\n",
    "d = c\n",
    "e = d\n",
    "\n",
    "f = 1.-1.j*dt/(m*dx**2.) - 1.j*dt*V/2.\n",
    "g = c\n",
    "h = c\n",
    "k = c\n",
    "p = c"
   ]
  },
  {
   "cell_type": "code",
   "execution_count": 13,
   "metadata": {},
   "outputs": [],
   "source": [
    "# Build the main diagonal\n",
    "b_main_diag = []   # coefficient matrix of LHS\n",
    "f_main_diag = []   # coefficient matrix of RHS\n",
    "for j in range(J-1):\n",
    "    for l in range(J-1):\n",
    "        b_main_diag.append(b[j,l]); f_main_diag.append(f[j,l])"
   ]
  },
  {
   "cell_type": "code",
   "execution_count": 14,
   "metadata": {},
   "outputs": [],
   "source": [
    "e_minor_diag = np.ones((len(b_main_diag)-1,), dtype=complex)*e\n",
    "d_minor_diag = np.ones((len(b_main_diag)-1,), dtype=complex)*d\n",
    "a_minor_diag = np.ones((len(b_main_diag)-3,), dtype=complex)*a\n",
    "c_minor_diag = np.ones((len(b_main_diag)-3,), dtype=complex)*c\n",
    "k_minor_diag = np.ones((len(f_main_diag)-1,), dtype=complex)*k\n",
    "p_minor_diag = np.ones((len(f_main_diag)-1,), dtype=complex)*p\n",
    "g_minor_diag = np.ones((len(f_main_diag)-3,), dtype=complex)*g\n",
    "h_minor_diag = np.ones((len(f_main_diag)-3,), dtype=complex)*h"
   ]
  },
  {
   "cell_type": "code",
   "execution_count": 23,
   "metadata": {},
   "outputs": [],
   "source": [
    "# Build the coefficient matrices for A*psi^(n+1) = B*psi^n\n",
    "A = csr_matrix(np.diag(b_main_diag)) + csr_matrix(np.diag(e_minor_diag,-1)) + csr_matrix(np.diag(d_minor_diag,1)) \\\n",
    "+ csr_matrix(np.diag(c_minor_diag,-3)) + csr_matrix(np.diag(a_minor_diag,3))\n",
    "B = csr_matrix(np.diag(f_main_diag)) + csr_matrix(np.diag(p_minor_diag,-1)) + csr_matrix(np.diag(k_minor_diag,1)) \\\n",
    "+ csr_matrix(np.diag(h_minor_diag,-3)) + csr_matrix(np.diag(g_minor_diag,3))"
   ]
  },
  {
   "cell_type": "code",
   "execution_count": 22,
   "metadata": {},
   "outputs": [
    {
     "data": {
      "text/plain": [
       "0.0005100687436750856"
      ]
     },
     "execution_count": 22,
     "metadata": {},
     "output_type": "execute_result"
    }
   ],
   "source": []
  },
  {
   "cell_type": "code",
   "execution_count": null,
   "metadata": {},
   "outputs": [],
   "source": []
  }
 ],
 "metadata": {
  "kernelspec": {
   "display_name": "Python 3",
   "language": "python",
   "name": "python3"
  },
  "language_info": {
   "codemirror_mode": {
    "name": "ipython",
    "version": 3
   },
   "file_extension": ".py",
   "mimetype": "text/x-python",
   "name": "python",
   "nbconvert_exporter": "python",
   "pygments_lexer": "ipython3",
   "version": "3.6.9"
  }
 },
 "nbformat": 4,
 "nbformat_minor": 2
}
