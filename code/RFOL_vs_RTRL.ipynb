{
 "cells": [
  {
   "cell_type": "code",
   "execution_count": 1,
   "metadata": {},
   "outputs": [
    {
     "name": "stderr",
     "output_type": "stream",
     "text": [
      "/home/fschubert/work/py36/lib/python3.6/site-packages/tqdm/autonotebook/__init__.py:18: TqdmExperimentalWarning: Using `tqdm.autonotebook.tqdm` in notebook mode. Use `tqdm.tqdm` instead to force console mode (e.g. in jupyter console)\n",
      "  \" (e.g. in jupyter console)\", TqdmExperimentalWarning)\n"
     ]
    }
   ],
   "source": [
    "%matplotlib inline\n",
    "\n",
    "import numpy as np\n",
    "import matplotlib.pyplot as plt\n",
    "import seaborn as sns\n",
    "sns.set()\n",
    "\n",
    "from tqdm import tqdm_notebook as tqdm\n",
    "\n",
    "from esn_module import esn\n",
    "\n",
    "from echo_state_tests import gen_in_out_one_in_subs, test_XOR\n",
    "\n",
    "from scipy.sparse import csr_matrix"
   ]
  },
  {
   "cell_type": "code",
   "execution_count": 157,
   "metadata": {},
   "outputs": [],
   "source": [
    "class RNN:\n",
    "    \n",
    "    def __init__(self,\n",
    "                N=1000,\n",
    "                cf=.1,\n",
    "                cf_w_in=.1,\n",
    "                sigm_w=1.,\n",
    "                sigm_w_in=1.,\n",
    "                sigm_w_out_init=.1,\n",
    "                tau=1.,\n",
    "                data_dim_in=1,\n",
    "                data_dim_out=1,\n",
    "                eps_a=0.0001):\n",
    "        \n",
    "        self.N = N\n",
    "        \n",
    "        self.W = np.random.normal(0.,sigm_w/(N*cf)**.5,(N,N))*(np.random.rand(N,N) <= cf)\n",
    "        self.W[range(N),range(N)] = 0.\n",
    "        \n",
    "        self.cf = (1.*(self.W!=0.)).sum()/N**2.\n",
    "        \n",
    "        if self.cf < .5:\n",
    "            self.W = csr_matrix(self.W)\n",
    "            self.sparse_W = True\n",
    "        else:\n",
    "            self.sparse_W = False\n",
    "            \n",
    "        self.data_dim_in = data_dim_in\n",
    "        self.data_dim_out = data_dim_out\n",
    "        \n",
    "        self.w_in = np.random.normal(0.,sigm_w_in,(self.N,self.data_dim_in))*(np.random.rand(self.N,self.data_dim_in) <= cf_w_in)\n",
    "        \n",
    "        self.cf_w_in = (1.*(self.w_in!=0.)).sum()/(N*data_dim_in)\n",
    "        \n",
    "        self.w_out = np.random.rand(data_dim_out,self.N+1)-.5\n",
    "        self.w_out[:,0] = 0.\n",
    "        \n",
    "        self.tau = tau\n",
    "        \n",
    "        self.a = np.ones(self.N)\n",
    "        \n",
    "        self.eps_a = eps_a\n",
    "    \n",
    "    def check_data_in_comp(self,data):\n",
    "\n",
    "        if len(data.shape)==1:\n",
    "            if self.data_dim_in != 1:\n",
    "                print(\"input dimensions do not fit!\")\n",
    "                sys.exit()\n",
    "            return np.array([data]).T\n",
    "\n",
    "        elif (len(data.shape)>2) or (data.shape[1] != self.data_dim_in):\n",
    "            print(\"input dimensions do not fit!\")\n",
    "            sys.exit()\n",
    "\n",
    "        return data\n",
    "    \n",
    "    def check_data_out_comp(self,data):\n",
    "\n",
    "        if len(data.shape)==1:\n",
    "            if self.data_dim_out != 1:\n",
    "                print(\"output dimensions do not fit!\")\n",
    "                #sys.exit()\n",
    "            return np.array([data]).T\n",
    "\n",
    "        elif (len(data.shape)>2) or (data.shape[1] != self.data_dim_out):\n",
    "            print(\"output dimensions do not fit!\")\n",
    "            #sys.exit()\n",
    "\n",
    "        return data\n",
    "    \n",
    "    def learn_global_gain_RTRL(self,\n",
    "                               u_in,\n",
    "                               u_out,\n",
    "                  T_batch_w_out=None,\n",
    "                    tau_batch_w_out = 1.,\n",
    "                    reg_fact = 0.01,\n",
    "                  T_skip_rec=10):\n",
    "        \n",
    "        if T_batch_w_out == None:\n",
    "            T_batch_w_out = self.N*4\n",
    "        \n",
    "        u_in = self.check_data_in_comp(u_in)\n",
    "        u_out = self.check_data_out_comp(u_out)\n",
    "        \n",
    "        if u_in.shape[0] == u_out.shape[0]:\n",
    "            T = u_in.shape[0]\n",
    "        else:\n",
    "            print(\"length of time series do not match!\")\n",
    "        \n",
    "        ### recording\n",
    "        \n",
    "        T_rec = int(T/T_skip_rec)\n",
    "        \n",
    "        y_rec = np.ndarray((T_rec,self.N))\n",
    "        a_rec = np.ndarray((T_rec))\n",
    "        \n",
    "        Err_rec = np.ndarray((T_rec))\n",
    "        \n",
    "        w_out_rec = np.ndarray((T_rec,self.data_dim_out,self.N+1))\n",
    "        \n",
    "        y_rec_w_out_learn = np.zeros((T_batch_w_out,self.N+1))\n",
    "\n",
    "        u_out_w_out_learn = np.zeros((T_batch_w_out,self.data_dim_out))\n",
    "        ###\n",
    "        \n",
    "        y = np.random.rand(self.N+1)-.5\n",
    "        y[0] = 0.\n",
    "        \n",
    "        dyda = np.zeros((self.N))\n",
    "        \n",
    "        for t in tqdm(range(T)):\n",
    "            \n",
    "            X_r = self.W.dot(y[1:])\n",
    "            \n",
    "            X_e = self.w_in.dot(u_in[t,:])\n",
    "            \n",
    "            y[1:] = np.tanh(self.a*X_r + X_e)\n",
    "            \n",
    "            y_rec_w_out_learn[t%T_batch_w_out,:] = y[:]\n",
    "\n",
    "            u_out_w_out_learn[t%T_batch_w_out,:] = u_out[t,:]\n",
    "            \n",
    "            O = self.w_out.dot(y)\n",
    "            \n",
    "            \n",
    "            if t%T_batch_w_out == 0 and t>0.:\n",
    "                \n",
    "                self.w_out = self.w_out + (1./tau_batch_w_out)*( -self.w_out + (np.linalg.inv(y_rec_w_out_learn.T @ y_rec_w_out_learn + reg_fact*np.eye(self.N+1)) @ y_rec_w_out_learn.T @ u_out_w_out_learn).T)\n",
    "                   \n",
    "            err = O - u_out[t,:]\n",
    "            \n",
    "            dyda = (1-y[1:]**2.)*(X_r + self.a[0]*self.W.dot(dyda))\n",
    "            \n",
    "            if t >= T_batch_w_out:\n",
    "            \n",
    "                \n",
    "\n",
    "                delta_a = -self.eps_a*err.dot(self.w_out[:,1:].dot(dyda))\n",
    "\n",
    "                self.a += delta_a\n",
    "\n",
    "                self.a = np.maximum(0.01,self.a)\n",
    "            \n",
    "            ### recording\n",
    "            \n",
    "            if t%T_skip_rec == 0:\n",
    "                \n",
    "                t_rec = int(t/T_skip_rec)\n",
    "                \n",
    "                y_rec[t_rec,:] = y[1:]\n",
    "                a_rec[t_rec] = self.a[0]\n",
    "\n",
    "                Err_rec[t_rec] = .5*(err**2.).sum()\n",
    "                \n",
    "                w_out_rec[t_rec,:,:] = self.w_out\n",
    "                \n",
    "        t_ax = np.array(range(T_rec))*T_skip_rec\n",
    "        \n",
    "        return t_ax,y_rec, a_rec, w_out_rec, Err_rec\n",
    "\n",
    "    def learn_global_gain_Local(self,\n",
    "                               u_in,\n",
    "                               u_out,\n",
    "                  T_batch_w_out=None,\n",
    "                    tau_batch_w_out = 1.,\n",
    "                    reg_fact = 0.01,\n",
    "                  T_skip_rec=10):\n",
    "        \n",
    "        if T_batch_w_out == None:\n",
    "            T_batch_w_out = self.N*4\n",
    "        \n",
    "        u_in = self.check_data_in_comp(u_in)\n",
    "        u_out = self.check_data_out_comp(u_out)\n",
    "        \n",
    "        if u_in.shape[0] == u_out.shape[0]:\n",
    "            T = u_in.shape[0]\n",
    "        else:\n",
    "            print(\"length of time series do not match!\")\n",
    "        \n",
    "        ### recording\n",
    "        \n",
    "        T_rec = int(T/T_skip_rec)\n",
    "        \n",
    "        y_rec = np.ndarray((T_rec,self.N))\n",
    "        a_rec = np.ndarray((T_rec))\n",
    "        \n",
    "        Err_rec = np.ndarray((T_rec))\n",
    "        \n",
    "        w_out_rec = np.ndarray((T_rec,self.data_dim_out,self.N+1))\n",
    "        \n",
    "        y_rec_w_out_learn = np.zeros((T_batch_w_out,self.N+1))\n",
    "\n",
    "        u_out_w_out_learn = np.zeros((T_batch_w_out,self.data_dim_out))\n",
    "        ###\n",
    "        \n",
    "        y = np.random.rand(self.N+1)-.5\n",
    "        y[0] = 0.\n",
    "        \n",
    "        dyda = np.zeros((self.N))\n",
    "        \n",
    "        for t in tqdm(range(T)):\n",
    "            \n",
    "            X_r = self.W.dot(y[1:])\n",
    "            \n",
    "            X_e = self.w_in.dot(u_in[t,:])\n",
    "            \n",
    "            y[1:] = np.tanh(self.a*X_r + X_e)\n",
    "            \n",
    "            y_rec_w_out_learn[t%T_batch_w_out,:] = y[:]\n",
    "\n",
    "            u_out_w_out_learn[t%T_batch_w_out,:] = u_out[t,:]\n",
    "            \n",
    "            O = self.w_out.dot(y)\n",
    "            \n",
    "            \n",
    "            if t%T_batch_w_out == 0 and t>0.:\n",
    "                \n",
    "                self.w_out = self.w_out + (1./tau_batch_w_out)*( -self.w_out + (np.linalg.inv(y_rec_w_out_learn.T @ y_rec_w_out_learn + reg_fact*np.eye(self.N+1)) @ y_rec_w_out_learn.T @ u_out_w_out_learn).T)\n",
    "                   \n",
    "            err = O - u_out[t,:]\n",
    "            \n",
    "            dyda = (1-y[1:]**2.)*X_r\n",
    "            \n",
    "            if t >= T_batch_w_out:\n",
    "            \n",
    "                \n",
    "\n",
    "                delta_a = -self.eps_a*err.dot(self.w_out[:,1:].dot(dyda))\n",
    "\n",
    "                self.a += delta_a\n",
    "\n",
    "                self.a = np.maximum(0.01,self.a)\n",
    "            \n",
    "            ### recording\n",
    "            \n",
    "            if t%T_skip_rec == 0:\n",
    "                \n",
    "                t_rec = int(t/T_skip_rec)\n",
    "                \n",
    "                y_rec[t_rec,:] = y[1:]\n",
    "                a_rec[t_rec] = self.a[0]\n",
    "\n",
    "                Err_rec[t_rec] = .5*(err**2.).sum()\n",
    "                \n",
    "                w_out_rec[t_rec,:,:] = self.w_out\n",
    "                \n",
    "        t_ax = np.array(range(T_rec))*T_skip_rec\n",
    "        \n",
    "        return t_ax,y_rec, a_rec, w_out_rec, Err_rec\n",
    "    \n",
    "    def learn_w_out(self,u_in,u_target,reg_fact=0.01,t_prerun=0):\n",
    "\n",
    "        u_in = self.check_data_in_comp(u_in)\n",
    "        u_target = self.check_data_out_comp(u_target)\n",
    "\n",
    "        n_t = u_in.shape[0]\n",
    "\n",
    "        y = np.ndarray((n_t,self.N+1))\n",
    "        y[:,0] = 1.\n",
    "\n",
    "\n",
    "        y[0,1:] = np.tanh(self.w_in @ u_in[0,:])\n",
    "\n",
    "\n",
    "        for t in tqdm(range(1,n_t)):\n",
    "\n",
    "            y[t,1:] = np.tanh(self.a*self.W.dot(y[t-1,1:]) + self.w_in @ u_in[t,:])\n",
    "        \n",
    "        self.w_out[:,:] = (np.linalg.inv(y[t_prerun:,:].T @ y[t_prerun:,:] + reg_fact*np.eye(self.N+1)) @ y[t_prerun:,:].T @ u_target[t_prerun:,:]).T\n",
    "    \n",
    "    def predict_data(self,data,return_reservoir_rec=False):\n",
    "\n",
    "        data = self.check_data_in_comp(data)\n",
    "\n",
    "        n_t = data.shape[0]\n",
    "\n",
    "        u_in = data\n",
    "\n",
    "        y = np.ndarray((n_t,self.N+1))\n",
    "        y[:,0] = 1.\n",
    "\n",
    "        y[0,1:] = np.tanh(self.w_in @ u_in[0,:])\n",
    "\n",
    "        for t in tqdm(range(1,n_t)):\n",
    "\n",
    "            y[t,1:] = np.tanh(self.a*self.W.dot(y[t-1,1:]) + self.w_in @ u_in[t,:])\n",
    "\n",
    "        out = (self.w_out @ y.T).T\n",
    "        if self.data_dim_out == 1:\n",
    "            out = out[:,0]\n",
    "\n",
    "        if return_reservoir_rec:\n",
    "            return (out,y)\n",
    "        else:\n",
    "            return out\n",
    "    "
   ]
  },
  {
   "cell_type": "code",
   "execution_count": 187,
   "metadata": {},
   "outputs": [
    {
     "data": {
      "application/vnd.jupyter.widget-view+json": {
       "model_id": "a173892cc85c4fd8886b32ecf8a6d01a",
       "version_major": 2,
       "version_minor": 0
      },
      "text/plain": [
       "HBox(children=(IntProgress(value=1, bar_style='info', max=1), HTML(value='')))"
      ]
     },
     "metadata": {},
     "output_type": "display_data"
    },
    {
     "data": {
      "application/vnd.jupyter.widget-view+json": {
       "model_id": "861419937c6342ef9b4dd0ee5d311812",
       "version_major": 2,
       "version_minor": 0
      },
      "text/plain": [
       "HBox(children=(IntProgress(value=0, max=1500000), HTML(value='')))"
      ]
     },
     "metadata": {},
     "output_type": "display_data"
    },
    {
     "data": {
      "application/vnd.jupyter.widget-view+json": {
       "model_id": "9608a5e683fd448386ceb33bff2d0c1d",
       "version_major": 2,
       "version_minor": 0
      },
      "text/plain": [
       "HBox(children=(IntProgress(value=0, max=9999), HTML(value='')))"
      ]
     },
     "metadata": {},
     "output_type": "display_data"
    },
    {
     "data": {
      "application/vnd.jupyter.widget-view+json": {
       "model_id": "ba1f96908fa54c9790f47f496fc9f837",
       "version_major": 2,
       "version_minor": 0
      },
      "text/plain": [
       "HBox(children=(IntProgress(value=0, max=9999), HTML(value='')))"
      ]
     },
     "metadata": {},
     "output_type": "display_data"
    },
    {
     "data": {
      "application/vnd.jupyter.widget-view+json": {
       "model_id": "d4bf22558f1341f79f8573d70e0f4898",
       "version_major": 2,
       "version_minor": 0
      },
      "text/plain": [
       "HBox(children=(IntProgress(value=0, max=1500000), HTML(value='')))"
      ]
     },
     "metadata": {},
     "output_type": "display_data"
    },
    {
     "data": {
      "application/vnd.jupyter.widget-view+json": {
       "model_id": "a410a09c02fe45a4b43957cae6625952",
       "version_major": 2,
       "version_minor": 0
      },
      "text/plain": [
       "HBox(children=(IntProgress(value=0, max=9999), HTML(value='')))"
      ]
     },
     "metadata": {},
     "output_type": "display_data"
    },
    {
     "data": {
      "application/vnd.jupyter.widget-view+json": {
       "model_id": "a489760c1df349109bafcdffac8b2bce",
       "version_major": 2,
       "version_minor": 0
      },
      "text/plain": [
       "HBox(children=(IntProgress(value=0, max=9999), HTML(value='')))"
      ]
     },
     "metadata": {},
     "output_type": "display_data"
    },
    {
     "data": {
      "application/vnd.jupyter.widget-view+json": {
       "model_id": "2f867ab060c94e86849b0e2f21bcd9ef",
       "version_major": 2,
       "version_minor": 0
      },
      "text/plain": [
       "HBox(children=(IntProgress(value=0, max=1500000), HTML(value='')))"
      ]
     },
     "metadata": {},
     "output_type": "display_data"
    },
    {
     "data": {
      "application/vnd.jupyter.widget-view+json": {
       "model_id": "467dfe3393d64ab2bae8ff029a88fce2",
       "version_major": 2,
       "version_minor": 0
      },
      "text/plain": [
       "HBox(children=(IntProgress(value=0, max=9999), HTML(value='')))"
      ]
     },
     "metadata": {},
     "output_type": "display_data"
    },
    {
     "data": {
      "application/vnd.jupyter.widget-view+json": {
       "model_id": "5f93649f187e4c56b3e59043e3399838",
       "version_major": 2,
       "version_minor": 0
      },
      "text/plain": [
       "HBox(children=(IntProgress(value=0, max=9999), HTML(value='')))"
      ]
     },
     "metadata": {},
     "output_type": "display_data"
    },
    {
     "data": {
      "application/vnd.jupyter.widget-view+json": {
       "model_id": "59ad72bb9ac9472297a1b6ad1a8673ac",
       "version_major": 2,
       "version_minor": 0
      },
      "text/plain": [
       "HBox(children=(IntProgress(value=0, max=1500000), HTML(value='')))"
      ]
     },
     "metadata": {},
     "output_type": "display_data"
    },
    {
     "data": {
      "application/vnd.jupyter.widget-view+json": {
       "model_id": "e42178c39b45474e8febe362adec2aea",
       "version_major": 2,
       "version_minor": 0
      },
      "text/plain": [
       "HBox(children=(IntProgress(value=0, max=9999), HTML(value='')))"
      ]
     },
     "metadata": {},
     "output_type": "display_data"
    },
    {
     "data": {
      "application/vnd.jupyter.widget-view+json": {
       "model_id": "72e1e972944741d498248df0d88f2e68",
       "version_major": 2,
       "version_minor": 0
      },
      "text/plain": [
       "HBox(children=(IntProgress(value=0, max=9999), HTML(value='')))"
      ]
     },
     "metadata": {},
     "output_type": "display_data"
    },
    {
     "data": {
      "application/vnd.jupyter.widget-view+json": {
       "model_id": "7a796e3f5afa41dd975d936742d4b13b",
       "version_major": 2,
       "version_minor": 0
      },
      "text/plain": [
       "HBox(children=(IntProgress(value=0, max=1500000), HTML(value='')))"
      ]
     },
     "metadata": {},
     "output_type": "display_data"
    },
    {
     "data": {
      "application/vnd.jupyter.widget-view+json": {
       "model_id": "198714e0487b41b0b6adc9f822e67ee9",
       "version_major": 2,
       "version_minor": 0
      },
      "text/plain": [
       "HBox(children=(IntProgress(value=0, max=9999), HTML(value='')))"
      ]
     },
     "metadata": {},
     "output_type": "display_data"
    },
    {
     "data": {
      "application/vnd.jupyter.widget-view+json": {
       "model_id": "5bb27bb27c194162839515b0fda29ef7",
       "version_major": 2,
       "version_minor": 0
      },
      "text/plain": [
       "HBox(children=(IntProgress(value=0, max=9999), HTML(value='')))"
      ]
     },
     "metadata": {},
     "output_type": "display_data"
    },
    {
     "data": {
      "application/vnd.jupyter.widget-view+json": {
       "model_id": "9c27503dd23e46249d91a6617ffd3133",
       "version_major": 2,
       "version_minor": 0
      },
      "text/plain": [
       "HBox(children=(IntProgress(value=0, max=1500000), HTML(value='')))"
      ]
     },
     "metadata": {},
     "output_type": "display_data"
    },
    {
     "data": {
      "application/vnd.jupyter.widget-view+json": {
       "model_id": "3145c57a42ee47329948fcb8325e9451",
       "version_major": 2,
       "version_minor": 0
      },
      "text/plain": [
       "HBox(children=(IntProgress(value=0, max=9999), HTML(value='')))"
      ]
     },
     "metadata": {},
     "output_type": "display_data"
    },
    {
     "data": {
      "application/vnd.jupyter.widget-view+json": {
       "model_id": "ba9ea183e24d4f3a90535e8ebff8e5a0",
       "version_major": 2,
       "version_minor": 0
      },
      "text/plain": [
       "HBox(children=(IntProgress(value=0, max=9999), HTML(value='')))"
      ]
     },
     "metadata": {},
     "output_type": "display_data"
    },
    {
     "data": {
      "application/vnd.jupyter.widget-view+json": {
       "model_id": "38beef18e86049c4b89353dada425d6e",
       "version_major": 2,
       "version_minor": 0
      },
      "text/plain": [
       "HBox(children=(IntProgress(value=0, max=1500000), HTML(value='')))"
      ]
     },
     "metadata": {},
     "output_type": "display_data"
    },
    {
     "data": {
      "application/vnd.jupyter.widget-view+json": {
       "model_id": "f0408c3dc50e43d180b95eba210449a8",
       "version_major": 2,
       "version_minor": 0
      },
      "text/plain": [
       "HBox(children=(IntProgress(value=0, max=9999), HTML(value='')))"
      ]
     },
     "metadata": {},
     "output_type": "display_data"
    },
    {
     "data": {
      "application/vnd.jupyter.widget-view+json": {
       "model_id": "673c04afb7404263a6092999f372216c",
       "version_major": 2,
       "version_minor": 0
      },
      "text/plain": [
       "HBox(children=(IntProgress(value=0, max=9999), HTML(value='')))"
      ]
     },
     "metadata": {},
     "output_type": "display_data"
    },
    {
     "data": {
      "application/vnd.jupyter.widget-view+json": {
       "model_id": "02f299ed2ac94e48b14721348a64938d",
       "version_major": 2,
       "version_minor": 0
      },
      "text/plain": [
       "HBox(children=(IntProgress(value=0, max=1500000), HTML(value='')))"
      ]
     },
     "metadata": {},
     "output_type": "display_data"
    },
    {
     "data": {
      "application/vnd.jupyter.widget-view+json": {
       "model_id": "3cb42797e50d42feb41bf1df6cb82336",
       "version_major": 2,
       "version_minor": 0
      },
      "text/plain": [
       "HBox(children=(IntProgress(value=0, max=9999), HTML(value='')))"
      ]
     },
     "metadata": {},
     "output_type": "display_data"
    },
    {
     "data": {
      "application/vnd.jupyter.widget-view+json": {
       "model_id": "836509286cfa497cb74344e380483280",
       "version_major": 2,
       "version_minor": 0
      },
      "text/plain": [
       "HBox(children=(IntProgress(value=0, max=9999), HTML(value='')))"
      ]
     },
     "metadata": {},
     "output_type": "display_data"
    },
    {
     "data": {
      "application/vnd.jupyter.widget-view+json": {
       "model_id": "1e5f0bd28fa246199ab6b412c9188fd6",
       "version_major": 2,
       "version_minor": 0
      },
      "text/plain": [
       "HBox(children=(IntProgress(value=0, max=1500000), HTML(value='')))"
      ]
     },
     "metadata": {},
     "output_type": "display_data"
    },
    {
     "data": {
      "application/vnd.jupyter.widget-view+json": {
       "model_id": "b1adfda424134979bf6dc99a9cbc1dca",
       "version_major": 2,
       "version_minor": 0
      },
      "text/plain": [
       "HBox(children=(IntProgress(value=0, max=9999), HTML(value='')))"
      ]
     },
     "metadata": {},
     "output_type": "display_data"
    },
    {
     "data": {
      "application/vnd.jupyter.widget-view+json": {
       "model_id": "478a428718d84fb6ab9fb679326f5fc1",
       "version_major": 2,
       "version_minor": 0
      },
      "text/plain": [
       "HBox(children=(IntProgress(value=0, max=9999), HTML(value='')))"
      ]
     },
     "metadata": {},
     "output_type": "display_data"
    },
    {
     "data": {
      "application/vnd.jupyter.widget-view+json": {
       "model_id": "dc541d699bf84f3dbb9b484a855b3b26",
       "version_major": 2,
       "version_minor": 0
      },
      "text/plain": [
       "HBox(children=(IntProgress(value=0, max=1500000), HTML(value='')))"
      ]
     },
     "metadata": {},
     "output_type": "display_data"
    },
    {
     "data": {
      "application/vnd.jupyter.widget-view+json": {
       "model_id": "6e329c5b82944d16b080d3df64833144",
       "version_major": 2,
       "version_minor": 0
      },
      "text/plain": [
       "HBox(children=(IntProgress(value=0, max=9999), HTML(value='')))"
      ]
     },
     "metadata": {},
     "output_type": "display_data"
    },
    {
     "data": {
      "application/vnd.jupyter.widget-view+json": {
       "model_id": "70176853a65645f19c967e3a06f7525c",
       "version_major": 2,
       "version_minor": 0
      },
      "text/plain": [
       "HBox(children=(IntProgress(value=0, max=9999), HTML(value='')))"
      ]
     },
     "metadata": {},
     "output_type": "display_data"
    },
    {
     "data": {
      "application/vnd.jupyter.widget-view+json": {
       "model_id": "38a42983dbdb4b318a98979bbfd165be",
       "version_major": 2,
       "version_minor": 0
      },
      "text/plain": [
       "HBox(children=(IntProgress(value=0, max=1500000), HTML(value='')))"
      ]
     },
     "metadata": {},
     "output_type": "display_data"
    },
    {
     "data": {
      "application/vnd.jupyter.widget-view+json": {
       "model_id": "e3f724249cbf4c838b3086aa955fbe51",
       "version_major": 2,
       "version_minor": 0
      },
      "text/plain": [
       "HBox(children=(IntProgress(value=0, max=9999), HTML(value='')))"
      ]
     },
     "metadata": {},
     "output_type": "display_data"
    },
    {
     "data": {
      "application/vnd.jupyter.widget-view+json": {
       "model_id": "8e1cb44d7dab47d699407f9d0d433c37",
       "version_major": 2,
       "version_minor": 0
      },
      "text/plain": [
       "HBox(children=(IntProgress(value=0, max=9999), HTML(value='')))"
      ]
     },
     "metadata": {},
     "output_type": "display_data"
    },
    {
     "data": {
      "application/vnd.jupyter.widget-view+json": {
       "model_id": "8744b46c46fe46259049a6b0a9a1b3c3",
       "version_major": 2,
       "version_minor": 0
      },
      "text/plain": [
       "HBox(children=(IntProgress(value=0, max=1500000), HTML(value='')))"
      ]
     },
     "metadata": {},
     "output_type": "display_data"
    },
    {
     "data": {
      "application/vnd.jupyter.widget-view+json": {
       "model_id": "c5c4ac445e6e410c9ada706b09ddf2df",
       "version_major": 2,
       "version_minor": 0
      },
      "text/plain": [
       "HBox(children=(IntProgress(value=0, max=9999), HTML(value='')))"
      ]
     },
     "metadata": {},
     "output_type": "display_data"
    },
    {
     "data": {
      "application/vnd.jupyter.widget-view+json": {
       "model_id": "a4f8319d182a4f548b66b480b7402357",
       "version_major": 2,
       "version_minor": 0
      },
      "text/plain": [
       "HBox(children=(IntProgress(value=0, max=9999), HTML(value='')))"
      ]
     },
     "metadata": {},
     "output_type": "display_data"
    },
    {
     "data": {
      "application/vnd.jupyter.widget-view+json": {
       "model_id": "3d0dc306b62f42609ab931ea9d43e446",
       "version_major": 2,
       "version_minor": 0
      },
      "text/plain": [
       "HBox(children=(IntProgress(value=0, max=1500000), HTML(value='')))"
      ]
     },
     "metadata": {},
     "output_type": "display_data"
    },
    {
     "data": {
      "application/vnd.jupyter.widget-view+json": {
       "model_id": "172b1f2d1220485b9d199af0841d5515",
       "version_major": 2,
       "version_minor": 0
      },
      "text/plain": [
       "HBox(children=(IntProgress(value=0, max=9999), HTML(value='')))"
      ]
     },
     "metadata": {},
     "output_type": "display_data"
    },
    {
     "data": {
      "application/vnd.jupyter.widget-view+json": {
       "model_id": "5fd2abaa6c364ee682cb75a69f3e822c",
       "version_major": 2,
       "version_minor": 0
      },
      "text/plain": [
       "HBox(children=(IntProgress(value=0, max=9999), HTML(value='')))"
      ]
     },
     "metadata": {},
     "output_type": "display_data"
    },
    {
     "data": {
      "application/vnd.jupyter.widget-view+json": {
       "model_id": "4dde423e254d4e229e88f24a285ccf8a",
       "version_major": 2,
       "version_minor": 0
      },
      "text/plain": [
       "HBox(children=(IntProgress(value=0, max=1500000), HTML(value='')))"
      ]
     },
     "metadata": {},
     "output_type": "display_data"
    },
    {
     "data": {
      "application/vnd.jupyter.widget-view+json": {
       "model_id": "d71b528f3c2047aeac11d3307fe91c47",
       "version_major": 2,
       "version_minor": 0
      },
      "text/plain": [
       "HBox(children=(IntProgress(value=0, max=9999), HTML(value='')))"
      ]
     },
     "metadata": {},
     "output_type": "display_data"
    },
    {
     "data": {
      "application/vnd.jupyter.widget-view+json": {
       "model_id": "5bb7b114d75545ce8151705730a8d20d",
       "version_major": 2,
       "version_minor": 0
      },
      "text/plain": [
       "HBox(children=(IntProgress(value=0, max=9999), HTML(value='')))"
      ]
     },
     "metadata": {},
     "output_type": "display_data"
    },
    {
     "data": {
      "application/vnd.jupyter.widget-view+json": {
       "model_id": "a4f55537fbbc41d5aa60a8c93ffe59f3",
       "version_major": 2,
       "version_minor": 0
      },
      "text/plain": [
       "HBox(children=(IntProgress(value=0, max=1500000), HTML(value='')))"
      ]
     },
     "metadata": {},
     "output_type": "display_data"
    },
    {
     "data": {
      "application/vnd.jupyter.widget-view+json": {
       "model_id": "ebb77876226548e78df59fe0d8cb7de2",
       "version_major": 2,
       "version_minor": 0
      },
      "text/plain": [
       "HBox(children=(IntProgress(value=0, max=9999), HTML(value='')))"
      ]
     },
     "metadata": {},
     "output_type": "display_data"
    },
    {
     "data": {
      "application/vnd.jupyter.widget-view+json": {
       "model_id": "8a309fba85ab4014827af191719919b5",
       "version_major": 2,
       "version_minor": 0
      },
      "text/plain": [
       "HBox(children=(IntProgress(value=0, max=9999), HTML(value='')))"
      ]
     },
     "metadata": {},
     "output_type": "display_data"
    },
    {
     "data": {
      "application/vnd.jupyter.widget-view+json": {
       "model_id": "c87922b8b3fe4358aa6e2599a7d57053",
       "version_major": 2,
       "version_minor": 0
      },
      "text/plain": [
       "HBox(children=(IntProgress(value=0, max=1500000), HTML(value='')))"
      ]
     },
     "metadata": {},
     "output_type": "display_data"
    },
    {
     "data": {
      "application/vnd.jupyter.widget-view+json": {
       "model_id": "fe2765aa440142798786b8591a77bafb",
       "version_major": 2,
       "version_minor": 0
      },
      "text/plain": [
       "HBox(children=(IntProgress(value=0, max=9999), HTML(value='')))"
      ]
     },
     "metadata": {},
     "output_type": "display_data"
    },
    {
     "data": {
      "application/vnd.jupyter.widget-view+json": {
       "model_id": "d77c0964edd24cbc92a864ef0a4aebe1",
       "version_major": 2,
       "version_minor": 0
      },
      "text/plain": [
       "HBox(children=(IntProgress(value=0, max=9999), HTML(value='')))"
      ]
     },
     "metadata": {},
     "output_type": "display_data"
    },
    {
     "data": {
      "application/vnd.jupyter.widget-view+json": {
       "model_id": "b72f6f3199494607bda82481f756dd9f",
       "version_major": 2,
       "version_minor": 0
      },
      "text/plain": [
       "HBox(children=(IntProgress(value=0, max=1500000), HTML(value='')))"
      ]
     },
     "metadata": {},
     "output_type": "display_data"
    },
    {
     "data": {
      "application/vnd.jupyter.widget-view+json": {
       "model_id": "502e5d11feae4dedad3c28260f5fc1a4",
       "version_major": 2,
       "version_minor": 0
      },
      "text/plain": [
       "HBox(children=(IntProgress(value=0, max=9999), HTML(value='')))"
      ]
     },
     "metadata": {},
     "output_type": "display_data"
    },
    {
     "data": {
      "application/vnd.jupyter.widget-view+json": {
       "model_id": "164d89711ad54b6294d815e78fba9bfe",
       "version_major": 2,
       "version_minor": 0
      },
      "text/plain": [
       "HBox(children=(IntProgress(value=0, max=9999), HTML(value='')))"
      ]
     },
     "metadata": {},
     "output_type": "display_data"
    },
    {
     "data": {
      "application/vnd.jupyter.widget-view+json": {
       "model_id": "67f6abfb05ca4c31b016c2fc23bc49dc",
       "version_major": 2,
       "version_minor": 0
      },
      "text/plain": [
       "HBox(children=(IntProgress(value=0, max=1500000), HTML(value='')))"
      ]
     },
     "metadata": {},
     "output_type": "display_data"
    },
    {
     "data": {
      "application/vnd.jupyter.widget-view+json": {
       "model_id": "cafdd23341b84729993a9f3ee6dbe731",
       "version_major": 2,
       "version_minor": 0
      },
      "text/plain": [
       "HBox(children=(IntProgress(value=0, max=9999), HTML(value='')))"
      ]
     },
     "metadata": {},
     "output_type": "display_data"
    },
    {
     "data": {
      "application/vnd.jupyter.widget-view+json": {
       "model_id": "573327f080f74ff08d87d38a43cbf1e6",
       "version_major": 2,
       "version_minor": 0
      },
      "text/plain": [
       "HBox(children=(IntProgress(value=0, max=9999), HTML(value='')))"
      ]
     },
     "metadata": {},
     "output_type": "display_data"
    },
    {
     "data": {
      "application/vnd.jupyter.widget-view+json": {
       "model_id": "84c756160d9b461fad4331b63ff0a338",
       "version_major": 2,
       "version_minor": 0
      },
      "text/plain": [
       "HBox(children=(IntProgress(value=0, max=1500000), HTML(value='')))"
      ]
     },
     "metadata": {},
     "output_type": "display_data"
    },
    {
     "data": {
      "application/vnd.jupyter.widget-view+json": {
       "model_id": "757c8652adc4455898d13c4c26f64aaf",
       "version_major": 2,
       "version_minor": 0
      },
      "text/plain": [
       "HBox(children=(IntProgress(value=0, max=9999), HTML(value='')))"
      ]
     },
     "metadata": {},
     "output_type": "display_data"
    },
    {
     "data": {
      "application/vnd.jupyter.widget-view+json": {
       "model_id": "0e9c4720314a49ba93c02463c28e4be1",
       "version_major": 2,
       "version_minor": 0
      },
      "text/plain": [
       "HBox(children=(IntProgress(value=0, max=9999), HTML(value='')))"
      ]
     },
     "metadata": {},
     "output_type": "display_data"
    },
    {
     "data": {
      "application/vnd.jupyter.widget-view+json": {
       "model_id": "8dec0709cf914a9a87d5bc6281e20d17",
       "version_major": 2,
       "version_minor": 0
      },
      "text/plain": [
       "HBox(children=(IntProgress(value=0, max=1500000), HTML(value='')))"
      ]
     },
     "metadata": {},
     "output_type": "display_data"
    },
    {
     "data": {
      "application/vnd.jupyter.widget-view+json": {
       "model_id": "db1493950dac4713bed091477ea1fe05",
       "version_major": 2,
       "version_minor": 0
      },
      "text/plain": [
       "HBox(children=(IntProgress(value=0, max=9999), HTML(value='')))"
      ]
     },
     "metadata": {},
     "output_type": "display_data"
    },
    {
     "data": {
      "application/vnd.jupyter.widget-view+json": {
       "model_id": "5fa6d9f3992547b6a62c376630c04175",
       "version_major": 2,
       "version_minor": 0
      },
      "text/plain": [
       "HBox(children=(IntProgress(value=0, max=9999), HTML(value='')))"
      ]
     },
     "metadata": {},
     "output_type": "display_data"
    },
    {
     "data": {
      "application/vnd.jupyter.widget-view+json": {
       "model_id": "e15b66f3df3c409590323757a5eb1533",
       "version_major": 2,
       "version_minor": 0
      },
      "text/plain": [
       "HBox(children=(IntProgress(value=0, max=1500000), HTML(value='')))"
      ]
     },
     "metadata": {},
     "output_type": "display_data"
    },
    {
     "data": {
      "application/vnd.jupyter.widget-view+json": {
       "model_id": "0283d24c9253493bbf30176f7fec26e2",
       "version_major": 2,
       "version_minor": 0
      },
      "text/plain": [
       "HBox(children=(IntProgress(value=0, max=9999), HTML(value='')))"
      ]
     },
     "metadata": {},
     "output_type": "display_data"
    },
    {
     "data": {
      "application/vnd.jupyter.widget-view+json": {
       "model_id": "79a103e0bc4c40a2b5affd7e86eeea2c",
       "version_major": 2,
       "version_minor": 0
      },
      "text/plain": [
       "HBox(children=(IntProgress(value=0, max=9999), HTML(value='')))"
      ]
     },
     "metadata": {},
     "output_type": "display_data"
    },
    {
     "data": {
      "application/vnd.jupyter.widget-view+json": {
       "model_id": "a16b664fe7fe43d0b2c0661af9227bda",
       "version_major": 2,
       "version_minor": 0
      },
      "text/plain": [
       "HBox(children=(IntProgress(value=0, max=1500000), HTML(value='')))"
      ]
     },
     "metadata": {},
     "output_type": "display_data"
    },
    {
     "data": {
      "application/vnd.jupyter.widget-view+json": {
       "model_id": "738c2ccab6344f128f78ccc98c9e8b04",
       "version_major": 2,
       "version_minor": 0
      },
      "text/plain": [
       "HBox(children=(IntProgress(value=0, max=9999), HTML(value='')))"
      ]
     },
     "metadata": {},
     "output_type": "display_data"
    },
    {
     "data": {
      "application/vnd.jupyter.widget-view+json": {
       "model_id": "a06de73dc6e043ee8903ce17088bd8ff",
       "version_major": 2,
       "version_minor": 0
      },
      "text/plain": [
       "HBox(children=(IntProgress(value=0, max=9999), HTML(value='')))"
      ]
     },
     "metadata": {},
     "output_type": "display_data"
    },
    {
     "data": {
      "application/vnd.jupyter.widget-view+json": {
       "model_id": "5ddf00671e2c4201b291b9a69863fb27",
       "version_major": 2,
       "version_minor": 0
      },
      "text/plain": [
       "HBox(children=(IntProgress(value=0, max=1500000), HTML(value='')))"
      ]
     },
     "metadata": {},
     "output_type": "display_data"
    },
    {
     "data": {
      "application/vnd.jupyter.widget-view+json": {
       "model_id": "80c48a43bf6849df801725c20d356450",
       "version_major": 2,
       "version_minor": 0
      },
      "text/plain": [
       "HBox(children=(IntProgress(value=0, max=9999), HTML(value='')))"
      ]
     },
     "metadata": {},
     "output_type": "display_data"
    },
    {
     "data": {
      "application/vnd.jupyter.widget-view+json": {
       "model_id": "c913a7b27cf24a29a9713d7366f5bc90",
       "version_major": 2,
       "version_minor": 0
      },
      "text/plain": [
       "HBox(children=(IntProgress(value=0, max=9999), HTML(value='')))"
      ]
     },
     "metadata": {},
     "output_type": "display_data"
    },
    {
     "data": {
      "application/vnd.jupyter.widget-view+json": {
       "model_id": "297867a238a5407ea9050ea41159e3b8",
       "version_major": 2,
       "version_minor": 0
      },
      "text/plain": [
       "HBox(children=(IntProgress(value=0, max=1500000), HTML(value='')))"
      ]
     },
     "metadata": {},
     "output_type": "display_data"
    },
    {
     "data": {
      "application/vnd.jupyter.widget-view+json": {
       "model_id": "9f400d2258144b5ebecefb3dc2349d60",
       "version_major": 2,
       "version_minor": 0
      },
      "text/plain": [
       "HBox(children=(IntProgress(value=0, max=9999), HTML(value='')))"
      ]
     },
     "metadata": {},
     "output_type": "display_data"
    },
    {
     "data": {
      "application/vnd.jupyter.widget-view+json": {
       "model_id": "934e5c347e4242329bdaf879ebc9f1d8",
       "version_major": 2,
       "version_minor": 0
      },
      "text/plain": [
       "HBox(children=(IntProgress(value=0, max=9999), HTML(value='')))"
      ]
     },
     "metadata": {},
     "output_type": "display_data"
    },
    {
     "data": {
      "application/vnd.jupyter.widget-view+json": {
       "model_id": "de071333a5fe4a5bb7d044320979024f",
       "version_major": 2,
       "version_minor": 0
      },
      "text/plain": [
       "HBox(children=(IntProgress(value=0, max=1500000), HTML(value='')))"
      ]
     },
     "metadata": {},
     "output_type": "display_data"
    },
    {
     "data": {
      "application/vnd.jupyter.widget-view+json": {
       "model_id": "b56ccd7544af47b0acbdd95205f5a8c7",
       "version_major": 2,
       "version_minor": 0
      },
      "text/plain": [
       "HBox(children=(IntProgress(value=0, max=9999), HTML(value='')))"
      ]
     },
     "metadata": {},
     "output_type": "display_data"
    },
    {
     "data": {
      "application/vnd.jupyter.widget-view+json": {
       "model_id": "5a6e87b0f87e419eb025e19891eda1a2",
       "version_major": 2,
       "version_minor": 0
      },
      "text/plain": [
       "HBox(children=(IntProgress(value=0, max=9999), HTML(value='')))"
      ]
     },
     "metadata": {},
     "output_type": "display_data"
    }
   ],
   "source": [
    "tau_max = 25\n",
    "\n",
    "tau_delay = np.arange(tau_max)\n",
    "gain = np.ndarray((tau_max))\n",
    "\n",
    "MC = np.ndarray((tau_max))\n",
    "\n",
    "for k,tau in tqdm(enumerate(tau_delay)):\n",
    "\n",
    "    rnn = RNN(N=500)\n",
    "\n",
    "    u_in,u_out = gen_in_out_one_in_subs(1500000,tau)\n",
    "\n",
    "    t,y,a,w_out,E = rnn.learn_global_gain_RTRL(u_in,u_out,tau_batch_w_out=1.)\n",
    "    \n",
    "    gain[k] = a[-1]\n",
    "    \n",
    "    u_in_learn,u_out_learn = gen_in_out_one_in_subs(10000,tau)\n",
    "    u_in_test,u_out_test = gen_in_out_one_in_subs(10000,tau)\n",
    "\n",
    "    rnn.learn_w_out(u_in_learn,u_out_learn)\n",
    "\n",
    "    u_out_pred = rnn.predict_data(u_in_test)\n",
    "    \n",
    "    MC[k] = np.corrcoef(u_out_test,u_out_pred)[0,1]**2.\n",
    "    \n",
    "    "
   ]
  },
  {
   "cell_type": "code",
   "execution_count": null,
   "metadata": {},
   "outputs": [
    {
     "data": {
      "application/vnd.jupyter.widget-view+json": {
       "model_id": "21c1150cdc4048009c3c4da1bd7991a6",
       "version_major": 2,
       "version_minor": 0
      },
      "text/plain": [
       "HBox(children=(IntProgress(value=1, bar_style='info', max=1), HTML(value='')))"
      ]
     },
     "metadata": {},
     "output_type": "display_data"
    },
    {
     "data": {
      "application/vnd.jupyter.widget-view+json": {
       "model_id": "8dbd867e0d56468c935866da43ceffc6",
       "version_major": 2,
       "version_minor": 0
      },
      "text/plain": [
       "HBox(children=(IntProgress(value=0, max=1500000), HTML(value='')))"
      ]
     },
     "metadata": {},
     "output_type": "display_data"
    },
    {
     "data": {
      "application/vnd.jupyter.widget-view+json": {
       "model_id": "2008773275744560b4a9da73bf27cb69",
       "version_major": 2,
       "version_minor": 0
      },
      "text/plain": [
       "HBox(children=(IntProgress(value=0, max=9999), HTML(value='')))"
      ]
     },
     "metadata": {},
     "output_type": "display_data"
    },
    {
     "data": {
      "application/vnd.jupyter.widget-view+json": {
       "model_id": "76c217e524fd4ce99bc2a7ec0e108110",
       "version_major": 2,
       "version_minor": 0
      },
      "text/plain": [
       "HBox(children=(IntProgress(value=0, max=9999), HTML(value='')))"
      ]
     },
     "metadata": {},
     "output_type": "display_data"
    },
    {
     "data": {
      "application/vnd.jupyter.widget-view+json": {
       "model_id": "2476ab82eecb4d34b01ba154121115dd",
       "version_major": 2,
       "version_minor": 0
      },
      "text/plain": [
       "HBox(children=(IntProgress(value=0, max=1500000), HTML(value='')))"
      ]
     },
     "metadata": {},
     "output_type": "display_data"
    },
    {
     "data": {
      "application/vnd.jupyter.widget-view+json": {
       "model_id": "4544259597414b19b2a3cd18c9384266",
       "version_major": 2,
       "version_minor": 0
      },
      "text/plain": [
       "HBox(children=(IntProgress(value=0, max=9999), HTML(value='')))"
      ]
     },
     "metadata": {},
     "output_type": "display_data"
    },
    {
     "data": {
      "application/vnd.jupyter.widget-view+json": {
       "model_id": "bd713261a23a4d6ea91aa868308b3ea3",
       "version_major": 2,
       "version_minor": 0
      },
      "text/plain": [
       "HBox(children=(IntProgress(value=0, max=9999), HTML(value='')))"
      ]
     },
     "metadata": {},
     "output_type": "display_data"
    },
    {
     "data": {
      "application/vnd.jupyter.widget-view+json": {
       "model_id": "9bf4c2cb07d0458eb2e0cd296dd3d541",
       "version_major": 2,
       "version_minor": 0
      },
      "text/plain": [
       "HBox(children=(IntProgress(value=0, max=1500000), HTML(value='')))"
      ]
     },
     "metadata": {},
     "output_type": "display_data"
    },
    {
     "data": {
      "application/vnd.jupyter.widget-view+json": {
       "model_id": "d3c1c1f2a15641009df6ba86cb5f69ee",
       "version_major": 2,
       "version_minor": 0
      },
      "text/plain": [
       "HBox(children=(IntProgress(value=0, max=9999), HTML(value='')))"
      ]
     },
     "metadata": {},
     "output_type": "display_data"
    },
    {
     "data": {
      "application/vnd.jupyter.widget-view+json": {
       "model_id": "7fa5e96ae1b84671afb4353d7eba3daa",
       "version_major": 2,
       "version_minor": 0
      },
      "text/plain": [
       "HBox(children=(IntProgress(value=0, max=9999), HTML(value='')))"
      ]
     },
     "metadata": {},
     "output_type": "display_data"
    },
    {
     "data": {
      "application/vnd.jupyter.widget-view+json": {
       "model_id": "a422903f912a48c994900519f5c71c08",
       "version_major": 2,
       "version_minor": 0
      },
      "text/plain": [
       "HBox(children=(IntProgress(value=0, max=1500000), HTML(value='')))"
      ]
     },
     "metadata": {},
     "output_type": "display_data"
    },
    {
     "data": {
      "application/vnd.jupyter.widget-view+json": {
       "model_id": "74c8a692e0d343d58667763ccda3b003",
       "version_major": 2,
       "version_minor": 0
      },
      "text/plain": [
       "HBox(children=(IntProgress(value=0, max=9999), HTML(value='')))"
      ]
     },
     "metadata": {},
     "output_type": "display_data"
    },
    {
     "data": {
      "application/vnd.jupyter.widget-view+json": {
       "model_id": "f6c739eca85d4b2985d3de9d167ab34c",
       "version_major": 2,
       "version_minor": 0
      },
      "text/plain": [
       "HBox(children=(IntProgress(value=0, max=9999), HTML(value='')))"
      ]
     },
     "metadata": {},
     "output_type": "display_data"
    },
    {
     "data": {
      "application/vnd.jupyter.widget-view+json": {
       "model_id": "54ba1335c4af487b9705db3ef7cd1161",
       "version_major": 2,
       "version_minor": 0
      },
      "text/plain": [
       "HBox(children=(IntProgress(value=0, max=1500000), HTML(value='')))"
      ]
     },
     "metadata": {},
     "output_type": "display_data"
    },
    {
     "data": {
      "application/vnd.jupyter.widget-view+json": {
       "model_id": "a425a2e7c7ef4239851170387a384a42",
       "version_major": 2,
       "version_minor": 0
      },
      "text/plain": [
       "HBox(children=(IntProgress(value=0, max=9999), HTML(value='')))"
      ]
     },
     "metadata": {},
     "output_type": "display_data"
    },
    {
     "data": {
      "application/vnd.jupyter.widget-view+json": {
       "model_id": "37de210a0b9940a1b3ac131ff7e498dc",
       "version_major": 2,
       "version_minor": 0
      },
      "text/plain": [
       "HBox(children=(IntProgress(value=0, max=9999), HTML(value='')))"
      ]
     },
     "metadata": {},
     "output_type": "display_data"
    },
    {
     "data": {
      "application/vnd.jupyter.widget-view+json": {
       "model_id": "88abf8b46f1f4e0194c8fcb593cd16e8",
       "version_major": 2,
       "version_minor": 0
      },
      "text/plain": [
       "HBox(children=(IntProgress(value=0, max=1500000), HTML(value='')))"
      ]
     },
     "metadata": {},
     "output_type": "display_data"
    },
    {
     "data": {
      "application/vnd.jupyter.widget-view+json": {
       "model_id": "b605cfb1014e4537818dec434dd9cc41",
       "version_major": 2,
       "version_minor": 0
      },
      "text/plain": [
       "HBox(children=(IntProgress(value=0, max=9999), HTML(value='')))"
      ]
     },
     "metadata": {},
     "output_type": "display_data"
    },
    {
     "data": {
      "application/vnd.jupyter.widget-view+json": {
       "model_id": "bc3753d4273141f69668e12a9c47548c",
       "version_major": 2,
       "version_minor": 0
      },
      "text/plain": [
       "HBox(children=(IntProgress(value=0, max=9999), HTML(value='')))"
      ]
     },
     "metadata": {},
     "output_type": "display_data"
    },
    {
     "data": {
      "application/vnd.jupyter.widget-view+json": {
       "model_id": "b957825e90264cf9a419053ebb8365fe",
       "version_major": 2,
       "version_minor": 0
      },
      "text/plain": [
       "HBox(children=(IntProgress(value=0, max=1500000), HTML(value='')))"
      ]
     },
     "metadata": {},
     "output_type": "display_data"
    },
    {
     "data": {
      "application/vnd.jupyter.widget-view+json": {
       "model_id": "a34fce85a01e4718a7a1410fae179bd7",
       "version_major": 2,
       "version_minor": 0
      },
      "text/plain": [
       "HBox(children=(IntProgress(value=0, max=9999), HTML(value='')))"
      ]
     },
     "metadata": {},
     "output_type": "display_data"
    },
    {
     "data": {
      "application/vnd.jupyter.widget-view+json": {
       "model_id": "f5e5115c72c84aa28faf284e5a8487f1",
       "version_major": 2,
       "version_minor": 0
      },
      "text/plain": [
       "HBox(children=(IntProgress(value=0, max=9999), HTML(value='')))"
      ]
     },
     "metadata": {},
     "output_type": "display_data"
    },
    {
     "data": {
      "application/vnd.jupyter.widget-view+json": {
       "model_id": "163161982de74084a8f48fb1fcf36810",
       "version_major": 2,
       "version_minor": 0
      },
      "text/plain": [
       "HBox(children=(IntProgress(value=0, max=1500000), HTML(value='')))"
      ]
     },
     "metadata": {},
     "output_type": "display_data"
    },
    {
     "data": {
      "application/vnd.jupyter.widget-view+json": {
       "model_id": "b5eb9e42475242eb8a71ad48ac474e5a",
       "version_major": 2,
       "version_minor": 0
      },
      "text/plain": [
       "HBox(children=(IntProgress(value=0, max=9999), HTML(value='')))"
      ]
     },
     "metadata": {},
     "output_type": "display_data"
    },
    {
     "data": {
      "application/vnd.jupyter.widget-view+json": {
       "model_id": "ec0b7ca1172848f1831c6035c968c389",
       "version_major": 2,
       "version_minor": 0
      },
      "text/plain": [
       "HBox(children=(IntProgress(value=0, max=9999), HTML(value='')))"
      ]
     },
     "metadata": {},
     "output_type": "display_data"
    },
    {
     "data": {
      "application/vnd.jupyter.widget-view+json": {
       "model_id": "35c35b10e0f441f5bf55d04f061c3c98",
       "version_major": 2,
       "version_minor": 0
      },
      "text/plain": [
       "HBox(children=(IntProgress(value=0, max=1500000), HTML(value='')))"
      ]
     },
     "metadata": {},
     "output_type": "display_data"
    },
    {
     "data": {
      "application/vnd.jupyter.widget-view+json": {
       "model_id": "e2591b150e4e4c43bd957c6edf867964",
       "version_major": 2,
       "version_minor": 0
      },
      "text/plain": [
       "HBox(children=(IntProgress(value=0, max=9999), HTML(value='')))"
      ]
     },
     "metadata": {},
     "output_type": "display_data"
    },
    {
     "data": {
      "application/vnd.jupyter.widget-view+json": {
       "model_id": "13e0a6c8db0548c0ac04fa67d55f88c1",
       "version_major": 2,
       "version_minor": 0
      },
      "text/plain": [
       "HBox(children=(IntProgress(value=0, max=9999), HTML(value='')))"
      ]
     },
     "metadata": {},
     "output_type": "display_data"
    },
    {
     "data": {
      "application/vnd.jupyter.widget-view+json": {
       "model_id": "d8803d348617494db6b7cc62dbcfa525",
       "version_major": 2,
       "version_minor": 0
      },
      "text/plain": [
       "HBox(children=(IntProgress(value=0, max=1500000), HTML(value='')))"
      ]
     },
     "metadata": {},
     "output_type": "display_data"
    },
    {
     "data": {
      "application/vnd.jupyter.widget-view+json": {
       "model_id": "634c44eafa7f4e288e6604ac71f2c4ee",
       "version_major": 2,
       "version_minor": 0
      },
      "text/plain": [
       "HBox(children=(IntProgress(value=0, max=9999), HTML(value='')))"
      ]
     },
     "metadata": {},
     "output_type": "display_data"
    },
    {
     "data": {
      "application/vnd.jupyter.widget-view+json": {
       "model_id": "cf1960ef06594df6bb7b398b5cb63a96",
       "version_major": 2,
       "version_minor": 0
      },
      "text/plain": [
       "HBox(children=(IntProgress(value=0, max=9999), HTML(value='')))"
      ]
     },
     "metadata": {},
     "output_type": "display_data"
    },
    {
     "data": {
      "application/vnd.jupyter.widget-view+json": {
       "model_id": "173f36199889475d8d7e337c7e20e764",
       "version_major": 2,
       "version_minor": 0
      },
      "text/plain": [
       "HBox(children=(IntProgress(value=0, max=1500000), HTML(value='')))"
      ]
     },
     "metadata": {},
     "output_type": "display_data"
    },
    {
     "data": {
      "application/vnd.jupyter.widget-view+json": {
       "model_id": "d1a65b52fba64c6aad8e1969cfc1f4e3",
       "version_major": 2,
       "version_minor": 0
      },
      "text/plain": [
       "HBox(children=(IntProgress(value=0, max=9999), HTML(value='')))"
      ]
     },
     "metadata": {},
     "output_type": "display_data"
    },
    {
     "data": {
      "application/vnd.jupyter.widget-view+json": {
       "model_id": "56d5b2abf94547a1a4645bd35308c145",
       "version_major": 2,
       "version_minor": 0
      },
      "text/plain": [
       "HBox(children=(IntProgress(value=0, max=9999), HTML(value='')))"
      ]
     },
     "metadata": {},
     "output_type": "display_data"
    },
    {
     "data": {
      "application/vnd.jupyter.widget-view+json": {
       "model_id": "ec6cc2bf81834d11b12ea674daf2608c",
       "version_major": 2,
       "version_minor": 0
      },
      "text/plain": [
       "HBox(children=(IntProgress(value=0, max=1500000), HTML(value='')))"
      ]
     },
     "metadata": {},
     "output_type": "display_data"
    },
    {
     "data": {
      "application/vnd.jupyter.widget-view+json": {
       "model_id": "bf970d0995d8436d884e4ec41bbde4bb",
       "version_major": 2,
       "version_minor": 0
      },
      "text/plain": [
       "HBox(children=(IntProgress(value=0, max=9999), HTML(value='')))"
      ]
     },
     "metadata": {},
     "output_type": "display_data"
    },
    {
     "data": {
      "application/vnd.jupyter.widget-view+json": {
       "model_id": "0143de2ea00949a8be25f8c965eb0a92",
       "version_major": 2,
       "version_minor": 0
      },
      "text/plain": [
       "HBox(children=(IntProgress(value=0, max=9999), HTML(value='')))"
      ]
     },
     "metadata": {},
     "output_type": "display_data"
    },
    {
     "data": {
      "application/vnd.jupyter.widget-view+json": {
       "model_id": "b9f476ae841c4af8a7624b2b47c4c3b2",
       "version_major": 2,
       "version_minor": 0
      },
      "text/plain": [
       "HBox(children=(IntProgress(value=0, max=1500000), HTML(value='')))"
      ]
     },
     "metadata": {},
     "output_type": "display_data"
    }
   ],
   "source": [
    "gain_local = np.ndarray((tau_max))\n",
    "MC_local = np.ndarray((tau_max))\n",
    "\n",
    "\n",
    "for k,tau in tqdm(enumerate(tau_delay)):\n",
    "\n",
    "    rnn = RNN(N=500)\n",
    "\n",
    "    u_in,u_out = gen_in_out_one_in_subs(1500000,tau)\n",
    "\n",
    "    t,y,a,w_out,E = rnn.learn_global_gain_Local(u_in,u_out,tau_batch_w_out=1.)\n",
    "    \n",
    "    gain_local[k] = a[-1]\n",
    "    \n",
    "    u_in_learn,u_out_learn = gen_in_out_one_in_subs(10000,tau)\n",
    "    u_in_test,u_out_test = gen_in_out_one_in_subs(10000,tau)\n",
    "\n",
    "    rnn.learn_w_out(u_in_learn,u_out_learn)\n",
    "\n",
    "    u_out_pred = rnn.predict_data(u_in_test)\n",
    "    \n",
    "    MC_local[k] = np.corrcoef(u_out_test,u_out_pred)[0,1]**2."
   ]
  },
  {
   "cell_type": "code",
   "execution_count": null,
   "metadata": {},
   "outputs": [],
   "source": [
    "plt.plot(tau_delay,gain,label='RTRL')\n",
    "plt.plot(tau_delay,gain_local,label='Local Gradient')\n",
    "plt.xlabel(\"Time delay\")\n",
    "plt.ylabel(\"Gain\")\n",
    "plt.legend()\n",
    "plt.show()"
   ]
  },
  {
   "cell_type": "code",
   "execution_count": null,
   "metadata": {},
   "outputs": [],
   "source": [
    "plt.plot(tau_delay,MC)\n",
    "plt.plot(tau_delay,MC_local)\n",
    "plt.ylim([0.,1.])\n",
    "plt.show()"
   ]
  },
  {
   "cell_type": "code",
   "execution_count": 174,
   "metadata": {},
   "outputs": [
    {
     "data": {
      "application/vnd.jupyter.widget-view+json": {
       "model_id": "0c8a8c484d74479a9d38ca390b0ebc5c",
       "version_major": 2,
       "version_minor": 0
      },
      "text/plain": [
       "HBox(children=(IntProgress(value=0, max=1500000), HTML(value='')))"
      ]
     },
     "metadata": {},
     "output_type": "display_data"
    },
    {
     "data": {
      "application/vnd.jupyter.widget-view+json": {
       "model_id": "43b99ce46ae04d63a06bd7ab8b2a43c1",
       "version_major": 2,
       "version_minor": 0
      },
      "text/plain": [
       "HBox(children=(IntProgress(value=0, max=1500000), HTML(value='')))"
      ]
     },
     "metadata": {},
     "output_type": "display_data"
    }
   ],
   "source": [
    "rnn = RNN(N=500)\n",
    "rnn_RTRL = RNN(N=500)\n",
    "\n",
    "u_in,u_out = gen_in_out_one_in_subs(1500000,5)\n",
    "\n",
    "t,y,a,w_out,E = rnn.learn_global_gain_Local(u_in,u_out,tau_batch_w_out=1.)\n",
    "t,y_RTRL,a_RTRL,w_out_RTRL,E_RTRL = rnn_RTRL.learn_global_gain_RTRL(u_in,u_out,tau_batch_w_out=1.)"
   ]
  },
  {
   "cell_type": "code",
   "execution_count": 175,
   "metadata": {},
   "outputs": [
    {
     "data": {
      "image/png": "[encoded data removed]",
      "text/plain": [
       "<Figure size 432x288 with 1 Axes>"
      ]
     },
     "metadata": {
      "needs_background": "light"
     },
     "output_type": "display_data"
    }
   ],
   "source": [
    "plt.plot(t,a)\n",
    "plt.plot(t,a_RTRL)\n",
    "plt.show()"
   ]
  },
  {
   "cell_type": "code",
   "execution_count": 176,
   "metadata": {},
   "outputs": [
    {
     "data": {
      "application/vnd.jupyter.widget-view+json": {
       "model_id": "8b84216ba89c40b1bc08bbba1e6ef157",
       "version_major": 2,
       "version_minor": 0
      },
      "text/plain": [
       "HBox(children=(IntProgress(value=0, max=9999), HTML(value='')))"
      ]
     },
     "metadata": {},
     "output_type": "display_data"
    },
    {
     "data": {
      "application/vnd.jupyter.widget-view+json": {
       "model_id": "d8ef7b1da5944971b8c4c8c9f5b771fc",
       "version_major": 2,
       "version_minor": 0
      },
      "text/plain": [
       "HBox(children=(IntProgress(value=0, max=9999), HTML(value='')))"
      ]
     },
     "metadata": {},
     "output_type": "display_data"
    },
    {
     "data": {
      "application/vnd.jupyter.widget-view+json": {
       "model_id": "fe4f52e1adc14602b0af8e812a37cb16",
       "version_major": 2,
       "version_minor": 0
      },
      "text/plain": [
       "HBox(children=(IntProgress(value=0, max=9999), HTML(value='')))"
      ]
     },
     "metadata": {},
     "output_type": "display_data"
    },
    {
     "data": {
      "application/vnd.jupyter.widget-view+json": {
       "model_id": "ad79b6eb2b3c4369a30754c1bfdc74cc",
       "version_major": 2,
       "version_minor": 0
      },
      "text/plain": [
       "HBox(children=(IntProgress(value=0, max=9999), HTML(value='')))"
      ]
     },
     "metadata": {},
     "output_type": "display_data"
    }
   ],
   "source": [
    "u_in_learn,u_out_learn = gen_in_out_one_in_subs(10000,5)\n",
    "u_in_test,u_out_test = gen_in_out_one_in_subs(10000,5)\n",
    "\n",
    "rnn.learn_w_out(u_in_learn,u_out_learn)\n",
    "rnn_RTRL.learn_w_out(u_in_learn,u_out_learn)\n",
    "\n",
    "u_out_pred = rnn.predict_data(u_in_test)\n",
    "u_out_pred_RTRL = rnn_RTRL.predict_data(u_in_test)"
   ]
  },
  {
   "cell_type": "code",
   "execution_count": 177,
   "metadata": {},
   "outputs": [
    {
     "data": {
      "image/png": "[encoded data removed]",
      "text/plain": [
       "<Figure size 432x288 with 1 Axes>"
      ]
     },
     "metadata": {
      "needs_background": "light"
     },
     "output_type": "display_data"
    }
   ],
   "source": [
    "plt.plot(u_out_test,u_out_pred,'.')\n",
    "plt.plot(u_out_test,u_out_pred_RTRL,'.')\n",
    "plt.show()"
   ]
  },
  {
   "cell_type": "code",
   "execution_count": 139,
   "metadata": {},
   "outputs": [
    {
     "data": {
      "image/png": "[encoded data removed]",
      "text/plain": [
       "<Figure size 432x288 with 1 Axes>"
      ]
     },
     "metadata": {
      "needs_background": "light"
     },
     "output_type": "display_data"
    }
   ],
   "source": [
    "plt.plot(t,w_out[:,0,:20])\n",
    "plt.show()"
   ]
  },
  {
   "cell_type": "code",
   "execution_count": null,
   "metadata": {},
   "outputs": [],
   "source": []
  }
 ],
 "metadata": {
  "kernelspec": {
   "display_name": "Python 3",
   "language": "python",
   "name": "python3"
  },
  "language_info": {
   "codemirror_mode": {
    "name": "ipython",
    "version": 3
   },
   "file_extension": ".py",
   "mimetype": "text/x-python",
   "name": "python",
   "nbconvert_exporter": "python",
   "pygments_lexer": "ipython3",
   "version": "3.6.8"
  }
 },
 "nbformat": 4,
 "nbformat_minor": 2
}
